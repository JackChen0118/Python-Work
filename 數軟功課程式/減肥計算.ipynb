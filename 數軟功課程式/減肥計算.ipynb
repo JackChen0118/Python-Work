{
 "cells": [
  {
   "cell_type": "code",
   "execution_count": 1,
   "metadata": {},
   "outputs": [],
   "source": [
    "%matplotlib inline\n",
    "import numpy as np\n",
    "import matplotlib.pyplot as plt\n",
    "import pandas as pd"
   ]
  },
  {
   "cell_type": "code",
   "execution_count": 11,
   "metadata": {},
   "outputs": [
    {
     "name": "stdout",
     "output_type": "stream",
     "text": [
      "根據報告指出 減肥一公斤需少攝取7700大卡\n",
      "本工具只計算飲食部分 並不包含運動消耗\n",
      "請輸入基礎代謝量 >>1800\n",
      "請輸入一天所攝取熱量 >>1700\n",
      "減肥一公斤 需花費9個月\n"
     ]
    }
   ],
   "source": [
    "print('根據報告指出 減肥一公斤需少攝取7700大卡')\n",
    "print('本工具只計算飲食部分 並不包含運動消耗')\n",
    "a=float(input('請輸入基礎代謝量 >>'))\n",
    "d=round(a/0.7)\n",
    "b=float(input('請輸入一天所攝取熱量 >>'))\n",
    "c=d-b\n",
    "e=round(7700/c)\n",
    "print('減肥一公斤 需花費'+str(e)+'個月')"
   ]
  },
  {
   "cell_type": "code",
   "execution_count": null,
   "metadata": {},
   "outputs": [],
   "source": []
  },
  {
   "cell_type": "code",
   "execution_count": null,
   "metadata": {},
   "outputs": [],
   "source": []
  },
  {
   "cell_type": "code",
   "execution_count": null,
   "metadata": {},
   "outputs": [],
   "source": []
  }
 ],
 "metadata": {
  "kernelspec": {
   "display_name": "Python 3",
   "language": "python",
   "name": "python3"
  },
  "language_info": {
   "codemirror_mode": {
    "name": "ipython",
    "version": 3
   },
   "file_extension": ".py",
   "mimetype": "text/x-python",
   "name": "python",
   "nbconvert_exporter": "python",
   "pygments_lexer": "ipython3",
   "version": "3.7.3"
  }
 },
 "nbformat": 4,
 "nbformat_minor": 2
}
