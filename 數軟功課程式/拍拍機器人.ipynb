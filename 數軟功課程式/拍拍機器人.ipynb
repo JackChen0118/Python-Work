{
 "cells": [
  {
   "cell_type": "code",
   "execution_count": 1,
   "metadata": {},
   "outputs": [
    {
     "name": "stdout",
     "output_type": "stream",
     "text": [
      ">>禮拜四的課好多QQ\n",
      "拍拍( ° △ °) \n",
      ">>而且從早八到晚上七點 中間只有一小時吃飯 \n",
      "拍拍( ° △ °) \n",
      ">>而且大家都在那個時間吃 都找不到餐廳\n",
      "拍拍( ° △ °) \n",
      ">>每次都只能買御飯糰(〒︿〒) \n",
      "拍拍( ° △ °) \n",
      ">>好~抱怨完畢~\n",
      "拍拍( ° △ °) \n",
      ">>bye bye\n",
      "拍拍( ° △ °) \n"
     ]
    }
   ],
   "source": [
    "a='aa'\n",
    "while (a!='bye bye'):\n",
    "    a=input('>>')\n",
    "    print('拍拍( ° △ °) ')\n",
    "    \n",
    "        "
   ]
  },
  {
   "cell_type": "code",
   "execution_count": null,
   "metadata": {},
   "outputs": [],
   "source": []
  }
 ],
 "metadata": {
  "kernelspec": {
   "display_name": "Python 3",
   "language": "python",
   "name": "python3"
  },
  "language_info": {
   "codemirror_mode": {
    "name": "ipython",
    "version": 3
   },
   "file_extension": ".py",
   "mimetype": "text/x-python",
   "name": "python",
   "nbconvert_exporter": "python",
   "pygments_lexer": "ipython3",
   "version": "3.7.3"
  }
 },
 "nbformat": 4,
 "nbformat_minor": 2
}
