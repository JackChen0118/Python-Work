{
 "cells": [
  {
   "cell_type": "code",
   "execution_count": 1,
   "metadata": {},
   "outputs": [],
   "source": [
    "%matplotlib inline\n",
    "\n",
    "import numpy as np\n",
    "import matplotlib.pyplot as plt\n",
    "import pandas as pd"
   ]
  },
  {
   "cell_type": "code",
   "execution_count": 2,
   "metadata": {},
   "outputs": [],
   "source": [
    "#估算一個月有四周 共20個工作天(需通勤)"
   ]
  },
  {
   "cell_type": "code",
   "execution_count": 4,
   "metadata": {},
   "outputs": [
    {
     "name": "stdout",
     "output_type": "stream",
     "text": [
      "請輸入單趟最小花費(轉乘) >>18\n",
      "請輸入單趟最大花費(轉乘) >>24\n",
      "不買\n"
     ]
    }
   ],
   "source": [
    "a=20\n",
    "b=int(input('請輸入單趟最小花費(轉乘) >>'))       #通勤單趟最小消費量\n",
    "c=int(input('請輸入單趟最大花費(轉乘) >>'))       #通勤單趟最大消費量\n",
    "d=a*b*2    #通勤最小消費量(月)\n",
    "e=a*c*2    #通勤最大消費量(月)\n",
    "f=(d+e)/2  #通勤平均消費量(月)\n",
    "if d>1280:\n",
    "    print('給我買月票!!')\n",
    "if d<1280 and f>1280:\n",
    "    g=1280-d\n",
    "    if g<150:\n",
    "        print('可以買,還差'+str(g)+'元')\n",
    "    else:\n",
    "        print('不買')\n",
    "if f<1280 and e>1280:\n",
    "    g=1280-f\n",
    "    if g<150:\n",
    "        print('可以買,還差'+str(g)+'元')\n",
    "    else:\n",
    "        print('不買')\n",
    "if e<1280:\n",
    "    print('不買')"
   ]
  },
  {
   "cell_type": "code",
   "execution_count": null,
   "metadata": {},
   "outputs": [],
   "source": []
  }
 ],
 "metadata": {
  "kernelspec": {
   "display_name": "Python 3",
   "language": "python",
   "name": "python3"
  },
  "language_info": {
   "codemirror_mode": {
    "name": "ipython",
    "version": 3
   },
   "file_extension": ".py",
   "mimetype": "text/x-python",
   "name": "python",
   "nbconvert_exporter": "python",
   "pygments_lexer": "ipython3",
   "version": "3.7.3"
  }
 },
 "nbformat": 4,
 "nbformat_minor": 2
}
