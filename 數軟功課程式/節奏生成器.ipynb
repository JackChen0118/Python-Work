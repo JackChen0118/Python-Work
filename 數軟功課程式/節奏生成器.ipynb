{
 "cells": [
  {
   "cell_type": "code",
   "execution_count": 2,
   "metadata": {},
   "outputs": [],
   "source": [
    "%matplotlib inline\n",
    "import numpy as np\n",
    "import matplotlib.pyplot as plt\n",
    "import pandas as pd\n",
    "import random"
   ]
  },
  {
   "cell_type": "code",
   "execution_count": 38,
   "metadata": {},
   "outputs": [],
   "source": [
    "rhythm=np.array([0.25*4,1,0.5*2,2,4])\n",
    "rhythm2=np.array([])\n",
    "a=0\n",
    "def f(x):\n",
    "    global rhythm2\n",
    "    b=0\n",
    "    if b!=x:\n",
    "        while b<x:\n",
    "            a=random.choice(rhythm)\n",
    "            print\n",
    "            if b+a<x:\n",
    "                b=a+rhythm2.sum()\n",
    "                rhythm2=list(rhythm2)\n",
    "                rhythm2.append(a)\n",
    "                rhythm2=np.array(rhythm2)\n",
    "            if b+a>x:\n",
    "                b=b-a\n",
    "        while b==x:\n",
    "            list(rhythm2)\n",
    "            print(rhythm2)    \n",
    "            break"
   ]
  },
  {
   "cell_type": "code",
   "execution_count": 39,
   "metadata": {},
   "outputs": [
    {
     "name": "stdout",
     "output_type": "stream",
     "text": [
      "[1. 2. 1. 1. 1. 1.]\n"
     ]
    }
   ],
   "source": [
    "f(6)"
   ]
  },
  {
   "cell_type": "code",
   "execution_count": null,
   "metadata": {},
   "outputs": [],
   "source": []
  },
  {
   "cell_type": "code",
   "execution_count": null,
   "metadata": {},
   "outputs": [],
   "source": []
  },
  {
   "cell_type": "code",
   "execution_count": null,
   "metadata": {},
   "outputs": [],
   "source": []
  }
 ],
 "metadata": {
  "kernelspec": {
   "display_name": "Python 3",
   "language": "python",
   "name": "python3"
  },
  "language_info": {
   "codemirror_mode": {
    "name": "ipython",
    "version": 3
   },
   "file_extension": ".py",
   "mimetype": "text/x-python",
   "name": "python",
   "nbconvert_exporter": "python",
   "pygments_lexer": "ipython3",
   "version": "3.7.3"
  }
 },
 "nbformat": 4,
 "nbformat_minor": 2
}
