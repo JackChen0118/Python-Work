{
 "cells": [
  {
   "cell_type": "code",
   "execution_count": 13,
   "metadata": {},
   "outputs": [],
   "source": [
    "%matplotlib inline \n",
    "\n",
    "import numpy as np\n",
    "import matplotlib.pyplot as plt\n",
    "import pandas as pd\n",
    "import datetime\n",
    "import time"
   ]
  },
  {
   "cell_type": "code",
   "execution_count": 30,
   "metadata": {
    "scrolled": true
   },
   "outputs": [
    {
     "name": "stdout",
     "output_type": "stream",
     "text": [
      "請輸入出生年分月日(yyyy-mm-dd) >> 2001-01-18\n",
      "你的心臟已經跳了6億下了\n"
     ]
    }
   ],
   "source": [
    "today=datetime.datetime.today()\n",
    "a=input('請輸入出生年分月日(yyyy-mm-dd) >> ')\n",
    "birthday = datetime.datetime.strptime(a,'%Y-%m-%d')\n",
    "c=(today - birthday).days\n",
    "d=c*100800\n",
    "if 10**7<d<10**8:\n",
    "    print('你的心臟已經跳了'+str(int(d/10**7))+'千萬下了')\n",
    "if 10**8<d<10**9:\n",
    "     print('你的心臟已經跳了'+str(int(d/10**8))+'億下了')\n",
    "if 10**9<d<10**10:\n",
    "     print('你的心臟已經跳了'+str(int(d/10**9))+'十億下了')"
   ]
  },
  {
   "cell_type": "code",
   "execution_count": null,
   "metadata": {},
   "outputs": [],
   "source": []
  },
  {
   "cell_type": "code",
   "execution_count": null,
   "metadata": {},
   "outputs": [],
   "source": []
  },
  {
   "cell_type": "code",
   "execution_count": null,
   "metadata": {},
   "outputs": [],
   "source": []
  }
 ],
 "metadata": {
  "kernelspec": {
   "display_name": "Python 3",
   "language": "python",
   "name": "python3"
  },
  "language_info": {
   "codemirror_mode": {
    "name": "ipython",
    "version": 3
   },
   "file_extension": ".py",
   "mimetype": "text/x-python",
   "name": "python",
   "nbconvert_exporter": "python",
   "pygments_lexer": "ipython3",
   "version": "3.7.3"
  }
 },
 "nbformat": 4,
 "nbformat_minor": 2
}
