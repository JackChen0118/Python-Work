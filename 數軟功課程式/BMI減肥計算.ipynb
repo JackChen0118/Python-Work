{
 "cells": [
  {
   "cell_type": "code",
   "execution_count": 2,
   "metadata": {},
   "outputs": [],
   "source": [
    "%matplotlib inline\n",
    "\n",
    "import numpy as np\n",
    "import matplotlib.pyplot as plt\n",
    "import pandas as pd"
   ]
  },
  {
   "cell_type": "code",
   "execution_count": 6,
   "metadata": {},
   "outputs": [
    {
     "name": "stdout",
     "output_type": "stream",
     "text": [
      "根據報告指出 減肥一公斤需少攝取7700大卡\n",
      "成人的BMI標準為18.5~24\n",
      "請輸入身高(公分)165\n",
      "請輸入體重72\n",
      "您的BMI為26過重\n",
      "最標準體重為57公斤尚須減少攝取115500.0大卡熱量\n"
     ]
    }
   ],
   "source": [
    "print('根據報告指出 減肥一公斤需少攝取7700大卡')\n",
    "print('成人的BMI標準為18.5~24')\n",
    "a=float(input('請輸入身高(公分)'))\n",
    "b=float(input('請輸入體重'))\n",
    "c=int(b/((a/100)*(a/100)))\n",
    "d=int(21*(a/100)*(a/100))\n",
    "e=b-d\n",
    "if c<18.5:\n",
    "    print('您的BMI為'+str(int(c))+'為過輕體重')\n",
    "    print('最標準體重為'+str(d)+'公斤')\n",
    "elif 18.5<=c<24:\n",
    "    print('您的BMI為'+str(int(c))+'為標準BMI值')\n",
    "    print('最標準體重為'+str(d)+'公斤')\n",
    "elif 24<=c<27:\n",
    "    print('您的BMI為'+str(int(c))+'過重')\n",
    "    print('最標準體重為'+str(d)+'公斤'+'尚須減少攝取'+str(e*7700)+'大卡熱量')\n",
    "elif 27<=c<30:\n",
    "    print('您的BMI為'+str(int(c))+'輕度肥胖')\n",
    "    print('最標準體重為'+str(d)+'公斤'+'尚須減少攝取'+str(e*7700)+'大卡熱量')\n",
    "elif 30<=c<35:\n",
    "    print('您的BMI為'+str(int(c))+'中度肥胖')\n",
    "    print('最標準體重為'+str(d)+'公斤'+'尚須減少攝取'+str(e*7700)+'大卡熱量')\n",
    "elif c>35:\n",
    "    print('您的BMI為'+str(int(c))+'重度肥胖')\n",
    "    print('最標準體重為'+str(d)+'公斤'+'尚須減少攝取'+str(e*7700)+'大卡熱量')"
   ]
  },
  {
   "cell_type": "code",
   "execution_count": null,
   "metadata": {},
   "outputs": [],
   "source": []
  }
 ],
 "metadata": {
  "kernelspec": {
   "display_name": "Python 3",
   "language": "python",
   "name": "python3"
  },
  "language_info": {
   "codemirror_mode": {
    "name": "ipython",
    "version": 3
   },
   "file_extension": ".py",
   "mimetype": "text/x-python",
   "name": "python",
   "nbconvert_exporter": "python",
   "pygments_lexer": "ipython3",
   "version": "3.7.3"
  }
 },
 "nbformat": 4,
 "nbformat_minor": 2
}
