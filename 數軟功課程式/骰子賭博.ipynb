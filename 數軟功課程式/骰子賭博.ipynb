{
 "cells": [
  {
   "cell_type": "code",
   "execution_count": 1,
   "metadata": {},
   "outputs": [],
   "source": [
    "%matplotlib inline\n",
    "import numpy as np\n",
    "import matplotlib.pyplot as plt\n",
    "import pandas as pd\n",
    "from numpy.random import randint"
   ]
  },
  {
   "cell_type": "markdown",
   "metadata": {},
   "source": [
    "### 10/20 加入賭博功能   10/26加入猜骰子點數和奇偶"
   ]
  },
  {
   "cell_type": "code",
   "execution_count": 4,
   "metadata": {
    "scrolled": true
   },
   "outputs": [
    {
     "name": "stdout",
     "output_type": "stream",
     "text": [
      "這裡是賭博比大小 起始金額為0元\n",
      "獲勝一次得500元 失敗一次扣500元\n",
      "比大小 or 猜奇偶(1/2)1\n",
      "這裡是比大小系統 比骰子的點數 共1個骰子\n",
      "您的數字為5\n",
      "電腦的數字為2\n",
      "恭喜你贏囉☝( ◠‿◠ )☝  您的金額為500\n",
      "比大小 or 猜奇偶(1/2)2\n",
      "這裡是猜奇偶系統 猜骰子的點數總和 共3個骰子\n",
      "奇數 or 偶數 (1/2)2\n",
      "骰子的點數和為8\n",
      "可惜猜錯了ŏ_ŏ 獎金-1000  您的金額為-500\n",
      "您的金額已經沒有囉\n"
     ]
    }
   ],
   "source": [
    "print('這裡是賭博比大小 起始金額為0元')\n",
    "print('獲勝一次得500元 失敗一次扣500元')\n",
    "e=0\n",
    "b=input('比大小 or 猜奇偶(1/2)')\n",
    "while b=='1':\n",
    "    print('這裡是比大小系統 比骰子的點數 共1個骰子')\n",
    "    c=randint(1,7)\n",
    "    print('您的數字為'+str(c))\n",
    "    a=randint(1,7)\n",
    "    print('電腦的數字為'+str(a))\n",
    "    if a<c:\n",
    "        e=e+500\n",
    "        print('恭喜你贏囉☝( ◠‿◠ )☝'+'  您的金額為'+str(e))\n",
    "        b=input('比大小 or 猜奇偶(1/2)')\n",
    "    elif a>c :\n",
    "        e=e-500\n",
    "        if e<0:\n",
    "            print('您的金額已經沒有囉')\n",
    "            break\n",
    "        print('可惜你輸囉｡ŏ_ŏ'+'  您的金額為'+str(e))\n",
    "        b=input('比大小 or 猜奇偶(1/2)')\n",
    "    elif a==c:\n",
    "        print('平手ლ(╹◡╹ლ)'+'您的金額為'+str(e))\n",
    "        b=input('比大小 or 猜奇偶(1/2)')\n",
    "while b=='2':\n",
    "    print('這裡是猜奇偶系統 猜骰子的點數總和 共3個骰子')\n",
    "    bb=input('奇數 or 偶數 (1/2)')\n",
    "    a1=randint(1,7)\n",
    "    a2=randint(1,7)\n",
    "    a3=randint(1,7)\n",
    "    aa=(a1+a2+a3)/2\n",
    "    print('骰子的點數和為'+str(a1+a2+a3))\n",
    "    if int(bb)==aa:\n",
    "        e=e+1000\n",
    "        print('恭喜猜中囉 獲得獎金1000元'+'  您的金額為'+str(e))\n",
    "        b=input('比大小 or 猜奇偶 (1/2)')\n",
    "    else:\n",
    "        e=e-1000\n",
    "        print('可惜猜錯了ŏ_ŏ 獎金-1000'+'  您的金額為'+str(e))\n",
    "        if e<0:\n",
    "            print('您的金額已經沒有囉')\n",
    "            break\n",
    "        b=input('比大小 or 猜奇偶(1/2)')\n",
    "if b=='N':\n",
    "    print('不玩就算惹｡ﾟヽ(ﾟ´Д`)ﾉﾟ｡ ')"
   ]
  },
  {
   "cell_type": "code",
   "execution_count": null,
   "metadata": {},
   "outputs": [],
   "source": []
  },
  {
   "cell_type": "code",
   "execution_count": null,
   "metadata": {},
   "outputs": [],
   "source": []
  }
 ],
 "metadata": {
  "kernelspec": {
   "display_name": "Python 3",
   "language": "python",
   "name": "python3"
  },
  "language_info": {
   "codemirror_mode": {
    "name": "ipython",
    "version": 3
   },
   "file_extension": ".py",
   "mimetype": "text/x-python",
   "name": "python",
   "nbconvert_exporter": "python",
   "pygments_lexer": "ipython3",
   "version": "3.7.3"
  }
 },
 "nbformat": 4,
 "nbformat_minor": 2
}
