{
 "cells": [
  {
   "cell_type": "code",
   "execution_count": 5,
   "metadata": {},
   "outputs": [],
   "source": [
    "%matplotlib inline\n",
    "\n",
    "import numpy as np\n",
    "import matplotlib.pyplot as plt\n",
    "import pandas as pd\n",
    "import random\n",
    "from numpy.random import randint\n",
    "from ipywidgets import interact"
   ]
  },
  {
   "cell_type": "code",
   "execution_count": 1,
   "metadata": {},
   "outputs": [],
   "source": [
    "##首先玩家手上會有5000元的資金 透過遊戲將資金滾大\n",
    "\n",
    "#遊戲1 黑心囤貨商人 類似股票運作方式 改為囤積水果\n",
    "#      首先會公布今日的水果價格 讓玩家決定需買入數量\n",
    "#      接著隔天公布新的水果價格 所有囤積水果強制賣出 並公布現有資金 繼續購入新的水果\n",
    "#遊戲2 骰骰子猜奇數偶數&比大小\n",
    "#      有擲骰子猜奇數&或是與電腦比大小\n",
    "#遊戲三 宮廟抽籤\n",
    "#      將宮廟的籤運加上金額隨機抽取"
   ]
  },
  {
   "cell_type": "code",
   "execution_count": 10,
   "metadata": {},
   "outputs": [],
   "source": [
    "def f(x):\n",
    "    spam=5000\n",
    "    if x==1:        #遊戲1 黑心囤貨商人 類似股票運作方式 改為囤積水果\n",
    "        a=0\n",
    "        b=0\n",
    "        c=0\n",
    "        d=0\n",
    "        e=0\n",
    "        f=0\n",
    "        while spam!=0:\n",
    "            print('您的現有餘額為'+str(spam)+'元')\n",
    "            a=randint(1,10)\n",
    "            b=randint(1,10)\n",
    "            c=randint(1,10)\n",
    "            print('今日的香蕉價格為一公斤'+str(a)+'百元')\n",
    "            print('今日的橘子價格為一公斤'+str(b)+'百元')\n",
    "            print('今日的葡萄價格為一公斤'+str(c)+'百元')\n",
    "            spam=spam+a*d*100+b*e*100+c*e*100\n",
    "            print('您的現有資金為'+str(spam)+'元')\n",
    "            d=int(input('請輸入欲購買的香蕉公斤數 >>'))\n",
    "            spam=spam-d*a*100\n",
    "            print('現有餘額為'+str(spam)+'元')\n",
    "            e=int(input('請輸入欲購買的橘子公斤數 >>'))\n",
    "            spam=spam-e*b*100\n",
    "            print('現有餘額為'+str(spam)+'元')\n",
    "            f=int(input('請輸入欲購買的葡萄公斤數 >>'))\n",
    "            spam=spam-f*c*100\n",
    "            print('現有餘額為'+str(spam)+'元')\n",
    "            egg=input('日落中...菜價重新波動 是否公布新菜價?(Y/N)')\n",
    "    if x==2:                     #遊戲2 骰骰子猜奇數偶數&比大小\n",
    "        print('這裡是賭博比大小 起始金額為5000元')\n",
    "        print('獲勝一次得500元 失敗一次扣500元')\n",
    "        b=input('比大小 or 猜奇偶(1/2)')\n",
    "        while b=='1':\n",
    "            print('這裡是比大小系統 比骰子的點數 共1個骰子')\n",
    "            c=randint(1,7)\n",
    "            print('您的數字為'+str(c))\n",
    "            a=randint(1,7)\n",
    "            print('電腦的數字為'+str(a))\n",
    "            if a<c:\n",
    "                spam=spam+500\n",
    "                print('恭喜你贏囉☝( ◠‿◠ )☝'+'  您的金額為'+str(spam))\n",
    "                b=input('比大小 or 猜奇偶(1/2)')\n",
    "            elif a>c :\n",
    "                spam=spam-500\n",
    "                if spam<0:\n",
    "                    print('您的金額已經沒有囉')\n",
    "                    break\n",
    "                print('可惜你輸囉｡ŏ_ŏ'+'  您的金額為'+str(spam))\n",
    "                b=input('比大小 or 猜奇偶(1/2)')\n",
    "            elif a==c:\n",
    "                print('平手ლ(╹◡╹ლ)'+'您的金額為'+str(spam))\n",
    "                b=input('比大小 or 猜奇偶(1/2)')\n",
    "        while b=='2':\n",
    "            print('這裡是猜奇偶系統 猜骰子的點數總和 共3個骰子')\n",
    "            bb=input('奇數 or 偶數 (1/2)')\n",
    "            a1=randint(1,7)\n",
    "            a2=randint(1,7)\n",
    "            a3=randint(1,7)\n",
    "            aa=(a1+a2+a3)/2\n",
    "            print('骰子的點數和為'+str(a1+a2+a3))\n",
    "            if int(bb)==aa:\n",
    "                spam=spam+1000\n",
    "                print('恭喜猜中囉 獲得獎金1000元'+'  您的金額為'+str(spam))\n",
    "                b=input('比大小 or 猜奇偶 (1/2)')\n",
    "            else:\n",
    "                spam=spam-1000\n",
    "                print('可惜猜錯了ŏ_ŏ 獎金-1000'+'  您的金額為'+str(spam))\n",
    "                if spam<0:\n",
    "                    print('您的金額已經沒有囉')\n",
    "                    break\n",
    "                else:\n",
    "                    b=input('比大小 or 猜奇偶(1/2)')\n",
    "    if x==3:                    #遊戲三 宮廟抽籤\n",
    "        print('這裡是宮廟抽籤系統 心誠則靈 一次為550元')\n",
    "        a=['大吉', '中吉', '小吉', '末吉', '中平','中下','下下']\n",
    "        b=random.choice( ['大吉 +800', '中吉 +700', '小吉 +600', '末吉 +500', '中平 +0','中下 -550','下下 -750'])\n",
    "        print(b)\n",
    "        if b=='大吉 +800':\n",
    "            spam=spam+800\n",
    "            print('恭喜你贏囉☝( ◠‿◠ )☝'+'  您的金額為'+str(spam))\n",
    "        if b=='中吉 +700':\n",
    "            spam=spam+700\n",
    "            print('恭喜你贏囉☝( ◠‿◠ )☝'+'  您的金額為'+str(spam))\n",
    "        if b=='小吉 +600':\n",
    "            spam=spam+600\n",
    "            print('恭喜你贏囉☝( ◠‿◠ )☝'+'  您的金額為'+str(spam))\n",
    "        if b=='末吉 +500':\n",
    "            spam=spam+500\n",
    "            print('恭喜你贏囉☝( ◠‿◠ )☝'+'  您的金額為'+str(spam))\n",
    "        if b=='中下 -550':\n",
    "            spam=spam-550\n",
    "            print('可惜你輸了ŏ_ŏ'+'  您的金額為'+str(spam))\n",
    "            if spam<0:\n",
    "                print('您的金額已經沒有囉')\n",
    "        if b=='下下 -750':\n",
    "            spam=spam-750\n",
    "            print('可惜你輸了ŏ_ŏ'+'  您的金額為'+str(spam))\n",
    "            if spam<0:\n",
    "                print('您的金額已經沒有囉')"
   ]
  },
  {
   "cell_type": "code",
   "execution_count": null,
   "metadata": {},
   "outputs": [
    {
     "name": "stdout",
     "output_type": "stream",
     "text": [
      "請輸入您要遊玩的遊戲(黑心囤貨商人/1, 骰子點數賭博/2, 宮廟抽籤/3 )1\n",
      "您的現有餘額為5000元\n",
      "今日的香蕉價格為一公斤6百元\n",
      "今日的橘子價格為一公斤5百元\n",
      "今日的葡萄價格為一公斤4百元\n",
      "您的現有資金為5000元\n",
      "請輸入欲購買的香蕉公斤數 >>0\n",
      "現有餘額為5000元\n",
      "請輸入欲購買的橘子公斤數 >>3\n",
      "現有餘額為3500元\n",
      "請輸入欲購買的葡萄公斤數 >>5\n",
      "現有餘額為1500元\n",
      "日落中...菜價重新波動 是否公布新菜價?(Y/N)Y\n",
      "您的現有餘額為1500元\n",
      "今日的香蕉價格為一公斤7百元\n",
      "今日的橘子價格為一公斤3百元\n",
      "今日的葡萄價格為一公斤6百元\n",
      "您的現有資金為4200元\n"
     ]
    }
   ],
   "source": [
    "hh=int(input('請輸入您要遊玩的遊戲(黑心囤貨商人/1, 骰子點數賭博/2, 宮廟抽籤/3 )'))\n",
    "f(hh)"
   ]
  },
  {
   "cell_type": "code",
   "execution_count": 3,
   "metadata": {},
   "outputs": [
    {
     "name": "stdout",
     "output_type": "stream",
     "text": [
      "請輸入您要遊玩的遊戲(黑心囤貨商人/1, 骰子點數賭博/2, 宮廟抽籤/3 )2\n",
      "這裡是賭博比大小 起始金額為5000元\n",
      "獲勝一次得500元 失敗一次扣500元\n",
      "比大小 or 猜奇偶(1/2)1\n",
      "這裡是比大小系統 比骰子的點數 共1個骰子\n",
      "您的數字為1\n",
      "電腦的數字為5\n",
      "可惜你輸囉｡ŏ_ŏ  您的金額為4500\n",
      "比大小 or 猜奇偶(1/2)1\n",
      "這裡是比大小系統 比骰子的點數 共1個骰子\n",
      "您的數字為1\n",
      "電腦的數字為3\n",
      "可惜你輸囉｡ŏ_ŏ  您的金額為4000\n",
      "比大小 or 猜奇偶(1/2)2\n",
      "這裡是猜奇偶系統 猜骰子的點數總和 共3個骰子\n",
      "奇數 or 偶數 (1/2)2\n",
      "骰子的點數和為5\n",
      "可惜猜錯了ŏ_ŏ 獎金-1000  您的金額為3000\n",
      "比大小 or 猜奇偶(1/2)N\n"
     ]
    }
   ],
   "source": [
    "hh=int(input('請輸入您要遊玩的遊戲(黑心囤貨商人/1, 骰子點數賭博/2, 宮廟抽籤/3 )'))\n",
    "f(hh)"
   ]
  },
  {
   "cell_type": "code",
   "execution_count": 11,
   "metadata": {},
   "outputs": [
    {
     "name": "stdout",
     "output_type": "stream",
     "text": [
      "請輸入您要遊玩的遊戲(黑心囤貨商人/1, 骰子點數賭博/2, 宮廟抽籤/3 )3\n",
      "這裡是宮廟抽籤系統 心誠則靈 一次為550元\n",
      "中下 -550\n",
      "可惜你輸了ŏ_ŏ  您的金額為4450\n"
     ]
    }
   ],
   "source": [
    "hh=int(input('請輸入您要遊玩的遊戲(黑心囤貨商人/1, 骰子點數賭博/2, 宮廟抽籤/3 )'))\n",
    "f(hh)"
   ]
  },
  {
   "cell_type": "code",
   "execution_count": null,
   "metadata": {},
   "outputs": [],
   "source": []
  },
  {
   "cell_type": "code",
   "execution_count": null,
   "metadata": {},
   "outputs": [],
   "source": []
  },
  {
   "cell_type": "code",
   "execution_count": null,
   "metadata": {},
   "outputs": [],
   "source": []
  }
 ],
 "metadata": {
  "kernelspec": {
   "display_name": "Python 3",
   "language": "python",
   "name": "python3"
  },
  "language_info": {
   "codemirror_mode": {
    "name": "ipython",
    "version": 3
   },
   "file_extension": ".py",
   "mimetype": "text/x-python",
   "name": "python",
   "nbconvert_exporter": "python",
   "pygments_lexer": "ipython3",
   "version": "3.7.3"
  }
 },
 "nbformat": 4,
 "nbformat_minor": 2
}
