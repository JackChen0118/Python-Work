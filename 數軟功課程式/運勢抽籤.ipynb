{
 "cells": [
  {
   "cell_type": "code",
   "execution_count": 6,
   "metadata": {},
   "outputs": [],
   "source": [
    "%matplotlib inline\n",
    "import numpy as np\n",
    "import matplotlib.pyplot as plt\n",
    "import pandas as pd\n",
    "import random"
   ]
  },
  {
   "cell_type": "code",
   "execution_count": 7,
   "metadata": {},
   "outputs": [
    {
     "name": "stdout",
     "output_type": "stream",
     "text": [
      "這裡是宮廟抽籤系統 心誠則靈\n",
      "請問你請示何種方面的籤呢?  >> 事業\n",
      "末吉\n"
     ]
    }
   ],
   "source": [
    "print('這裡是宮廟抽籤系統 心誠則靈')\n",
    "n=input ('請問你請示何種方面的籤呢?  >> ')\n",
    "while n!='nn':\n",
    "    print(random.choice ( ['大吉', '中吉', '小吉', '末吉', '中平','中下','下下'] ))\n",
    "    break"
   ]
  },
  {
   "cell_type": "code",
   "execution_count": null,
   "metadata": {},
   "outputs": [],
   "source": []
  }
 ],
 "metadata": {
  "kernelspec": {
   "display_name": "Python 3",
   "language": "python",
   "name": "python3"
  },
  "language_info": {
   "codemirror_mode": {
    "name": "ipython",
    "version": 3
   },
   "file_extension": ".py",
   "mimetype": "text/x-python",
   "name": "python",
   "nbconvert_exporter": "python",
   "pygments_lexer": "ipython3",
   "version": "3.7.3"
  }
 },
 "nbformat": 4,
 "nbformat_minor": 2
}
