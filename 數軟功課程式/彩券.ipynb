{
 "cells": [
  {
   "cell_type": "code",
   "execution_count": 5,
   "metadata": {},
   "outputs": [],
   "source": [
    "%matplotlib inline\n",
    "import numpy as np\n",
    "import matplotlib.pyplot as plt\n",
    "import pandas as pd\n",
    "from numpy.random import randint"
   ]
  },
  {
   "cell_type": "code",
   "execution_count": 11,
   "metadata": {},
   "outputs": [
    {
     "name": "stdout",
     "output_type": "stream",
     "text": [
      "這裡是三星彩 請輸入您要選的數字號碼(1~30)\n",
      "請輸入數字1 >>25\n",
      "請輸入數字2 >>16\n",
      "請輸入數字3 >>29\n",
      "您選的號碼為[25, 16, 29]\n",
      "開獎號碼為[5, 29, 19]\n",
      "可惜沒中獎(╥﹏╥) \n"
     ]
    }
   ],
   "source": [
    "print('這裡是三星彩 請輸入您要選的數字號碼(1~30)')\n",
    "num=[]\n",
    "pri=[]\n",
    "win=[]\n",
    "a=int(input('請輸入數字1 >>'))\n",
    "b=int(input('請輸入數字2 >>'))\n",
    "c=int(input('請輸入數字3 >>'))\n",
    "num.append(a)\n",
    "num.append(b)\n",
    "num.append(c)\n",
    "print('您選的號碼為'+str(num))\n",
    "for i in num:\n",
    "    e=randint(1,31)\n",
    "    pri.append(e)\n",
    "    if i==e:\n",
    "        win.append(e)\n",
    "print('開獎號碼為'+str(pri))\n",
    "if len(win)==1:\n",
    "    print('您獲得了獎金400元')\n",
    "elif len(win)==1:\n",
    "    print('您獲得了獎金1000元')    \n",
    "elif len(win)==1:\n",
    "    print('您獲得了獎金2500元')\n",
    "if len(win)==0:\n",
    "    print('可惜沒中獎(╥﹏╥) ')"
   ]
  },
  {
   "cell_type": "code",
   "execution_count": null,
   "metadata": {},
   "outputs": [],
   "source": []
  },
  {
   "cell_type": "code",
   "execution_count": null,
   "metadata": {},
   "outputs": [],
   "source": []
  }
 ],
 "metadata": {
  "kernelspec": {
   "display_name": "Python 3",
   "language": "python",
   "name": "python3"
  },
  "language_info": {
   "codemirror_mode": {
    "name": "ipython",
    "version": 3
   },
   "file_extension": ".py",
   "mimetype": "text/x-python",
   "name": "python",
   "nbconvert_exporter": "python",
   "pygments_lexer": "ipython3",
   "version": "3.7.3"
  }
 },
 "nbformat": 4,
 "nbformat_minor": 2
}
