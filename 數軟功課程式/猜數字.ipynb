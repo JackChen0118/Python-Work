{
 "cells": [
  {
   "cell_type": "code",
   "execution_count": 1,
   "metadata": {},
   "outputs": [],
   "source": [
    "%matplotlib inline\n",
    "\n",
    "import numpy as np\n",
    "import matplotlib.pyplot as plt\n",
    "import pandas as pd\n",
    "from numpy.random import randint"
   ]
  },
  {
   "cell_type": "code",
   "execution_count": 2,
   "metadata": {},
   "outputs": [
    {
     "name": "stdout",
     "output_type": "stream",
     "text": [
      "這裡是猜數字遊戲~\n",
      "請輸入1~100的數字 >>80\n",
      "大一點\n",
      "請輸入1~100的數字 >>90\n",
      "大一點\n",
      "請輸入1~100的數字 >>95\n",
      "小一點\n",
      "請輸入1~100的數字 >>92\n",
      "恭喜你猜對囉ヽ(●´∀`●)ﾉ \n"
     ]
    }
   ],
   "source": [
    "print('這裡是猜數字遊戲~')\n",
    "a=randint(1,101)\n",
    "while a!=0:\n",
    "    b=int(input('請輸入1~100的數字 >>'))\n",
    "    if a>b:\n",
    "        print('大一點')\n",
    "    if a<b:\n",
    "        print('小一點')\n",
    "    if a==b:\n",
    "        print('恭喜你猜對囉ヽ(●´∀`●)ﾉ ')\n",
    "        break"
   ]
  },
  {
   "cell_type": "code",
   "execution_count": null,
   "metadata": {},
   "outputs": [],
   "source": []
  },
  {
   "cell_type": "code",
   "execution_count": null,
   "metadata": {},
   "outputs": [],
   "source": []
  }
 ],
 "metadata": {
  "kernelspec": {
   "display_name": "Python 3",
   "language": "python",
   "name": "python3"
  },
  "language_info": {
   "codemirror_mode": {
    "name": "ipython",
    "version": 3
   },
   "file_extension": ".py",
   "mimetype": "text/x-python",
   "name": "python",
   "nbconvert_exporter": "python",
   "pygments_lexer": "ipython3",
   "version": "3.7.3"
  }
 },
 "nbformat": 4,
 "nbformat_minor": 2
}
