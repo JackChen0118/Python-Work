{
 "cells": [
  {
   "cell_type": "code",
   "execution_count": 2,
   "metadata": {},
   "outputs": [],
   "source": [
    "%matplotlib inline\n",
    "import numpy as np\n",
    "import matplotlib.pyplot as plt\n",
    "import pandas as pd\n",
    "from ipywidgets import interact"
   ]
  },
  {
   "cell_type": "code",
   "execution_count": 5,
   "metadata": {},
   "outputs": [],
   "source": [
    "def f(x):\n",
    "    if x=='潤餅':\n",
    "        print('495大卡')\n",
    "    if x=='沙威瑪':\n",
    "        print('300大卡')\n",
    "    if x=='肉圓':\n",
    "        print('494大卡')\n",
    "    if x=='營養三明治':\n",
    "        print('468大卡')\n",
    "    if x=='紅豆餅':\n",
    "        print('226大卡')\n",
    "    if x=='章魚燒(6個)':\n",
    "        print('297大卡')\n",
    "    if x=='蚵仔煎':\n",
    "        print('516大卡')\n",
    "    if x=='蔥抓餅':\n",
    "        print('290大卡')\n",
    "    if x=='鍋貼(10個)':\n",
    "        print('753大卡')\n",
    "    if x=='豬血糕':\n",
    "        print('235大卡')\n",
    "    if x=='米糕':\n",
    "        print('515大卡')\n",
    "    if x=='烤玉米':\n",
    "        print('300大卡')\n",
    "    if x=='炭烤雞排':\n",
    "        print('438大卡')"
   ]
  },
  {
   "cell_type": "code",
   "execution_count": 6,
   "metadata": {},
   "outputs": [
    {
     "name": "stdout",
     "output_type": "stream",
     "text": [
      "這裡是熱量計算小工具\n",
      "請選擇食物\n"
     ]
    },
    {
     "data": {
      "application/vnd.jupyter.widget-view+json": {
       "model_id": "ce28767f6d1a43a9aa89283de348d4ac",
       "version_major": 2,
       "version_minor": 0
      },
      "text/plain": [
       "interactive(children=(Dropdown(description='x', options=('潤餅', '沙威瑪', '肉圓', '營養三明治', '紅豆餅', '章魚燒(6個)', '蚵仔煎', …"
      ]
     },
     "metadata": {},
     "output_type": "display_data"
    },
    {
     "data": {
      "text/plain": [
       "<function __main__.f(x)>"
      ]
     },
     "execution_count": 6,
     "metadata": {},
     "output_type": "execute_result"
    }
   ],
   "source": [
    "print('這裡是熱量計算小工具')\n",
    "print('請選擇食物')\n",
    "interact(f,x=['潤餅','沙威瑪','肉圓','營養三明治','紅豆餅','章魚燒(6個)','蚵仔煎','蔥抓餅','鍋貼(10個)','豬血糕','米糕','烤玉米','炭烤雞排'])"
   ]
  },
  {
   "cell_type": "code",
   "execution_count": null,
   "metadata": {},
   "outputs": [],
   "source": []
  }
 ],
 "metadata": {
  "kernelspec": {
   "display_name": "Python 3",
   "language": "python",
   "name": "python3"
  },
  "language_info": {
   "codemirror_mode": {
    "name": "ipython",
    "version": 3
   },
   "file_extension": ".py",
   "mimetype": "text/x-python",
   "name": "python",
   "nbconvert_exporter": "python",
   "pygments_lexer": "ipython3",
   "version": "3.7.3"
  }
 },
 "nbformat": 4,
 "nbformat_minor": 2
}
