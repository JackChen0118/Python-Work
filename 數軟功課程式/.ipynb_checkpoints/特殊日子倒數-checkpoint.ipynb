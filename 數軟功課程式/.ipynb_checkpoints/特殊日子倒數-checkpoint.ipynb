{
 "cells": [
  {
   "cell_type": "code",
   "execution_count": 1,
   "metadata": {},
   "outputs": [],
   "source": [
    "%matplotlib inline\n",
    "import numpy as np\n",
    "import matplotlib.pyplot as plt\n",
    "import pandas as pd"
   ]
  },
  {
   "cell_type": "code",
   "execution_count": 4,
   "metadata": {},
   "outputs": [
    {
     "name": "stdout",
     "output_type": "stream",
     "text": [
      "請輸入節日名稱 >>寒假\n",
      "請輸入節日年份 >>2020\n",
      "請輸入節日月份 >>1\n",
      "請輸入節日日期 >>10\n",
      "距離寒假還剩下74天\n"
     ]
    }
   ],
   "source": [
    "import time\n",
    "import datetime\n",
    "today = datetime.date.today()\n",
    "a=input('請輸入節日名稱 >>')\n",
    "b=int(input('請輸入節日年份 >>'))\n",
    "c=int(input('請輸入節日月份 >>'))\n",
    "d=int(input('請輸入節日日期 >>'))\n",
    "dday = datetime.date(b,c,d)\n",
    "result = dday-today\n",
    "print ('距離'+a+'還剩下'+str(result.days)+'天')"
   ]
  },
  {
   "cell_type": "code",
   "execution_count": null,
   "metadata": {},
   "outputs": [],
   "source": []
  },
  {
   "cell_type": "code",
   "execution_count": null,
   "metadata": {},
   "outputs": [],
   "source": []
  }
 ],
 "metadata": {
  "kernelspec": {
   "display_name": "Python 3",
   "language": "python",
   "name": "python3"
  },
  "language_info": {
   "codemirror_mode": {
    "name": "ipython",
    "version": 3
   },
   "file_extension": ".py",
   "mimetype": "text/x-python",
   "name": "python",
   "nbconvert_exporter": "python",
   "pygments_lexer": "ipython3",
   "version": "3.7.3"
  }
 },
 "nbformat": 4,
 "nbformat_minor": 2
}
