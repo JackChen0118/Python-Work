{
 "cells": [
  {
   "cell_type": "code",
   "execution_count": 1,
   "metadata": {},
   "outputs": [],
   "source": [
    "%matplotlib inline\n",
    "import numpy as np\n",
    "import matplotlib.pyplot as plt\n",
    "import pandas as pd\n",
    "from numpy.random import randint"
   ]
  },
  {
   "cell_type": "code",
   "execution_count": null,
   "metadata": {},
   "outputs": [
    {
     "name": "stdout",
     "output_type": "stream",
     "text": [
      "你是一位黑心囤貨商人 想辦法得到最高利潤\n",
      "起始金額為5千元\n",
      "是否要進行遊玩(Y/N)Y\n",
      "您的現有餘額為5000元\n",
      "今日的香蕉價格為一公斤2百元\n",
      "今日的橘子價格為一公斤4百元\n",
      "今日的葡萄價格為一公斤2百元\n",
      "您的現有資金為5000元\n",
      "請輸入欲購買的香蕉公斤數 >>5\n",
      "現有餘額為4000元\n",
      "請輸入欲購買的橘子公斤數 >>8\n",
      "現有餘額為800元\n",
      "請輸入欲購買的葡萄公斤數 >>4\n",
      "現有餘額為0元\n",
      "日落中...菜價重新波動 是否公布新菜價?(Y/N)Y\n",
      "您的現有餘額為0元\n",
      "今日的香蕉價格為一公斤1百元\n",
      "今日的橘子價格為一公斤9百元\n",
      "今日的葡萄價格為一公斤3百元\n",
      "您的現有資金為10100元\n"
     ]
    }
   ],
   "source": [
    "spam=5000\n",
    "a=0\n",
    "b=0\n",
    "c=0\n",
    "d=0\n",
    "e=0\n",
    "f=0\n",
    "print('你是一位黑心囤貨商人 想辦法得到最高利潤')\n",
    "print('起始金額為5千元')\n",
    "egg=input('是否要進行遊玩(Y/N)')\n",
    "while egg=='Y':\n",
    "    print('您的現有餘額為'+str(spam)+'元')\n",
    "    a=randint(1,10)\n",
    "    b=randint(1,10)\n",
    "    c=randint(1,10)\n",
    "    print('今日的香蕉價格為一公斤'+str(a)+'百元')\n",
    "    print('今日的橘子價格為一公斤'+str(b)+'百元')\n",
    "    print('今日的葡萄價格為一公斤'+str(c)+'百元')\n",
    "    spam=spam+a*d*100+b*e*100+c*e*100\n",
    "    print('您的現有資金為'+str(spam)+'元')\n",
    "    d=int(input('請輸入欲購買的香蕉公斤數 >>'))\n",
    "    spam=spam-d*a*100\n",
    "    print('現有餘額為'+str(spam)+'元')\n",
    "    e=int(input('請輸入欲購買的橘子公斤數 >>'))\n",
    "    spam=spam-e*b*100\n",
    "    print('現有餘額為'+str(spam)+'元')\n",
    "    f=int(input('請輸入欲購買的葡萄公斤數 >>'))\n",
    "    spam=spam-f*c*100\n",
    "    print('現有餘額為'+str(spam)+'元')\n",
    "    egg=input('日落中...菜價重新波動 是否公布新菜價?(Y/N)')"
   ]
  },
  {
   "cell_type": "code",
   "execution_count": null,
   "metadata": {},
   "outputs": [],
   "source": []
  }
 ],
 "metadata": {
  "kernelspec": {
   "display_name": "Python 3",
   "language": "python",
   "name": "python3"
  },
  "language_info": {
   "codemirror_mode": {
    "name": "ipython",
    "version": 3
   },
   "file_extension": ".py",
   "mimetype": "text/x-python",
   "name": "python",
   "nbconvert_exporter": "python",
   "pygments_lexer": "ipython3",
   "version": "3.7.3"
  }
 },
 "nbformat": 4,
 "nbformat_minor": 2
}
