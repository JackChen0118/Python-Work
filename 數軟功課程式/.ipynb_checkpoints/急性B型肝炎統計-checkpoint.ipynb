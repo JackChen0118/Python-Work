{
 "cells": [
  {
   "cell_type": "code",
   "execution_count": 1,
   "metadata": {},
   "outputs": [],
   "source": [
    "%matplotlib inline\n",
    "import numpy as np\n",
    "import matplotlib.pyplot as plt\n",
    "import pandas as pd"
   ]
  },
  {
   "cell_type": "code",
   "execution_count": 25,
   "metadata": {},
   "outputs": [],
   "source": [
    "df=pd.read_csv('https://od.cdc.gov.tw/eic/Weekly_Age_County_Gender_0703.csv')"
   ]
  },
  {
   "cell_type": "code",
   "execution_count": 26,
   "metadata": {},
   "outputs": [
    {
     "data": {
      "text/html": [
       "<div>\n",
       "<style scoped>\n",
       "    .dataframe tbody tr th:only-of-type {\n",
       "        vertical-align: middle;\n",
       "    }\n",
       "\n",
       "    .dataframe tbody tr th {\n",
       "        vertical-align: top;\n",
       "    }\n",
       "\n",
       "    .dataframe thead th {\n",
       "        text-align: right;\n",
       "    }\n",
       "</style>\n",
       "<table border=\"1\" class=\"dataframe\">\n",
       "  <thead>\n",
       "    <tr style=\"text-align: right;\">\n",
       "      <th></th>\n",
       "      <th>確定病名</th>\n",
       "      <th>發病年份</th>\n",
       "      <th>發病週別</th>\n",
       "      <th>縣市</th>\n",
       "      <th>鄉鎮</th>\n",
       "      <th>性別</th>\n",
       "      <th>是否為境外移入</th>\n",
       "      <th>年齡層</th>\n",
       "      <th>確定病例數</th>\n",
       "    </tr>\n",
       "  </thead>\n",
       "  <tbody>\n",
       "    <tr>\n",
       "      <th>0</th>\n",
       "      <td>急性病毒性Ｂ型肝炎</td>\n",
       "      <td>2003</td>\n",
       "      <td>1</td>\n",
       "      <td>南投縣</td>\n",
       "      <td>仁愛鄉</td>\n",
       "      <td>F</td>\n",
       "      <td>否</td>\n",
       "      <td>15-19</td>\n",
       "      <td>1</td>\n",
       "    </tr>\n",
       "    <tr>\n",
       "      <th>1</th>\n",
       "      <td>急性病毒性Ｂ型肝炎</td>\n",
       "      <td>2003</td>\n",
       "      <td>10</td>\n",
       "      <td>桃園市</td>\n",
       "      <td>中壢區</td>\n",
       "      <td>M</td>\n",
       "      <td>否</td>\n",
       "      <td>25-29</td>\n",
       "      <td>1</td>\n",
       "    </tr>\n",
       "    <tr>\n",
       "      <th>2</th>\n",
       "      <td>急性病毒性Ｂ型肝炎</td>\n",
       "      <td>2003</td>\n",
       "      <td>10</td>\n",
       "      <td>新北市</td>\n",
       "      <td>新店區</td>\n",
       "      <td>F</td>\n",
       "      <td>否</td>\n",
       "      <td>35-39</td>\n",
       "      <td>1</td>\n",
       "    </tr>\n",
       "    <tr>\n",
       "      <th>3</th>\n",
       "      <td>急性病毒性Ｂ型肝炎</td>\n",
       "      <td>2003</td>\n",
       "      <td>11</td>\n",
       "      <td>新北市</td>\n",
       "      <td>汐止區</td>\n",
       "      <td>M</td>\n",
       "      <td>否</td>\n",
       "      <td>55-59</td>\n",
       "      <td>1</td>\n",
       "    </tr>\n",
       "    <tr>\n",
       "      <th>4</th>\n",
       "      <td>急性病毒性Ｂ型肝炎</td>\n",
       "      <td>2003</td>\n",
       "      <td>12</td>\n",
       "      <td>台北市</td>\n",
       "      <td>北投區</td>\n",
       "      <td>M</td>\n",
       "      <td>否</td>\n",
       "      <td>20-24</td>\n",
       "      <td>1</td>\n",
       "    </tr>\n",
       "  </tbody>\n",
       "</table>\n",
       "</div>"
      ],
      "text/plain": [
       "        確定病名  發病年份  發病週別   縣市   鄉鎮 性別 是否為境外移入    年齡層  確定病例數\n",
       "0  急性病毒性Ｂ型肝炎  2003     1  南投縣  仁愛鄉  F       否  15-19      1\n",
       "1  急性病毒性Ｂ型肝炎  2003    10  桃園市  中壢區  M       否  25-29      1\n",
       "2  急性病毒性Ｂ型肝炎  2003    10  新北市  新店區  F       否  35-39      1\n",
       "3  急性病毒性Ｂ型肝炎  2003    11  新北市  汐止區  M       否  55-59      1\n",
       "4  急性病毒性Ｂ型肝炎  2003    12  台北市  北投區  M       否  20-24      1"
      ]
     },
     "execution_count": 26,
     "metadata": {},
     "output_type": "execute_result"
    }
   ],
   "source": [
    "df.head()"
   ]
  },
  {
   "cell_type": "code",
   "execution_count": 27,
   "metadata": {},
   "outputs": [],
   "source": [
    "df.drop('確定病名',axis=1,inplace=True)\n",
    "df.drop('發病年份',axis=1,inplace=True)\n",
    "df.drop('確定病例數',axis=1,inplace=True)"
   ]
  },
  {
   "cell_type": "code",
   "execution_count": 28,
   "metadata": {},
   "outputs": [
    {
     "data": {
      "text/html": [
       "<div>\n",
       "<style scoped>\n",
       "    .dataframe tbody tr th:only-of-type {\n",
       "        vertical-align: middle;\n",
       "    }\n",
       "\n",
       "    .dataframe tbody tr th {\n",
       "        vertical-align: top;\n",
       "    }\n",
       "\n",
       "    .dataframe thead th {\n",
       "        text-align: right;\n",
       "    }\n",
       "</style>\n",
       "<table border=\"1\" class=\"dataframe\">\n",
       "  <thead>\n",
       "    <tr style=\"text-align: right;\">\n",
       "      <th></th>\n",
       "      <th>發病週別</th>\n",
       "      <th>縣市</th>\n",
       "      <th>鄉鎮</th>\n",
       "      <th>性別</th>\n",
       "      <th>是否為境外移入</th>\n",
       "      <th>年齡層</th>\n",
       "    </tr>\n",
       "  </thead>\n",
       "  <tbody>\n",
       "    <tr>\n",
       "      <th>0</th>\n",
       "      <td>1</td>\n",
       "      <td>南投縣</td>\n",
       "      <td>仁愛鄉</td>\n",
       "      <td>F</td>\n",
       "      <td>否</td>\n",
       "      <td>15-19</td>\n",
       "    </tr>\n",
       "    <tr>\n",
       "      <th>1</th>\n",
       "      <td>10</td>\n",
       "      <td>桃園市</td>\n",
       "      <td>中壢區</td>\n",
       "      <td>M</td>\n",
       "      <td>否</td>\n",
       "      <td>25-29</td>\n",
       "    </tr>\n",
       "    <tr>\n",
       "      <th>2</th>\n",
       "      <td>10</td>\n",
       "      <td>新北市</td>\n",
       "      <td>新店區</td>\n",
       "      <td>F</td>\n",
       "      <td>否</td>\n",
       "      <td>35-39</td>\n",
       "    </tr>\n",
       "    <tr>\n",
       "      <th>3</th>\n",
       "      <td>11</td>\n",
       "      <td>新北市</td>\n",
       "      <td>汐止區</td>\n",
       "      <td>M</td>\n",
       "      <td>否</td>\n",
       "      <td>55-59</td>\n",
       "    </tr>\n",
       "    <tr>\n",
       "      <th>4</th>\n",
       "      <td>12</td>\n",
       "      <td>台北市</td>\n",
       "      <td>北投區</td>\n",
       "      <td>M</td>\n",
       "      <td>否</td>\n",
       "      <td>20-24</td>\n",
       "    </tr>\n",
       "  </tbody>\n",
       "</table>\n",
       "</div>"
      ],
      "text/plain": [
       "   發病週別   縣市   鄉鎮 性別 是否為境外移入    年齡層\n",
       "0     1  南投縣  仁愛鄉  F       否  15-19\n",
       "1    10  桃園市  中壢區  M       否  25-29\n",
       "2    10  新北市  新店區  F       否  35-39\n",
       "3    11  新北市  汐止區  M       否  55-59\n",
       "4    12  台北市  北投區  M       否  20-24"
      ]
     },
     "execution_count": 28,
     "metadata": {},
     "output_type": "execute_result"
    }
   ],
   "source": [
    "df.head()"
   ]
  },
  {
   "cell_type": "code",
   "execution_count": 29,
   "metadata": {},
   "outputs": [
    {
     "data": {
      "text/plain": [
       "0       False\n",
       "1       False\n",
       "2       False\n",
       "3       False\n",
       "4       False\n",
       "5       False\n",
       "6       False\n",
       "7       False\n",
       "8       False\n",
       "9       False\n",
       "10      False\n",
       "11      False\n",
       "12      False\n",
       "13      False\n",
       "14      False\n",
       "15      False\n",
       "16      False\n",
       "17      False\n",
       "18      False\n",
       "19      False\n",
       "20      False\n",
       "21      False\n",
       "22      False\n",
       "23      False\n",
       "24      False\n",
       "25      False\n",
       "26      False\n",
       "27      False\n",
       "28      False\n",
       "29      False\n",
       "        ...  \n",
       "3118    False\n",
       "3119    False\n",
       "3120    False\n",
       "3121    False\n",
       "3122    False\n",
       "3123    False\n",
       "3124    False\n",
       "3125    False\n",
       "3126    False\n",
       "3127    False\n",
       "3128    False\n",
       "3129    False\n",
       "3130    False\n",
       "3131    False\n",
       "3132    False\n",
       "3133    False\n",
       "3134    False\n",
       "3135    False\n",
       "3136    False\n",
       "3137    False\n",
       "3138    False\n",
       "3139    False\n",
       "3140    False\n",
       "3141    False\n",
       "3142    False\n",
       "3143    False\n",
       "3144    False\n",
       "3145    False\n",
       "3146    False\n",
       "3147    False\n",
       "Name: 是否為境外移入, Length: 3148, dtype: bool"
      ]
     },
     "execution_count": 29,
     "metadata": {},
     "output_type": "execute_result"
    }
   ],
   "source": [
    "df.是否為境外移入=='是'"
   ]
  },
  {
   "cell_type": "code",
   "execution_count": 32,
   "metadata": {},
   "outputs": [
    {
     "name": "stdout",
     "output_type": "stream",
     "text": [
      "B型肝炎帶原者為境外移入共有116人\n"
     ]
    }
   ],
   "source": [
    "print('B型肝炎帶原者為境外移入共有'+str(len(df[df.是否為境外移入=='是']))+'人')"
   ]
  },
  {
   "cell_type": "code",
   "execution_count": 35,
   "metadata": {},
   "outputs": [
    {
     "data": {
      "text/plain": [
       "3148"
      ]
     },
     "execution_count": 35,
     "metadata": {},
     "output_type": "execute_result"
    }
   ],
   "source": [
    "len(df['發病週別'])"
   ]
  },
  {
   "cell_type": "code",
   "execution_count": 40,
   "metadata": {},
   "outputs": [
    {
     "data": {
      "text/plain": [
       "26.702986022871663"
      ]
     },
     "execution_count": 40,
     "metadata": {},
     "output_type": "execute_result"
    }
   ],
   "source": [
    "df['發病週別'].mean()"
   ]
  },
  {
   "cell_type": "code",
   "execution_count": 41,
   "metadata": {},
   "outputs": [
    {
     "data": {
      "text/plain": [
       "14.891742506973097"
      ]
     },
     "execution_count": 41,
     "metadata": {},
     "output_type": "execute_result"
    }
   ],
   "source": [
    "df['發病週別'].std()"
   ]
  },
  {
   "cell_type": "code",
   "execution_count": null,
   "metadata": {},
   "outputs": [],
   "source": []
  }
 ],
 "metadata": {
  "kernelspec": {
   "display_name": "Python 3",
   "language": "python",
   "name": "python3"
  },
  "language_info": {
   "codemirror_mode": {
    "name": "ipython",
    "version": 3
   },
   "file_extension": ".py",
   "mimetype": "text/x-python",
   "name": "python",
   "nbconvert_exporter": "python",
   "pygments_lexer": "ipython3",
   "version": "3.7.3"
  }
 },
 "nbformat": 4,
 "nbformat_minor": 2
}
