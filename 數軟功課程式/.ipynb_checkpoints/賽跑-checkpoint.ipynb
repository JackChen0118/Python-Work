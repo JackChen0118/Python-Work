{
 "cells": [
  {
   "cell_type": "code",
   "execution_count": 1,
   "metadata": {},
   "outputs": [],
   "source": [
    "%matplotlib inline\n",
    "import numpy as np\n",
    "import matplotlib.pyplot as plt\n",
    "import pandas as pd\n",
    "from numpy.random import randint"
   ]
  },
  {
   "cell_type": "code",
   "execution_count": 2,
   "metadata": {},
   "outputs": [
    {
     "name": "stdout",
     "output_type": "stream",
     "text": [
      "你的角色為(●´∀`●)\n",
      "電腦的角色為(*´▽`*)\n",
      "是否進行遊玩(Y/N)Y\n",
      "      (●´∀`●)\n",
      "               (*´▽`*)\n",
      "是否進行遊玩(Y/N)Y\n",
      "         (●´∀`●)\n",
      "                           (*´▽`*)\n",
      "是否進行遊玩(Y/N)Y\n",
      "               (●´∀`●)\n",
      "                                          (*´▽`*)\n",
      "是否進行遊玩(Y/N)Y\n",
      "                              (●´∀`●)\n",
      "                                                   (*´▽`*)\n",
      "是否進行遊玩(Y/N)Y\n",
      "                                       (●´∀`●)\n",
      "                                                                  (*´▽`*)\n",
      "是否進行遊玩(Y/N)Y\n",
      "                                                         (●´∀`●)\n",
      "                                                                           (*´▽`*)\n",
      "是否進行遊玩(Y/N)Y\n",
      "                                                               (●´∀`●)\n",
      "                                                                                             (*´▽`*)\n",
      "是否進行遊玩(Y/N)Y\n",
      "可惜你輸囉\n"
     ]
    }
   ],
   "source": [
    "a=0\n",
    "e=0\n",
    "player='(●´∀`●)'\n",
    "com='(*´▽`*)'\n",
    "print('你的角色為(●´∀`●)')\n",
    "print('電腦的角色為(*´▽`*)')\n",
    "b=input('是否進行遊玩(Y/N)')\n",
    "while b=='Y':\n",
    "    c=randint(1,7)\n",
    "    d=randint(1,7)\n",
    "    a=a+c\n",
    "    e=e+d\n",
    "    print('   '*a+'(●´∀`●)')\n",
    "    print('   '*e+'(*´▽`*)')\n",
    "    b=input('是否進行遊玩(Y/N)')\n",
    "    if a>=30:\n",
    "        print('恭喜你贏囉')\n",
    "        break\n",
    "    if e>=30:\n",
    "        print('可惜你輸囉')\n",
    "        break\n",
    "while b=='N':\n",
    "    break"
   ]
  },
  {
   "cell_type": "code",
   "execution_count": null,
   "metadata": {},
   "outputs": [],
   "source": []
  },
  {
   "cell_type": "code",
   "execution_count": null,
   "metadata": {},
   "outputs": [],
   "source": []
  },
  {
   "cell_type": "code",
   "execution_count": null,
   "metadata": {},
   "outputs": [],
   "source": []
  }
 ],
 "metadata": {
  "kernelspec": {
   "display_name": "Python 3",
   "language": "python",
   "name": "python3"
  },
  "language_info": {
   "codemirror_mode": {
    "name": "ipython",
    "version": 3
   },
   "file_extension": ".py",
   "mimetype": "text/x-python",
   "name": "python",
   "nbconvert_exporter": "python",
   "pygments_lexer": "ipython3",
   "version": "3.7.3"
  }
 },
 "nbformat": 4,
 "nbformat_minor": 2
}
