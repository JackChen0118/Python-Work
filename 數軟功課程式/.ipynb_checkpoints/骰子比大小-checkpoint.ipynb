{
 "cells": [
  {
   "cell_type": "code",
   "execution_count": 1,
   "metadata": {},
   "outputs": [],
   "source": [
    "%matplotlib inline\n",
    "import numpy as np\n",
    "import matplotlib.pyplot as plt\n",
    "import pandas as pd\n",
    "from numpy.random import randint"
   ]
  },
  {
   "cell_type": "markdown",
   "metadata": {},
   "source": [
    "### 10/20 加入賭博功能"
   ]
  },
  {
   "cell_type": "code",
   "execution_count": 2,
   "metadata": {
    "scrolled": true
   },
   "outputs": [
    {
     "name": "stdout",
     "output_type": "stream",
     "text": [
      "這裡是賭博比大小 起始金額為0元\n",
      "獲勝一次得500元 失敗一次扣500元\n",
      "是否比大小(Y/N)Y\n",
      "您的數字為2\n",
      "電腦的數字為6\n",
      "可惜你輸囉｡ŏ_ŏ您的金額為-500\n",
      "是否比大小(Y/N)Y\n",
      "您的數字為1\n",
      "電腦的數字為3\n",
      "您的金額已經沒有囉\n"
     ]
    }
   ],
   "source": [
    "print('這裡是賭博比大小 起始金額為0元')\n",
    "print('獲勝一次得500元 失敗一次扣500元')\n",
    "e=0\n",
    "b=input('是否比大小(Y/N)')\n",
    "while b=='Y':\n",
    "    c=randint(1,7)\n",
    "    print('您的數字為'+str(c))\n",
    "    a=randint(1,7)\n",
    "    print('電腦的數字為'+str(a))\n",
    "    if a<c:\n",
    "        e=e+500\n",
    "        print('恭喜你贏囉☝( ◠‿◠ )☝'+'您的金額為'+str(e))\n",
    "        b=input('是否比大小(Y/N)')\n",
    "    elif a>c :\n",
    "        e=e-500\n",
    "        print('可惜你輸囉｡ŏ_ŏ'+'您的金額為'+str(e))\n",
    "        b=input('是否比大小(Y/N)')\n",
    "    elif a==c:\n",
    "        print('平手ლ(╹◡╹ლ)'+'您的金額為'+str(e))\n",
    "        b=input('是否比大小(Y/N)')\n",
    "if e<0:\n",
    "    print('您的金額已經沒有囉')\n",
    "    break\n",
    "if b=='N':\n",
    "    print('不玩就算惹｡ﾟヽ(ﾟ´Д`)ﾉﾟ｡ ')"
   ]
  },
  {
   "cell_type": "code",
   "execution_count": null,
   "metadata": {},
   "outputs": [],
   "source": []
  }
 ],
 "metadata": {
  "kernelspec": {
   "display_name": "Python 3",
   "language": "python",
   "name": "python3"
  },
  "language_info": {
   "codemirror_mode": {
    "name": "ipython",
    "version": 3
   },
   "file_extension": ".py",
   "mimetype": "text/x-python",
   "name": "python",
   "nbconvert_exporter": "python",
   "pygments_lexer": "ipython3",
   "version": "3.7.3"
  }
 },
 "nbformat": 4,
 "nbformat_minor": 2
}
