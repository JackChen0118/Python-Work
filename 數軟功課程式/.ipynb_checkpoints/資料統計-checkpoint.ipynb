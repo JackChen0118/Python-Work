{
 "cells": [
  {
   "cell_type": "code",
   "execution_count": 47,
   "metadata": {},
   "outputs": [],
   "source": [
    "%matplotlib inline\n",
    "\n",
    "import numpy as np\n",
    "import matplotlib.pyplot as plt\n",
    "import pandas as pd"
   ]
  },
  {
   "cell_type": "code",
   "execution_count": 48,
   "metadata": {},
   "outputs": [],
   "source": [
    "df = pd.read_excel('table(032a).xls')"
   ]
  },
  {
   "cell_type": "code",
   "execution_count": 49,
   "metadata": {},
   "outputs": [
    {
     "data": {
      "text/html": [
       "<div>\n",
       "<style scoped>\n",
       "    .dataframe tbody tr th:only-of-type {\n",
       "        vertical-align: middle;\n",
       "    }\n",
       "\n",
       "    .dataframe tbody tr th {\n",
       "        vertical-align: top;\n",
       "    }\n",
       "\n",
       "    .dataframe thead th {\n",
       "        text-align: right;\n",
       "    }\n",
       "</style>\n",
       "<table border=\"1\" class=\"dataframe\">\n",
       "  <thead>\n",
       "    <tr style=\"text-align: right;\">\n",
       "      <th></th>\n",
       "      <th>年分</th>\n",
       "      <th>期中人口</th>\n",
       "      <th>經濟成長</th>\n",
       "      <th>GDP</th>\n",
       "      <th>人均GDP</th>\n",
       "      <th>GNI</th>\n",
       "      <th>人均GNI</th>\n",
       "      <th>人均所得</th>\n",
       "    </tr>\n",
       "  </thead>\n",
       "  <tbody>\n",
       "    <tr>\n",
       "      <th>0</th>\n",
       "      <td>NaN</td>\n",
       "      <td>人</td>\n",
       "      <td>％</td>\n",
       "      <td>百萬元</td>\n",
       "      <td>元</td>\n",
       "      <td>百萬美元</td>\n",
       "      <td>元</td>\n",
       "      <td>元</td>\n",
       "    </tr>\n",
       "    <tr>\n",
       "      <th>1</th>\n",
       "      <td>40年</td>\n",
       "      <td>7758202</td>\n",
       "      <td>－</td>\n",
       "      <td>12327</td>\n",
       "      <td>1589</td>\n",
       "      <td>1196</td>\n",
       "      <td>1588</td>\n",
       "      <td>1582</td>\n",
       "    </tr>\n",
       "    <tr>\n",
       "      <th>2</th>\n",
       "      <td>41年</td>\n",
       "      <td>8046915</td>\n",
       "      <td>12</td>\n",
       "      <td>17275</td>\n",
       "      <td>2147</td>\n",
       "      <td>1677</td>\n",
       "      <td>2146</td>\n",
       "      <td>2127</td>\n",
       "    </tr>\n",
       "    <tr>\n",
       "      <th>3</th>\n",
       "      <td>42年</td>\n",
       "      <td>8333009</td>\n",
       "      <td>9.49</td>\n",
       "      <td>23036</td>\n",
       "      <td>2764</td>\n",
       "      <td>1481</td>\n",
       "      <td>2764</td>\n",
       "      <td>2726</td>\n",
       "    </tr>\n",
       "    <tr>\n",
       "      <th>4</th>\n",
       "      <td>43年</td>\n",
       "      <td>8645264</td>\n",
       "      <td>9.64</td>\n",
       "      <td>25315</td>\n",
       "      <td>2928</td>\n",
       "      <td>1628</td>\n",
       "      <td>2928</td>\n",
       "      <td>2864</td>\n",
       "    </tr>\n",
       "  </tbody>\n",
       "</table>\n",
       "</div>"
      ],
      "text/plain": [
       "    年分     期中人口  經濟成長    GDP 人均GDP   GNI 人均GNI  人均所得\n",
       "0  NaN        人     ％    百萬元     元  百萬美元     元     元\n",
       "1  40年  7758202     －  12327  1589  1196  1588  1582\n",
       "2  41年  8046915    12  17275  2147  1677  2146  2127\n",
       "3  42年  8333009  9.49  23036  2764  1481  2764  2726\n",
       "4  43年  8645264  9.64  25315  2928  1628  2928  2864"
      ]
     },
     "execution_count": 49,
     "metadata": {},
     "output_type": "execute_result"
    }
   ],
   "source": [
    "df.head()"
   ]
  },
  {
   "cell_type": "code",
   "execution_count": 53,
   "metadata": {},
   "outputs": [
    {
     "name": "stdout",
     "output_type": "stream",
     "text": [
      "<class 'pandas.core.frame.DataFrame'>\n",
      "RangeIndex: 306 entries, 0 to 305\n",
      "Data columns (total 8 columns):\n",
      "年分       305 non-null object\n",
      "期中人口     304 non-null object\n",
      "經濟成長     304 non-null object\n",
      "GDP      304 non-null object\n",
      "人均GDP    304 non-null object\n",
      "GNI      304 non-null object\n",
      "人均GNI    304 non-null object\n",
      "人均所得     304 non-null object\n",
      "dtypes: object(8)\n",
      "memory usage: 19.2+ KB\n"
     ]
    }
   ],
   "source": [
    "df.info()"
   ]
  },
  {
   "cell_type": "code",
   "execution_count": 61,
   "metadata": {},
   "outputs": [],
   "source": [
    "x1 = df.人均GDP\n",
    "x2 = df.人均GNI\n",
    "x3 = df.人均所得\n"
   ]
  },
  {
   "cell_type": "code",
   "execution_count": 62,
   "metadata": {},
   "outputs": [
    {
     "data": {
      "text/plain": [
       "0           元\n",
       "1        1589\n",
       "2        2147\n",
       "3        2764\n",
       "4        2928\n",
       "5        3364\n",
       "6        3732\n",
       "7        4225\n",
       "8        4586\n",
       "9        5105\n",
       "10       5943\n",
       "11       6448\n",
       "12       1610\n",
       "13       1572\n",
       "14       1464\n",
       "15       1802\n",
       "16       6883\n",
       "17       1665\n",
       "18       1689\n",
       "19       1621\n",
       "20       1908\n",
       "21       7545\n",
       "22       1887\n",
       "23       1842\n",
       "24       1736\n",
       "25       2080\n",
       "26       8542\n",
       "27       2191\n",
       "28       2112\n",
       "29       1948\n",
       "        ...  \n",
       "276    688434\n",
       "277    165172\n",
       "278    167818\n",
       "279    174876\n",
       "280    180568\n",
       "281    714774\n",
       "282    179093\n",
       "283    173410\n",
       "284    179581\n",
       "285    182690\n",
       "286    730411\n",
       "287    181824\n",
       "288    176760\n",
       "289    182762\n",
       "290    189065\n",
       "291    742976\n",
       "292    183456\n",
       "293    177911\n",
       "294    188342\n",
       "295    193267\n",
       "296    754711\n",
       "297    186198\n",
       "298    184218\n",
       "299    189142\n",
       "300    195153\n",
       "301       NaN\n",
       "302    189325\n",
       "303    187744\n",
       "304    195372\n",
       "305       NaN\n",
       "Name: 人均GDP, Length: 306, dtype: object"
      ]
     },
     "execution_count": 62,
     "metadata": {},
     "output_type": "execute_result"
    }
   ],
   "source": [
    "x1"
   ]
  },
  {
   "cell_type": "code",
   "execution_count": null,
   "metadata": {},
   "outputs": [],
   "source": []
  }
 ],
 "metadata": {
  "kernelspec": {
   "display_name": "Python 3",
   "language": "python",
   "name": "python3"
  },
  "language_info": {
   "codemirror_mode": {
    "name": "ipython",
    "version": 3
   },
   "file_extension": ".py",
   "mimetype": "text/x-python",
   "name": "python",
   "nbconvert_exporter": "python",
   "pygments_lexer": "ipython3",
   "version": "3.7.3"
  }
 },
 "nbformat": 4,
 "nbformat_minor": 2
}
