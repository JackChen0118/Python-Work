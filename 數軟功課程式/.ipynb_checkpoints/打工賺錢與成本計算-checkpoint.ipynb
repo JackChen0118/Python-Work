{
 "cells": [
  {
   "cell_type": "code",
   "execution_count": 1,
   "metadata": {},
   "outputs": [],
   "source": [
    "%matplotlib inline\n",
    "import numpy as np\n",
    "import matplotlib.pyplot as plt\n",
    "import pandas as pd\n",
    "import math"
   ]
  },
  {
   "cell_type": "code",
   "execution_count": 2,
   "metadata": {},
   "outputs": [
    {
     "name": "stdout",
     "output_type": "stream",
     "text": [
      "請輸入您的時薪: 250\n",
      "請輸入您每次的打工時數: 4\n",
      "請輸入您本月的工作天數: 15\n",
      "請輸入您一天的平均花費: 400\n",
      "您的本月打工淨賺為3000\n"
     ]
    }
   ],
   "source": [
    "a=int(input('請輸入您的時薪: '))\n",
    "b=int(input('請輸入您每次的打工時數: '))\n",
    "c=int(input('請輸入您本月的工作天數: '))\n",
    "d=int(input('請輸入您一天的平均花費: '))\n",
    "e=a*b*c-d*30\n",
    "print('您的本月打工淨賺為'+str(e))"
   ]
  },
  {
   "cell_type": "markdown",
   "metadata": {},
   "source": [
    "### 10/7 增加想要的東西之存錢時間"
   ]
  },
  {
   "cell_type": "code",
   "execution_count": 3,
   "metadata": {},
   "outputs": [
    {
     "name": "stdout",
     "output_type": "stream",
     "text": [
      "請輸入您想購買物品之價格 >> 8000\n",
      "一共需要存3個月才足夠\n"
     ]
    }
   ],
   "source": [
    "f=int(input('請輸入您想購買物品之價格 >> '))\n",
    "g=math.ceil(f/e)\n",
    "print('一共需要存'+str(g)+'個月才足夠')"
   ]
  },
  {
   "cell_type": "code",
   "execution_count": null,
   "metadata": {},
   "outputs": [],
   "source": []
  }
 ],
 "metadata": {
  "kernelspec": {
   "display_name": "Python 3",
   "language": "python",
   "name": "python3"
  },
  "language_info": {
   "codemirror_mode": {
    "name": "ipython",
    "version": 3
   },
   "file_extension": ".py",
   "mimetype": "text/x-python",
   "name": "python",
   "nbconvert_exporter": "python",
   "pygments_lexer": "ipython3",
   "version": "3.7.3"
  }
 },
 "nbformat": 4,
 "nbformat_minor": 2
}
