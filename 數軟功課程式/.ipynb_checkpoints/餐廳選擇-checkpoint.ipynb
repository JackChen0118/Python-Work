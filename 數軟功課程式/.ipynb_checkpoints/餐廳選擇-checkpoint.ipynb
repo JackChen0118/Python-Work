{
 "cells": [
  {
   "cell_type": "code",
   "execution_count": 2,
   "metadata": {},
   "outputs": [],
   "source": [
    "%matplotlib inline\n",
    "import numpy as np\n",
    "import matplotlib.pyplot as plt\n",
    "import pandas as pd\n",
    "import random"
   ]
  },
  {
   "cell_type": "code",
   "execution_count": 7,
   "metadata": {},
   "outputs": [
    {
     "name": "stdout",
     "output_type": "stream",
     "text": [
      "想不到東西吃嗎(Y/N) >>Y\n",
      "平價or吃爽的(1/2) >>1\n",
      "你要吃的是黑白店\n"
     ]
    }
   ],
   "source": [
    "a=['鬼匠','咖哩飯','波洽','敏忠','seven','黑白店']\n",
    "b=['四川','義大利麵','樂山','甘泉','餐研']\n",
    "c=input('想不到東西吃嗎(Y/N) >>')\n",
    "if c=='Y':\n",
    "    d=input('平價or吃爽的(1/2) >>')\n",
    "    if d=='1':\n",
    "        print('你要吃的是'+random.choice(a))\n",
    "    if d=='2':\n",
    "        print('你要吃的是'+random.choice(b)) \n",
    "if c=='N':\n",
    "    print('想的到了不起阿 (#`Д´)ﾉ')"
   ]
  },
  {
   "cell_type": "code",
   "execution_count": null,
   "metadata": {},
   "outputs": [],
   "source": []
  },
  {
   "cell_type": "code",
   "execution_count": null,
   "metadata": {},
   "outputs": [],
   "source": []
  }
 ],
 "metadata": {
  "kernelspec": {
   "display_name": "Python 3",
   "language": "python",
   "name": "python3"
  },
  "language_info": {
   "codemirror_mode": {
    "name": "ipython",
    "version": 3
   },
   "file_extension": ".py",
   "mimetype": "text/x-python",
   "name": "python",
   "nbconvert_exporter": "python",
   "pygments_lexer": "ipython3",
   "version": "3.7.3"
  }
 },
 "nbformat": 4,
 "nbformat_minor": 2
}
