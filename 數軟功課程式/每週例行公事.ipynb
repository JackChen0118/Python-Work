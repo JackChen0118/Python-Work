{
 "cells": [
  {
   "cell_type": "code",
   "execution_count": 1,
   "metadata": {},
   "outputs": [],
   "source": [
    "%matplotlib inline\n",
    "import numpy as np\n",
    "import matplotlib.pyplot as plt\n",
    "import pandas as pd"
   ]
  },
  {
   "cell_type": "code",
   "execution_count": 12,
   "metadata": {},
   "outputs": [
    {
     "name": "stdout",
     "output_type": "stream",
     "text": [
      "Hello~ 這裡是每週例行公事查詢系統\n",
      "星期一為 mon 依序為 tue wed thu fri sat sun\n",
      "請輸入您要查詢的日子: sun\n",
      "放假好好休息吧~\n"
     ]
    }
   ],
   "source": [
    "print('Hello~ 這裡是每週例行公事查詢系統')\n",
    "print('星期一為 mon 依序為 tue wed thu fri sat sun')\n",
    "a=input('請輸入您要查詢的日子: ')\n",
    "if a=='mon':\n",
    "    print('晚上劍道')\n",
    "elif a=='tue':\n",
    "    print('中午要去研討二打掃')\n",
    "elif a=='wed':\n",
    "    print('晚上有微積分TA')\n",
    "elif a=='thu':\n",
    "    print('課排滿的一天,做好心理準備吧ㄎㄎ')\n",
    "elif a=='fri':\n",
    "    print('晚上劍道')\n",
    "else :\n",
    "    print('放假好好休息吧~')"
   ]
  },
  {
   "cell_type": "markdown",
   "metadata": {},
   "source": [
    "### 10/13 增加可刪除已完成事項"
   ]
  },
  {
   "cell_type": "code",
   "execution_count": 2,
   "metadata": {},
   "outputs": [
    {
     "name": "stdout",
     "output_type": "stream",
     "text": [
      "本週待辦事項為['劍道一', '劍道五', '研討二打掃', '微積分作業', '數導作業', '統計作業', '程式1', '程式2', '程式3', '程式4']\n",
      "若無已完成事項請輸入 N \n",
      "請輸入已完成事項之位置(第一個為1,2...以此類推): 1\n",
      "剩餘待完成事項為['劍道五', '研討二打掃', '微積分作業', '數導作業', '統計作業', '程式1', '程式2', '程式3', '程式4']\n"
     ]
    }
   ],
   "source": [
    "routine=['劍道一','劍道五','研討二打掃','微積分作業','數導作業','統計作業','程式1','程式2','程式3','程式4']\n",
    "print('本週待辦事項為'+str(routine))\n",
    "print('若無已完成事項請輸入 N ')\n",
    "a=int(input('請輸入已完成事項之位置(第一個為1,2...以此類推): '))\n",
    "a=a-1\n",
    "while a!=' ':\n",
    "    routine.pop(a)\n",
    "    print('剩餘待完成事項為'+str(routine))\n",
    "    break\n",
    "    if a=='N':\n",
    "        print(str(routine))\n",
    "        break"
   ]
  },
  {
   "cell_type": "code",
   "execution_count": null,
   "metadata": {},
   "outputs": [],
   "source": []
  },
  {
   "cell_type": "code",
   "execution_count": null,
   "metadata": {},
   "outputs": [],
   "source": []
  },
  {
   "cell_type": "code",
   "execution_count": null,
   "metadata": {},
   "outputs": [],
   "source": []
  },
  {
   "cell_type": "code",
   "execution_count": null,
   "metadata": {},
   "outputs": [],
   "source": []
  },
  {
   "cell_type": "code",
   "execution_count": null,
   "metadata": {},
   "outputs": [],
   "source": []
  },
  {
   "cell_type": "code",
   "execution_count": null,
   "metadata": {},
   "outputs": [],
   "source": []
  },
  {
   "cell_type": "code",
   "execution_count": null,
   "metadata": {},
   "outputs": [],
   "source": []
  },
  {
   "cell_type": "code",
   "execution_count": null,
   "metadata": {},
   "outputs": [],
   "source": []
  },
  {
   "cell_type": "code",
   "execution_count": null,
   "metadata": {},
   "outputs": [],
   "source": []
  },
  {
   "cell_type": "code",
   "execution_count": null,
   "metadata": {},
   "outputs": [],
   "source": []
  },
  {
   "cell_type": "code",
   "execution_count": null,
   "metadata": {},
   "outputs": [],
   "source": []
  }
 ],
 "metadata": {
  "kernelspec": {
   "display_name": "Python 3",
   "language": "python",
   "name": "python3"
  }
 },
 "nbformat": 4,
 "nbformat_minor": 2
}
