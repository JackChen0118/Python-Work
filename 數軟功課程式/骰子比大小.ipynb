{
 "cells": [
  {
   "cell_type": "code",
   "execution_count": 2,
   "metadata": {},
   "outputs": [],
   "source": [
    "%matplotlib inline\n",
    "import numpy as np\n",
    "import matplotlib.pyplot as plt\n",
    "import pandas as pd\n",
    "from numpy.random import randint"
   ]
  },
  {
   "cell_type": "code",
   "execution_count": 3,
   "metadata": {
    "scrolled": true
   },
   "outputs": [
    {
     "name": "stdout",
     "output_type": "stream",
     "text": [
      "電腦的數字為4\n",
      "是否比大小(Y/N)Y\n",
      "您的數字為6\n",
      "恭喜你贏囉☝( ◠‿◠ )☝\n"
     ]
    }
   ],
   "source": [
    "a=randint(1,7)\n",
    "print('電腦的數字為'+str(a))\n",
    "b=input('是否比大小(Y/N)')\n",
    "if b=='Y':\n",
    "    c=randint(1,7)\n",
    "    print('您的數字為'+str(c))\n",
    "    if a<c:\n",
    "        print('恭喜你贏囉☝( ◠‿◠ )☝')\n",
    "    elif a>c:\n",
    "        print('可惜你輸囉｡ŏ_ŏ')\n",
    "    elif a==c:\n",
    "        print('平手ლ(╹◡╹ლ)')\n",
    "if b=='N':\n",
    "    print('不玩就算惹｡ﾟヽ(ﾟ´Д`)ﾉﾟ｡ ')"
   ]
  },
  {
   "cell_type": "code",
   "execution_count": null,
   "metadata": {},
   "outputs": [],
   "source": []
  }
 ],
 "metadata": {
  "kernelspec": {
   "display_name": "Python 3",
   "language": "python",
   "name": "python3"
  },
  "language_info": {
   "codemirror_mode": {
    "name": "ipython",
    "version": 3
   },
   "file_extension": ".py",
   "mimetype": "text/x-python",
   "name": "python",
   "nbconvert_exporter": "python",
   "pygments_lexer": "ipython3",
   "version": "3.7.3"
  }
 },
 "nbformat": 4,
 "nbformat_minor": 2
}
