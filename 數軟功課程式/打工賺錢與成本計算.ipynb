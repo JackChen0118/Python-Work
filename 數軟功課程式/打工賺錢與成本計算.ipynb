{
 "cells": [
  {
   "cell_type": "code",
   "execution_count": 1,
   "metadata": {},
   "outputs": [],
   "source": [
    "%matplotlib inline\n",
    "import numpy as np\n",
    "import matplotlib.pyplot as plt\n",
    "import pandas as pd"
   ]
  },
  {
   "cell_type": "code",
   "execution_count": 2,
   "metadata": {},
   "outputs": [
    {
     "name": "stdout",
     "output_type": "stream",
     "text": [
      "請輸入您的時薪: 160\n",
      "請輸入您每次的打工時數: 3\n",
      "請輸入您本月的工作天數: 20\n",
      "請輸入您一天的平均花費: 300\n",
      "您的本月打工淨賺為600\n"
     ]
    }
   ],
   "source": [
    "a=int(input('請輸入您的時薪: '))\n",
    "b=int(input('請輸入您每次的打工時數: '))\n",
    "c=int(input('請輸入您本月的工作天數: '))\n",
    "d=int(input('請輸入您一天的平均花費: '))\n",
    "print('您的本月打工淨賺為'+str(a*b*c-d*30))"
   ]
  },
  {
   "cell_type": "code",
   "execution_count": null,
   "metadata": {},
   "outputs": [],
   "source": []
  }
 ],
 "metadata": {
  "kernelspec": {
   "display_name": "Python 3",
   "language": "python",
   "name": "python3"
  },
  "language_info": {
   "codemirror_mode": {
    "name": "ipython",
    "version": 3
   },
   "file_extension": ".py",
   "mimetype": "text/x-python",
   "name": "python",
   "nbconvert_exporter": "python",
   "pygments_lexer": "ipython3",
   "version": "3.7.3"
  }
 },
 "nbformat": 4,
 "nbformat_minor": 2
}
