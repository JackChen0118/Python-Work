{
 "cells": [
  {
   "cell_type": "code",
   "execution_count": 1,
   "metadata": {},
   "outputs": [],
   "source": [
    "%matplotlib inline\n",
    "import numpy as np\n",
    "import matplotlib.pyplot as plt\n",
    "import pandas as pd\n",
    "import math"
   ]
  },
  {
   "cell_type": "code",
   "execution_count": 2,
   "metadata": {},
   "outputs": [
    {
     "name": "stdout",
     "output_type": "stream",
     "text": [
      "請輸入您的時薪: 160\n",
      "請輸入您每次的打工時數: 5\n",
      "請輸入您本月的工作天數: 18\n",
      "請輸入您一天的平均花費: 300\n",
      "請輸入您想購買物品之價格(手機) >> 26900\n",
      "請輸入上市月數12\n",
      "根據報告指出 手機上市一年後約降價25% 因此以平均一個月降價2%計算\n",
      "一共需要存4個月才足夠\n"
     ]
    }
   ],
   "source": [
    "a=int(input('請輸入您的時薪: '))\n",
    "b=int(input('請輸入您每次的打工時數: '))\n",
    "c=int(input('請輸入您本月的工作天數: '))\n",
    "d=int(input('請輸入您一天的平均花費: '))\n",
    "e=a*b*c-d*30\n",
    "f=int(input('請輸入您想購買物品之價格(手機) >> '))\n",
    "h=int(input('請輸入上市月數'))\n",
    "i=f*(1-2*h/100)\n",
    "g=math.ceil(i/e)\n",
    "print('根據報告指出 手機上市一年後約降價25% 因此以平均一個月降價2%計算')\n",
    "print('一共需要存'+str(g)+'個月才足夠')"
   ]
  },
  {
   "cell_type": "markdown",
   "metadata": {},
   "source": [
    "### 10/7 增加想要的東西之存錢時間   10/27 加入購買手機 並加入手機降價速度"
   ]
  },
  {
   "cell_type": "code",
   "execution_count": null,
   "metadata": {},
   "outputs": [],
   "source": []
  },
  {
   "cell_type": "code",
   "execution_count": null,
   "metadata": {},
   "outputs": [],
   "source": []
  },
  {
   "cell_type": "code",
   "execution_count": null,
   "metadata": {},
   "outputs": [],
   "source": []
  },
  {
   "cell_type": "code",
   "execution_count": null,
   "metadata": {},
   "outputs": [],
   "source": []
  },
  {
   "cell_type": "code",
   "execution_count": null,
   "metadata": {},
   "outputs": [],
   "source": []
  }
 ],
 "metadata": {
  "kernelspec": {
   "display_name": "Python 3",
   "language": "python",
   "name": "python3"
  },
  "language_info": {
   "codemirror_mode": {
    "name": "ipython",
    "version": 3
   },
   "file_extension": ".py",
   "mimetype": "text/x-python",
   "name": "python",
   "nbconvert_exporter": "python",
   "pygments_lexer": "ipython3",
   "version": "3.7.3"
  }
 },
 "nbformat": 4,
 "nbformat_minor": 2
}
