{
 "cells": [
  {
   "cell_type": "code",
   "execution_count": 2,
   "metadata": {},
   "outputs": [],
   "source": [
    "%matplotlib inline\n",
    "import numpy as np\n",
    "import matplotlib.pyplot as plt\n",
    "import pandas as pd\n",
    "import random"
   ]
  },
  {
   "cell_type": "code",
   "execution_count": 7,
   "metadata": {},
   "outputs": [
    {
     "name": "stdout",
     "output_type": "stream",
     "text": [
      "這裡是擲硬幣賭博\n",
      "起始金額為0元 猜中獲得500元 失敗扣500元\n",
      "是否要玩(Y/N)Y\n",
      "正 or 反 >>正\n",
      "可惜猜錯囉இдஇ 金額還有-500元\n",
      "是否要玩(Y/N)Y\n",
      "錢已經輸光囉(☍﹏⁰) \n"
     ]
    }
   ],
   "source": [
    "d=0\n",
    "print('這裡是擲硬幣賭博')\n",
    "print('起始金額為0元 猜中獲得500元 失敗扣500元')\n",
    "c=input('是否要玩(Y/N)')\n",
    "while c=='Y':\n",
    "    a=input('正 or 反 >>')\n",
    "    b=random.choice(['正','反'])\n",
    "    if a==b:\n",
    "        d=d+500\n",
    "        print('恭喜你猜對囉(*ﾟ∀ﾟ*) 金額還有'+str(d)+'元')\n",
    "        c=input('是否要玩(Y/N)')\n",
    "        if d<0:\n",
    "            print('錢已經輸光囉(☍﹏⁰) ')\n",
    "            break\n",
    "    elif a!=b:\n",
    "        d=d-500\n",
    "        print('可惜猜錯囉இдஇ 金額還有'+str(d)+'元')\n",
    "        c=input('是否要玩(Y/N)')\n",
    "        if d<0:\n",
    "            print('錢已經輸光囉(☍﹏⁰) ')\n",
    "            break\n",
    "while c=='N':\n",
    "    break"
   ]
  },
  {
   "cell_type": "code",
   "execution_count": null,
   "metadata": {},
   "outputs": [],
   "source": []
  }
 ],
 "metadata": {
  "kernelspec": {
   "display_name": "Python 3",
   "language": "python",
   "name": "python3"
  },
  "language_info": {
   "codemirror_mode": {
    "name": "ipython",
    "version": 3
   },
   "file_extension": ".py",
   "mimetype": "text/x-python",
   "name": "python",
   "nbconvert_exporter": "python",
   "pygments_lexer": "ipython3",
   "version": "3.7.3"
  }
 },
 "nbformat": 4,
 "nbformat_minor": 2
}
