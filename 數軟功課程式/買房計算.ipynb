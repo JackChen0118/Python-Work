{
 "cells": [
  {
   "cell_type": "code",
   "execution_count": 1,
   "metadata": {},
   "outputs": [],
   "source": [
    "%matplotlib inline\n",
    "import numpy as np\n",
    "import matplotlib.pyplot as plt\n",
    "import pandas as pd"
   ]
  },
  {
   "cell_type": "code",
   "execution_count": null,
   "metadata": {},
   "outputs": [],
   "source": [
    "# 根據政府統計\n",
    "# 國民平均經常性薪資為 51957 元/月 (a)\n",
    "# 而每年平均調整 2.6% (b)\n",
    "# 月花費約略估為 30000 元 (c)\n",
    "# 若不計算其他獎金\n",
    "# 以台北市地價 60萬元/坪 計算\n",
    "# 需花多少年才能購買一間 35坪 房屋"
   ]
  },
  {
   "cell_type": "code",
   "execution_count": 2,
   "metadata": {},
   "outputs": [
    {
     "name": "stdout",
     "output_type": "stream",
     "text": [
      "恭喜你存夠錢囉(*´艸`*) 這是第100年 希望你還活著(๑•́ ₃ •̀๑) \n"
     ]
    }
   ],
   "source": [
    "a=51957\n",
    "b=1.026\n",
    "c=600000\n",
    "d=30000\n",
    "f=0 #每月結餘\n",
    "g=0 #存款\n",
    "k=0 #第幾年\n",
    "while g<c*35:\n",
    "    f=a-d\n",
    "    e=a*b\n",
    "    a=e\n",
    "    g=g+f\n",
    "    k=k+1\n",
    "while g>=c*35:\n",
    "    print('恭喜你存夠錢囉(*´艸`*) 這是第'+str(k)+'年 希望你還活著(๑•́ ₃ •̀๑) ')\n",
    "    break"
   ]
  },
  {
   "cell_type": "code",
   "execution_count": null,
   "metadata": {},
   "outputs": [],
   "source": []
  }
 ],
 "metadata": {
  "kernelspec": {
   "display_name": "Python 3",
   "language": "python",
   "name": "python3"
  },
  "language_info": {
   "codemirror_mode": {
    "name": "ipython",
    "version": 3
   },
   "file_extension": ".py",
   "mimetype": "text/x-python",
   "name": "python",
   "nbconvert_exporter": "python",
   "pygments_lexer": "ipython3",
   "version": "3.7.3"
  }
 },
 "nbformat": 4,
 "nbformat_minor": 2
}
