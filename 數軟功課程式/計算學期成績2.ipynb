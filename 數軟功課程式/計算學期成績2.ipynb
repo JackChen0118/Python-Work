{
 "cells": [
  {
   "cell_type": "code",
   "execution_count": 1,
   "metadata": {},
   "outputs": [],
   "source": [
    "%matplotlib inline\n",
    "import numpy as np\n",
    "import matplotlib.pyplot as plt\n",
    "import pandas as pd"
   ]
  },
  {
   "cell_type": "code",
   "execution_count": 59,
   "metadata": {},
   "outputs": [
    {
     "name": "stdout",
     "output_type": "stream",
     "text": [
      "請輸入期中考成績>> 80\n",
      "請輸入期中末成績>> 60\n",
      "請輸入平時成績>> 40\n",
      "請輸入期中考占比>> 40\n",
      "請輸入期末考占比>> 40\n",
      "請輸入平時成績占比>> 20\n",
      "64.0\n",
      "恭喜你拿到學分囉d(`･∀･)b \n"
     ]
    }
   ],
   "source": [
    "mid=int(input('請輸入期中考成績>> '))\n",
    "fin=int(input('請輸入期中末成績>> '))\n",
    "nor=int(input('請輸入平時成績>> '))\n",
    "mid1=int(input('請輸入期中考占比>> '))\n",
    "fin1=int(input('請輸入期末考占比>> '))\n",
    "nor1=int(input('請輸入平時成績占比>> '))\n",
    "L=[]\n",
    "L.append(mid)\n",
    "L.append(fin)\n",
    "L.append(nor)\n",
    "K=[]\n",
    "K.append(mid1)\n",
    "K.append(fin1)\n",
    "K.append(nor1)\n",
    "L1=np.array(L)\n",
    "K1=np.array(K)\n",
    "g=np.dot(L1,K1)*0.01\n",
    "print(g)\n",
    "if g<60:\n",
    "    print('可惜再加把勁囉(〒︿〒) ')\n",
    "else:\n",
    "    print('恭喜你拿到學分囉d(`･∀･)b ')  "
   ]
  },
  {
   "cell_type": "code",
   "execution_count": null,
   "metadata": {},
   "outputs": [],
   "source": []
  },
  {
   "cell_type": "code",
   "execution_count": null,
   "metadata": {},
   "outputs": [],
   "source": []
  },
  {
   "cell_type": "code",
   "execution_count": null,
   "metadata": {
    "scrolled": true
   },
   "outputs": [],
   "source": []
  },
  {
   "cell_type": "code",
   "execution_count": null,
   "metadata": {},
   "outputs": [],
   "source": []
  },
  {
   "cell_type": "code",
   "execution_count": null,
   "metadata": {},
   "outputs": [],
   "source": []
  }
 ],
 "metadata": {
  "kernelspec": {
   "display_name": "Python 3",
   "language": "python",
   "name": "python3"
  },
  "language_info": {
   "codemirror_mode": {
    "name": "ipython",
    "version": 3
   },
   "file_extension": ".py",
   "mimetype": "text/x-python",
   "name": "python",
   "nbconvert_exporter": "python",
   "pygments_lexer": "ipython3",
   "version": "3.7.3"
  }
 },
 "nbformat": 4,
 "nbformat_minor": 2
}
