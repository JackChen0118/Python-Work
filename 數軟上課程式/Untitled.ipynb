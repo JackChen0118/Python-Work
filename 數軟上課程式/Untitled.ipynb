{
 "cells": [
  {
   "cell_type": "code",
   "execution_count": 1,
   "metadata": {},
   "outputs": [],
   "source": [
    "%matplotlib inline\n",
    "import numpy as np\n",
    "import matplotlib.pyplot as plt\n",
    "import pandas as pd"
   ]
  },
  {
   "cell_type": "markdown",
   "metadata": {},
   "source": [
    "## 找一個好的編輯器"
   ]
  },
  {
   "cell_type": "markdown",
   "metadata": {},
   "source": [
    "* Visual Studio Code\n",
    "* VIM"
   ]
  },
  {
   "cell_type": "code",
   "execution_count": 2,
   "metadata": {},
   "outputs": [
    {
     "name": "stderr",
     "output_type": "stream",
     "text": [
      "子目錄或檔案 egg 已經存在。\n"
     ]
    }
   ],
   "source": [
    "!mkdir egg"
   ]
  },
  {
   "cell_type": "code",
   "execution_count": 3,
   "metadata": {
    "scrolled": true
   },
   "outputs": [
    {
     "name": "stdout",
     "output_type": "stream",
     "text": [
      "C:\\Users\\aswor\\OneDrive\\桌面\\python\\數軟上課程式\\egg\n"
     ]
    }
   ],
   "source": [
    "%cd egg"
   ]
  },
  {
   "cell_type": "code",
   "execution_count": 4,
   "metadata": {},
   "outputs": [
    {
     "name": "stdout",
     "output_type": "stream",
     "text": [
      "你今天的信運數字是 38!\n"
     ]
    }
   ],
   "source": [
    "a=np.random.randint(1,101)\n",
    "print(f'你今天的信運數字是 {a}!')"
   ]
  },
  {
   "cell_type": "code",
   "execution_count": 5,
   "metadata": {},
   "outputs": [
    {
     "name": "stdout",
     "output_type": "stream",
     "text": [
      "File `spam.py` exists. Overwrite (y/[N])?  N\n",
      "Operation cancelled.\n"
     ]
    }
   ],
   "source": [
    "%save spam.py 4 12"
   ]
  },
  {
   "cell_type": "markdown",
   "metadata": {},
   "source": [
    "## Python 網頁框架\n",
    "* Django(大型專案)\n",
    "* Flask (小巧)"
   ]
  },
  {
   "cell_type": "markdown",
   "metadata": {},
   "source": [
    "## Streamlit\n",
    "    !pip install streamlit"
   ]
  },
  {
   "cell_type": "code",
   "execution_count": 9,
   "metadata": {},
   "outputs": [
    {
     "name": "stdout",
     "output_type": "stream",
     "text": [
      "Requirement already satisfied: streamlit in c:\\users\\aswor\\appdata\\roaming\\python\\python37\\site-packages (0.51.0)\n",
      "Requirement already satisfied: future in c:\\users\\aswor\\anaconda3\\lib\\site-packages (from streamlit) (0.17.1)\n",
      "Requirement already satisfied: watchdog in c:\\users\\aswor\\appdata\\roaming\\python\\python37\\site-packages (from streamlit) (0.9.0)\n",
      "Requirement already satisfied: altair>=3.2.0 in c:\\users\\aswor\\appdata\\roaming\\python\\python37\\site-packages (from streamlit) (4.0.0)\n",
      "Requirement already satisfied: astor in c:\\users\\aswor\\anaconda3\\lib\\site-packages (from streamlit) (0.8.1)\n",
      "Requirement already satisfied: enum-compat in c:\\users\\aswor\\anaconda3\\lib\\site-packages (from streamlit) (0.0.3)\n",
      "Requirement already satisfied: botocore in c:\\users\\aswor\\appdata\\roaming\\python\\python37\\site-packages (from streamlit) (1.13.41)\n",
      "Requirement already satisfied: pandas>=0.21.0 in c:\\users\\aswor\\anaconda3\\lib\\site-packages (from streamlit) (0.24.2)\n",
      "Requirement already satisfied: numpy in c:\\users\\aswor\\anaconda3\\lib\\site-packages (from streamlit) (1.16.4)\n",
      "Requirement already satisfied: tornado<6.0,>=5.0 in c:\\users\\aswor\\anaconda3\\lib\\site-packages (from streamlit) (5.1.1)\n",
      "Requirement already satisfied: click>=7.0 in c:\\users\\aswor\\anaconda3\\lib\\site-packages (from streamlit) (7.0)\n",
      "Requirement already satisfied: boto3 in c:\\users\\aswor\\appdata\\roaming\\python\\python37\\site-packages (from streamlit) (1.10.41)\n",
      "Requirement already satisfied: base58 in c:\\users\\aswor\\appdata\\roaming\\python\\python37\\site-packages (from streamlit) (1.0.3)\n",
      "Requirement already satisfied: protobuf>=3.6.0 in c:\\users\\aswor\\anaconda3\\lib\\site-packages (from streamlit) (3.11.1)\n",
      "Requirement already satisfied: validators in c:\\users\\aswor\\appdata\\roaming\\python\\python37\\site-packages (from streamlit) (0.14.1)\n",
      "Requirement already satisfied: tzlocal in c:\\users\\aswor\\appdata\\roaming\\python\\python37\\site-packages (from streamlit) (2.0.0)\n",
      "Requirement already satisfied: requests in c:\\users\\aswor\\anaconda3\\lib\\site-packages (from streamlit) (2.22.0)\n",
      "Requirement already satisfied: pillow>=6.2.0 in c:\\users\\aswor\\anaconda3\\lib\\site-packages (from streamlit) (6.2.1)\n",
      "Requirement already satisfied: blinker in c:\\users\\aswor\\appdata\\roaming\\python\\python37\\site-packages (from streamlit) (1.4)\n",
      "Requirement already satisfied: toml in c:\\users\\aswor\\appdata\\roaming\\python\\python37\\site-packages (from streamlit) (0.10.0)\n",
      "Requirement already satisfied: pathtools>=0.1.1 in c:\\users\\aswor\\appdata\\roaming\\python\\python37\\site-packages (from watchdog->streamlit) (0.1.2)\n",
      "Requirement already satisfied: argh>=0.24.1 in c:\\users\\aswor\\appdata\\roaming\\python\\python37\\site-packages (from watchdog->streamlit) (0.26.2)\n",
      "Requirement already satisfied: PyYAML>=3.10 in c:\\users\\aswor\\anaconda3\\lib\\site-packages (from watchdog->streamlit) (5.1.1)\n",
      "Requirement already satisfied: toolz in c:\\users\\aswor\\anaconda3\\lib\\site-packages (from altair>=3.2.0->streamlit) (0.10.0)\n",
      "Requirement already satisfied: jinja2 in c:\\users\\aswor\\anaconda3\\lib\\site-packages (from altair>=3.2.0->streamlit) (2.10.1)\n",
      "Requirement already satisfied: entrypoints in c:\\users\\aswor\\anaconda3\\lib\\site-packages (from altair>=3.2.0->streamlit) (0.3)\n",
      "Requirement already satisfied: jsonschema in c:\\users\\aswor\\anaconda3\\lib\\site-packages (from altair>=3.2.0->streamlit) (3.0.1)\n",
      "Requirement already satisfied: jmespath<1.0.0,>=0.7.1 in c:\\users\\aswor\\appdata\\roaming\\python\\python37\\site-packages (from botocore->streamlit) (0.9.4)\n",
      "Requirement already satisfied: urllib3<1.26,>=1.20; python_version >= \"3.4\" in c:\\users\\aswor\\anaconda3\\lib\\site-packages (from botocore->streamlit) (1.24.2)\n",
      "Requirement already satisfied: docutils<0.16,>=0.10 in c:\\users\\aswor\\anaconda3\\lib\\site-packages (from botocore->streamlit) (0.14)\n",
      "Requirement already satisfied: python-dateutil<2.8.1,>=2.1; python_version >= \"2.7\" in c:\\users\\aswor\\anaconda3\\lib\\site-packages (from botocore->streamlit) (2.8.0)\n",
      "Requirement already satisfied: pytz>=2011k in c:\\users\\aswor\\anaconda3\\lib\\site-packages (from pandas>=0.21.0->streamlit) (2019.1)\n",
      "Requirement already satisfied: s3transfer<0.3.0,>=0.2.0 in c:\\users\\aswor\\appdata\\roaming\\python\\python37\\site-packages (from boto3->streamlit) (0.2.1)\n",
      "Requirement already satisfied: six>=1.9 in c:\\users\\aswor\\anaconda3\\lib\\site-packages (from protobuf>=3.6.0->streamlit) (1.12.0)\n",
      "Requirement already satisfied: setuptools in c:\\users\\aswor\\anaconda3\\lib\\site-packages (from protobuf>=3.6.0->streamlit) (41.0.1)\n",
      "Requirement already satisfied: decorator>=3.4.0 in c:\\users\\aswor\\anaconda3\\lib\\site-packages (from validators->streamlit) (4.4.0)\n",
      "Requirement already satisfied: idna<2.9,>=2.5 in c:\\users\\aswor\\anaconda3\\lib\\site-packages (from requests->streamlit) (2.8)\n",
      "Requirement already satisfied: certifi>=2017.4.17 in c:\\users\\aswor\\anaconda3\\lib\\site-packages (from requests->streamlit) (2019.6.16)\n",
      "Requirement already satisfied: chardet<3.1.0,>=3.0.2 in c:\\users\\aswor\\anaconda3\\lib\\site-packages (from requests->streamlit) (3.0.4)\n",
      "Requirement already satisfied: MarkupSafe>=0.23 in c:\\users\\aswor\\anaconda3\\lib\\site-packages (from jinja2->altair>=3.2.0->streamlit) (1.1.1)\n",
      "Requirement already satisfied: attrs>=17.4.0 in c:\\users\\aswor\\anaconda3\\lib\\site-packages (from jsonschema->altair>=3.2.0->streamlit) (19.1.0)\n",
      "Requirement already satisfied: pyrsistent>=0.14.0 in c:\\users\\aswor\\anaconda3\\lib\\site-packages (from jsonschema->altair>=3.2.0->streamlit) (0.14.11)\n"
     ]
    }
   ],
   "source": [
    "!pip install streamlit"
   ]
  },
  {
   "cell_type": "code",
   "execution_count": 13,
   "metadata": {},
   "outputs": [
    {
     "name": "stdout",
     "output_type": "stream",
     "text": [
      "Overwriting web01.py\n"
     ]
    }
   ],
   "source": [
    "%%writefile web01.py\n",
    "df = pd.DataFrame({'A':[33,99,88],'B':[94,87,1000]})\n",
    "df"
   ]
  },
  {
   "cell_type": "code",
   "execution_count": 14,
   "metadata": {},
   "outputs": [
    {
     "name": "stdout",
     "output_type": "stream",
     "text": [
      " 磁碟區 C 中的磁碟是 Windows\n",
      " 磁碟區序號:  CE19-3DFE\n",
      "\n",
      " C:\\Users\\aswor\\OneDrive\\桌面\\python\\數軟上課程式\\egg 的目錄\n",
      "\n",
      "2019/12/18  上午 10:58    <DIR>          .\n",
      "2019/12/18  上午 10:58    <DIR>          ..\n",
      "2019/12/18  上午 09:55               217 spam.py\n",
      "2019/12/18  上午 11:10                58 web01.py\n",
      "               2 個檔案             275 位元組\n",
      "               2 個目錄  78,707,007,488 位元組可用\n"
     ]
    }
   ],
   "source": [
    "%ls"
   ]
  },
  {
   "cell_type": "code",
   "execution_count": 16,
   "metadata": {},
   "outputs": [
    {
     "name": "stderr",
     "output_type": "stream",
     "text": [
      "'streamlit' 不是內部或外部命令、可執行的程式或批次檔。\n"
     ]
    }
   ],
   "source": [
    "!streamlit run web01.py"
   ]
  },
  {
   "cell_type": "code",
   "execution_count": null,
   "metadata": {},
   "outputs": [],
   "source": []
  },
  {
   "cell_type": "code",
   "execution_count": null,
   "metadata": {},
   "outputs": [],
   "source": []
  },
  {
   "cell_type": "code",
   "execution_count": null,
   "metadata": {},
   "outputs": [],
   "source": []
  }
 ],
 "metadata": {
  "kernelspec": {
   "display_name": "Python 3",
   "language": "python",
   "name": "python3"
  },
  "language_info": {
   "codemirror_mode": {
    "name": "ipython",
    "version": 3
   },
   "file_extension": ".py",
   "mimetype": "text/x-python",
   "name": "python",
   "nbconvert_exporter": "python",
   "pygments_lexer": "ipython3",
   "version": "3.7.3"
  }
 },
 "nbformat": 4,
 "nbformat_minor": 2
}
