{
 "cells": [
  {
   "cell_type": "code",
   "execution_count": 1,
   "metadata": {},
   "outputs": [],
   "source": [
    "%matplotlib inline\n",
    "import numpy as np\n",
    "import matplotlib.pyplot as plt\n",
    "import pandas as pd"
   ]
  },
  {
   "cell_type": "markdown",
   "metadata": {},
   "source": [
    "## array oriented programming"
   ]
  },
  {
   "cell_type": "code",
   "execution_count": 2,
   "metadata": {},
   "outputs": [],
   "source": [
    "grades = [56,62,71,45,70]"
   ]
  },
  {
   "cell_type": "code",
   "execution_count": 10,
   "metadata": {},
   "outputs": [],
   "source": [
    "new_g = []\n",
    "for i in grades:\n",
    "    i=10*np.sqrt(i)\n",
    "    new_g.append(i)"
   ]
  },
  {
   "cell_type": "code",
   "execution_count": 12,
   "metadata": {},
   "outputs": [
    {
     "name": "stdout",
     "output_type": "stream",
     "text": [
      "調整後成績: 89.83\n",
      "調整後成績: 93.74\n",
      "調整後成績: 99.26\n",
      "調整後成績: 82.08\n",
      "調整後成績: 98.67\n"
     ]
    }
   ],
   "source": [
    "new_grades = []\n",
    "\n",
    "for g in grades:\n",
    "    new_g = np.sqrt(g)*10+15\n",
    "    print(f'調整後成績: {new_g:.2f}')\n",
    "    new_grades.append(g)"
   ]
  },
  {
   "cell_type": "markdown",
   "metadata": {},
   "source": [
    "### 換成 np.array 來做"
   ]
  },
  {
   "cell_type": "code",
   "execution_count": 14,
   "metadata": {},
   "outputs": [],
   "source": [
    "arr_grades = np.array(grades)"
   ]
  },
  {
   "cell_type": "code",
   "execution_count": 15,
   "metadata": {},
   "outputs": [
    {
     "data": {
      "text/plain": [
       "array([56, 62, 71, 45, 70])"
      ]
     },
     "execution_count": 15,
     "metadata": {},
     "output_type": "execute_result"
    }
   ],
   "source": [
    "arr_grades"
   ]
  },
  {
   "cell_type": "code",
   "execution_count": 16,
   "metadata": {},
   "outputs": [
    {
     "data": {
      "text/plain": [
       "array([74.83314774, 78.74007874, 84.26149773, 67.08203932, 83.66600265])"
      ]
     },
     "execution_count": 16,
     "metadata": {},
     "output_type": "execute_result"
    }
   ],
   "source": [
    "np.sqrt(arr_grades)*10"
   ]
  },
  {
   "cell_type": "code",
   "execution_count": 17,
   "metadata": {},
   "outputs": [
    {
     "data": {
      "text/plain": [
       "array([89.83314774, 93.74007874, 99.26149773, 82.08203932, 98.66600265])"
      ]
     },
     "execution_count": 17,
     "metadata": {},
     "output_type": "execute_result"
    }
   ],
   "source": [
    "np.sqrt(arr_grades)*10+15"
   ]
  },
  {
   "cell_type": "code",
   "execution_count": 18,
   "metadata": {},
   "outputs": [],
   "source": [
    "arr_new_grades = np.sqrt(arr_grades)*10+15"
   ]
  },
  {
   "cell_type": "code",
   "execution_count": 19,
   "metadata": {},
   "outputs": [
    {
     "data": {
      "text/plain": [
       "array([89.83314774, 93.74007874, 99.26149773, 82.08203932, 98.66600265])"
      ]
     },
     "execution_count": 19,
     "metadata": {},
     "output_type": "execute_result"
    }
   ],
   "source": [
    "arr_new_grades"
   ]
  },
  {
   "cell_type": "code",
   "execution_count": 20,
   "metadata": {},
   "outputs": [
    {
     "data": {
      "text/plain": [
       "92.71655323715235"
      ]
     },
     "execution_count": 20,
     "metadata": {},
     "output_type": "execute_result"
    }
   ],
   "source": [
    "arr_new_grades.mean()"
   ]
  },
  {
   "cell_type": "code",
   "execution_count": 21,
   "metadata": {},
   "outputs": [
    {
     "data": {
      "text/plain": [
       "6.33540471768489"
      ]
     },
     "execution_count": 21,
     "metadata": {},
     "output_type": "execute_result"
    }
   ],
   "source": [
    "arr_new_grades.std()"
   ]
  },
  {
   "cell_type": "markdown",
   "metadata": {},
   "source": [
    "###  brocasting"
   ]
  },
  {
   "cell_type": "code",
   "execution_count": 22,
   "metadata": {},
   "outputs": [
    {
     "data": {
      "text/plain": [
       "array([ 8,  9, 10, 14, 17])"
      ]
     },
     "execution_count": 22,
     "metadata": {},
     "output_type": "execute_result"
    }
   ],
   "source": [
    "np.array([3,4,5,9,12])+5"
   ]
  },
  {
   "cell_type": "code",
   "execution_count": 23,
   "metadata": {},
   "outputs": [],
   "source": [
    "mygrades = np.array([89,99,60])"
   ]
  },
  {
   "cell_type": "code",
   "execution_count": 24,
   "metadata": {},
   "outputs": [],
   "source": [
    "weights = np.array([0.3, 0.4, 0.3])"
   ]
  },
  {
   "cell_type": "code",
   "execution_count": 26,
   "metadata": {},
   "outputs": [],
   "source": [
    "g=mygrades*weights"
   ]
  },
  {
   "cell_type": "code",
   "execution_count": 27,
   "metadata": {},
   "outputs": [
    {
     "data": {
      "text/plain": [
       "84.3"
      ]
     },
     "execution_count": 27,
     "metadata": {},
     "output_type": "execute_result"
    }
   ],
   "source": [
    "g.sum()"
   ]
  },
  {
   "cell_type": "code",
   "execution_count": 28,
   "metadata": {},
   "outputs": [
    {
     "data": {
      "text/plain": [
       "84.3"
      ]
     },
     "execution_count": 28,
     "metadata": {},
     "output_type": "execute_result"
    }
   ],
   "source": [
    "np.dot(mygrades,weights)"
   ]
  },
  {
   "cell_type": "code",
   "execution_count": 29,
   "metadata": {},
   "outputs": [
    {
     "data": {
      "text/plain": [
       "84.3"
      ]
     },
     "execution_count": 29,
     "metadata": {},
     "output_type": "execute_result"
    }
   ],
   "source": [
    "mygrades @ weights"
   ]
  },
  {
   "cell_type": "markdown",
   "metadata": {},
   "source": [
    "### 不同 shape 轉換"
   ]
  },
  {
   "cell_type": "markdown",
   "metadata": {},
   "source": [
    "#### 0 階 array (0階 tensor)"
   ]
  },
  {
   "cell_type": "code",
   "execution_count": 30,
   "metadata": {},
   "outputs": [],
   "source": [
    "egg = 94.87"
   ]
  },
  {
   "cell_type": "markdown",
   "metadata": {},
   "source": [
    "#### 1 階 array (1 階 tensor)"
   ]
  },
  {
   "cell_type": "code",
   "execution_count": 31,
   "metadata": {},
   "outputs": [],
   "source": [
    "egg = np.array([9,4,8,7])"
   ]
  },
  {
   "cell_type": "markdown",
   "metadata": {},
   "source": [
    "#### 2 階 array (2 階 tensor)"
   ]
  },
  {
   "cell_type": "code",
   "execution_count": 33,
   "metadata": {},
   "outputs": [],
   "source": [
    "A=np.array([[1,2,3],[4,5,6]])"
   ]
  },
  {
   "cell_type": "code",
   "execution_count": 34,
   "metadata": {},
   "outputs": [
    {
     "data": {
      "text/plain": [
       "array([[1, 2, 3],\n",
       "       [4, 5, 6]])"
      ]
     },
     "execution_count": 34,
     "metadata": {},
     "output_type": "execute_result"
    }
   ],
   "source": [
    "A"
   ]
  },
  {
   "cell_type": "code",
   "execution_count": 35,
   "metadata": {},
   "outputs": [],
   "source": [
    "B = np.array([3,9,6,12,8,20,1,10,7])"
   ]
  },
  {
   "cell_type": "code",
   "execution_count": 36,
   "metadata": {},
   "outputs": [
    {
     "data": {
      "text/plain": [
       "array([ 3,  9,  6, 12,  8, 20,  1, 10,  7])"
      ]
     },
     "execution_count": 36,
     "metadata": {},
     "output_type": "execute_result"
    }
   ],
   "source": [
    "B"
   ]
  },
  {
   "cell_type": "code",
   "execution_count": 37,
   "metadata": {},
   "outputs": [
    {
     "data": {
      "text/plain": [
       "array([[ 3,  9,  6],\n",
       "       [12,  8, 20],\n",
       "       [ 1, 10,  7]])"
      ]
     },
     "execution_count": 37,
     "metadata": {},
     "output_type": "execute_result"
    }
   ],
   "source": [
    "B.reshape(3,3)"
   ]
  },
  {
   "cell_type": "code",
   "execution_count": 38,
   "metadata": {},
   "outputs": [],
   "source": [
    "B=B.reshape(3,3)"
   ]
  },
  {
   "cell_type": "code",
   "execution_count": 39,
   "metadata": {},
   "outputs": [
    {
     "data": {
      "text/plain": [
       "array([[ 3,  9,  6],\n",
       "       [12,  8, 20],\n",
       "       [ 1, 10,  7]])"
      ]
     },
     "execution_count": 39,
     "metadata": {},
     "output_type": "execute_result"
    }
   ],
   "source": [
    "B"
   ]
  },
  {
   "cell_type": "code",
   "execution_count": 40,
   "metadata": {},
   "outputs": [
    {
     "data": {
      "text/plain": [
       "array([[ 30,  55,  67],\n",
       "       [ 78, 136, 166]])"
      ]
     },
     "execution_count": 40,
     "metadata": {},
     "output_type": "execute_result"
    }
   ],
   "source": [
    "A@B"
   ]
  },
  {
   "cell_type": "code",
   "execution_count": 41,
   "metadata": {},
   "outputs": [],
   "source": [
    "C = A@B"
   ]
  },
  {
   "cell_type": "code",
   "execution_count": 42,
   "metadata": {},
   "outputs": [
    {
     "data": {
      "text/plain": [
       "array([[ 30,  55,  67],\n",
       "       [ 78, 136, 166]])"
      ]
     },
     "execution_count": 42,
     "metadata": {},
     "output_type": "execute_result"
    }
   ],
   "source": [
    "C"
   ]
  },
  {
   "cell_type": "code",
   "execution_count": 43,
   "metadata": {},
   "outputs": [
    {
     "data": {
      "text/plain": [
       "array([ 78, 136, 166])"
      ]
     },
     "execution_count": 43,
     "metadata": {},
     "output_type": "execute_result"
    }
   ],
   "source": [
    "C[1]"
   ]
  },
  {
   "cell_type": "code",
   "execution_count": 44,
   "metadata": {},
   "outputs": [
    {
     "data": {
      "text/plain": [
       "136"
      ]
     },
     "execution_count": 44,
     "metadata": {},
     "output_type": "execute_result"
    }
   ],
   "source": [
    "C[1,1]"
   ]
  },
  {
   "cell_type": "code",
   "execution_count": 45,
   "metadata": {},
   "outputs": [
    {
     "data": {
      "text/plain": [
       "array([ 67, 166])"
      ]
     },
     "execution_count": 45,
     "metadata": {},
     "output_type": "execute_result"
    }
   ],
   "source": [
    "C[:,2]"
   ]
  },
  {
   "cell_type": "code",
   "execution_count": 46,
   "metadata": {},
   "outputs": [
    {
     "data": {
      "text/plain": [
       "array([[1, 2, 3],\n",
       "       [4, 5, 6]])"
      ]
     },
     "execution_count": 46,
     "metadata": {},
     "output_type": "execute_result"
    }
   ],
   "source": [
    "A"
   ]
  },
  {
   "cell_type": "code",
   "execution_count": 47,
   "metadata": {},
   "outputs": [
    {
     "data": {
      "text/plain": [
       "array([1, 2, 3, 4, 5, 6])"
      ]
     },
     "execution_count": 47,
     "metadata": {},
     "output_type": "execute_result"
    }
   ],
   "source": [
    "A.ravel()"
   ]
  },
  {
   "cell_type": "code",
   "execution_count": 48,
   "metadata": {},
   "outputs": [],
   "source": [
    "X = np.array([3,9,1,3,-5,1,2])"
   ]
  },
  {
   "cell_type": "markdown",
   "metadata": {},
   "source": [
    "要變成這樣:\n",
    "\n",
    "      [[3],[9],[1]...]"
   ]
  },
  {
   "cell_type": "code",
   "execution_count": 49,
   "metadata": {},
   "outputs": [
    {
     "data": {
      "text/plain": [
       "array([[ 3],\n",
       "       [ 9],\n",
       "       [ 1],\n",
       "       [ 3],\n",
       "       [-5],\n",
       "       [ 1],\n",
       "       [ 2]])"
      ]
     },
     "execution_count": 49,
     "metadata": {},
     "output_type": "execute_result"
    }
   ],
   "source": [
    "X.reshape(7,1)"
   ]
  },
  {
   "cell_type": "code",
   "execution_count": 50,
   "metadata": {},
   "outputs": [
    {
     "data": {
      "text/plain": [
       "array([[ 3],\n",
       "       [ 9],\n",
       "       [ 1],\n",
       "       [ 3],\n",
       "       [-5],\n",
       "       [ 1],\n",
       "       [ 2]])"
      ]
     },
     "execution_count": 50,
     "metadata": {},
     "output_type": "execute_result"
    }
   ],
   "source": [
    "X.reshape(len(X),1)"
   ]
  },
  {
   "cell_type": "markdown",
   "metadata": {},
   "source": [
    "### array 的 filter 功能"
   ]
  },
  {
   "cell_type": "code",
   "execution_count": 52,
   "metadata": {},
   "outputs": [],
   "source": [
    "grades=np.array([59,30,25,65,60,100,85,8])"
   ]
  },
  {
   "cell_type": "code",
   "execution_count": 55,
   "metadata": {},
   "outputs": [],
   "source": [
    "passed=np.array([False, False ,False, True, True, True, True, False])"
   ]
  },
  {
   "cell_type": "code",
   "execution_count": 56,
   "metadata": {},
   "outputs": [
    {
     "data": {
      "text/plain": [
       "array([ 65,  60, 100,  85])"
      ]
     },
     "execution_count": 56,
     "metadata": {},
     "output_type": "execute_result"
    }
   ],
   "source": [
    "grades[passed]"
   ]
  },
  {
   "cell_type": "code",
   "execution_count": 58,
   "metadata": {},
   "outputs": [],
   "source": [
    "passed= grades >= 60"
   ]
  },
  {
   "cell_type": "code",
   "execution_count": 59,
   "metadata": {},
   "outputs": [
    {
     "data": {
      "text/plain": [
       "array([False, False, False,  True,  True,  True,  True, False])"
      ]
     },
     "execution_count": 59,
     "metadata": {},
     "output_type": "execute_result"
    }
   ],
   "source": [
    "passed"
   ]
  },
  {
   "cell_type": "code",
   "execution_count": 60,
   "metadata": {},
   "outputs": [
    {
     "data": {
      "text/plain": [
       "array([ 65,  60, 100,  85])"
      ]
     },
     "execution_count": 60,
     "metadata": {},
     "output_type": "execute_result"
    }
   ],
   "source": [
    "grades[passed]"
   ]
  },
  {
   "cell_type": "code",
   "execution_count": 61,
   "metadata": {},
   "outputs": [
    {
     "data": {
      "text/plain": [
       "array([ 65,  60, 100,  85])"
      ]
     },
     "execution_count": 61,
     "metadata": {},
     "output_type": "execute_result"
    }
   ],
   "source": [
    "grades[grades>=60]"
   ]
  },
  {
   "cell_type": "code",
   "execution_count": 64,
   "metadata": {},
   "outputs": [
    {
     "data": {
      "text/plain": [
       "array([ True,  True,  True, False,  True, False, False,  True])"
      ]
     },
     "execution_count": 64,
     "metadata": {},
     "output_type": "execute_result"
    }
   ],
   "source": [
    "(grades<=60)&(grades<80)"
   ]
  },
  {
   "cell_type": "code",
   "execution_count": 66,
   "metadata": {},
   "outputs": [
    {
     "data": {
      "text/plain": [
       "array([59, 30, 25, 60,  8])"
      ]
     },
     "execution_count": 66,
     "metadata": {},
     "output_type": "execute_result"
    }
   ],
   "source": [
    "grades[(grades<=60)&(grades<80)]"
   ]
  },
  {
   "cell_type": "markdown",
   "metadata": {},
   "source": [
    "### 畫圖"
   ]
  },
  {
   "cell_type": "code",
   "execution_count": 67,
   "metadata": {},
   "outputs": [],
   "source": [
    "n= np.pi"
   ]
  },
  {
   "cell_type": "code",
   "execution_count": 69,
   "metadata": {},
   "outputs": [],
   "source": [
    "x= np.linspace(-2*n,2*n,1000)"
   ]
  },
  {
   "cell_type": "code",
   "execution_count": 70,
   "metadata": {},
   "outputs": [
    {
     "data": {
      "text/plain": [
       "array([-6.28318531, -6.27060636, -6.25802741, -6.24544846, -6.23286951,\n",
       "       -6.22029056, -6.20771161, -6.19513266, -6.18255371, -6.16997476,\n",
       "       -6.15739581, -6.14481686, -6.13223791, -6.11965896, -6.10708001,\n",
       "       -6.09450106, -6.08192211, -6.06934316, -6.05676422, -6.04418527,\n",
       "       -6.03160632, -6.01902737, -6.00644842, -5.99386947, -5.98129052,\n",
       "       -5.96871157, -5.95613262, -5.94355367, -5.93097472, -5.91839577,\n",
       "       -5.90581682, -5.89323787, -5.88065892, -5.86807997, -5.85550102,\n",
       "       -5.84292207, -5.83034312, -5.81776417, -5.80518522, -5.79260627,\n",
       "       -5.78002732, -5.76744838, -5.75486943, -5.74229048, -5.72971153,\n",
       "       -5.71713258, -5.70455363, -5.69197468, -5.67939573, -5.66681678,\n",
       "       -5.65423783, -5.64165888, -5.62907993, -5.61650098, -5.60392203,\n",
       "       -5.59134308, -5.57876413, -5.56618518, -5.55360623, -5.54102728,\n",
       "       -5.52844833, -5.51586938, -5.50329043, -5.49071148, -5.47813254,\n",
       "       -5.46555359, -5.45297464, -5.44039569, -5.42781674, -5.41523779,\n",
       "       -5.40265884, -5.39007989, -5.37750094, -5.36492199, -5.35234304,\n",
       "       -5.33976409, -5.32718514, -5.31460619, -5.30202724, -5.28944829,\n",
       "       -5.27686934, -5.26429039, -5.25171144, -5.23913249, -5.22655354,\n",
       "       -5.21397459, -5.20139564, -5.1888167 , -5.17623775, -5.1636588 ,\n",
       "       -5.15107985, -5.1385009 , -5.12592195, -5.113343  , -5.10076405,\n",
       "       -5.0881851 , -5.07560615, -5.0630272 , -5.05044825, -5.0378693 ,\n",
       "       -5.02529035, -5.0127114 , -5.00013245, -4.9875535 , -4.97497455,\n",
       "       -4.9623956 , -4.94981665, -4.9372377 , -4.92465875, -4.9120798 ,\n",
       "       -4.89950086, -4.88692191, -4.87434296, -4.86176401, -4.84918506,\n",
       "       -4.83660611, -4.82402716, -4.81144821, -4.79886926, -4.78629031,\n",
       "       -4.77371136, -4.76113241, -4.74855346, -4.73597451, -4.72339556,\n",
       "       -4.71081661, -4.69823766, -4.68565871, -4.67307976, -4.66050081,\n",
       "       -4.64792186, -4.63534291, -4.62276396, -4.61018502, -4.59760607,\n",
       "       -4.58502712, -4.57244817, -4.55986922, -4.54729027, -4.53471132,\n",
       "       -4.52213237, -4.50955342, -4.49697447, -4.48439552, -4.47181657,\n",
       "       -4.45923762, -4.44665867, -4.43407972, -4.42150077, -4.40892182,\n",
       "       -4.39634287, -4.38376392, -4.37118497, -4.35860602, -4.34602707,\n",
       "       -4.33344812, -4.32086918, -4.30829023, -4.29571128, -4.28313233,\n",
       "       -4.27055338, -4.25797443, -4.24539548, -4.23281653, -4.22023758,\n",
       "       -4.20765863, -4.19507968, -4.18250073, -4.16992178, -4.15734283,\n",
       "       -4.14476388, -4.13218493, -4.11960598, -4.10702703, -4.09444808,\n",
       "       -4.08186913, -4.06929018, -4.05671123, -4.04413228, -4.03155334,\n",
       "       -4.01897439, -4.00639544, -3.99381649, -3.98123754, -3.96865859,\n",
       "       -3.95607964, -3.94350069, -3.93092174, -3.91834279, -3.90576384,\n",
       "       -3.89318489, -3.88060594, -3.86802699, -3.85544804, -3.84286909,\n",
       "       -3.83029014, -3.81771119, -3.80513224, -3.79255329, -3.77997434,\n",
       "       -3.76739539, -3.75481644, -3.7422375 , -3.72965855, -3.7170796 ,\n",
       "       -3.70450065, -3.6919217 , -3.67934275, -3.6667638 , -3.65418485,\n",
       "       -3.6416059 , -3.62902695, -3.616448  , -3.60386905, -3.5912901 ,\n",
       "       -3.57871115, -3.5661322 , -3.55355325, -3.5409743 , -3.52839535,\n",
       "       -3.5158164 , -3.50323745, -3.4906585 , -3.47807955, -3.4655006 ,\n",
       "       -3.45292166, -3.44034271, -3.42776376, -3.41518481, -3.40260586,\n",
       "       -3.39002691, -3.37744796, -3.36486901, -3.35229006, -3.33971111,\n",
       "       -3.32713216, -3.31455321, -3.30197426, -3.28939531, -3.27681636,\n",
       "       -3.26423741, -3.25165846, -3.23907951, -3.22650056, -3.21392161,\n",
       "       -3.20134266, -3.18876371, -3.17618476, -3.16360582, -3.15102687,\n",
       "       -3.13844792, -3.12586897, -3.11329002, -3.10071107, -3.08813212,\n",
       "       -3.07555317, -3.06297422, -3.05039527, -3.03781632, -3.02523737,\n",
       "       -3.01265842, -3.00007947, -2.98750052, -2.97492157, -2.96234262,\n",
       "       -2.94976367, -2.93718472, -2.92460577, -2.91202682, -2.89944787,\n",
       "       -2.88686892, -2.87428998, -2.86171103, -2.84913208, -2.83655313,\n",
       "       -2.82397418, -2.81139523, -2.79881628, -2.78623733, -2.77365838,\n",
       "       -2.76107943, -2.74850048, -2.73592153, -2.72334258, -2.71076363,\n",
       "       -2.69818468, -2.68560573, -2.67302678, -2.66044783, -2.64786888,\n",
       "       -2.63528993, -2.62271098, -2.61013203, -2.59755308, -2.58497414,\n",
       "       -2.57239519, -2.55981624, -2.54723729, -2.53465834, -2.52207939,\n",
       "       -2.50950044, -2.49692149, -2.48434254, -2.47176359, -2.45918464,\n",
       "       -2.44660569, -2.43402674, -2.42144779, -2.40886884, -2.39628989,\n",
       "       -2.38371094, -2.37113199, -2.35855304, -2.34597409, -2.33339514,\n",
       "       -2.32081619, -2.30823724, -2.2956583 , -2.28307935, -2.2705004 ,\n",
       "       -2.25792145, -2.2453425 , -2.23276355, -2.2201846 , -2.20760565,\n",
       "       -2.1950267 , -2.18244775, -2.1698688 , -2.15728985, -2.1447109 ,\n",
       "       -2.13213195, -2.119553  , -2.10697405, -2.0943951 , -2.08181615,\n",
       "       -2.0692372 , -2.05665825, -2.0440793 , -2.03150035, -2.01892141,\n",
       "       -2.00634246, -1.99376351, -1.98118456, -1.96860561, -1.95602666,\n",
       "       -1.94344771, -1.93086876, -1.91828981, -1.90571086, -1.89313191,\n",
       "       -1.88055296, -1.86797401, -1.85539506, -1.84281611, -1.83023716,\n",
       "       -1.81765821, -1.80507926, -1.79250031, -1.77992136, -1.76734241,\n",
       "       -1.75476346, -1.74218451, -1.72960557, -1.71702662, -1.70444767,\n",
       "       -1.69186872, -1.67928977, -1.66671082, -1.65413187, -1.64155292,\n",
       "       -1.62897397, -1.61639502, -1.60381607, -1.59123712, -1.57865817,\n",
       "       -1.56607922, -1.55350027, -1.54092132, -1.52834237, -1.51576342,\n",
       "       -1.50318447, -1.49060552, -1.47802657, -1.46544762, -1.45286867,\n",
       "       -1.44028973, -1.42771078, -1.41513183, -1.40255288, -1.38997393,\n",
       "       -1.37739498, -1.36481603, -1.35223708, -1.33965813, -1.32707918,\n",
       "       -1.31450023, -1.30192128, -1.28934233, -1.27676338, -1.26418443,\n",
       "       -1.25160548, -1.23902653, -1.22644758, -1.21386863, -1.20128968,\n",
       "       -1.18871073, -1.17613178, -1.16355283, -1.15097389, -1.13839494,\n",
       "       -1.12581599, -1.11323704, -1.10065809, -1.08807914, -1.07550019,\n",
       "       -1.06292124, -1.05034229, -1.03776334, -1.02518439, -1.01260544,\n",
       "       -1.00002649, -0.98744754, -0.97486859, -0.96228964, -0.94971069,\n",
       "       -0.93713174, -0.92455279, -0.91197384, -0.89939489, -0.88681594,\n",
       "       -0.87423699, -0.86165805, -0.8490791 , -0.83650015, -0.8239212 ,\n",
       "       -0.81134225, -0.7987633 , -0.78618435, -0.7736054 , -0.76102645,\n",
       "       -0.7484475 , -0.73586855, -0.7232896 , -0.71071065, -0.6981317 ,\n",
       "       -0.68555275, -0.6729738 , -0.66039485, -0.6478159 , -0.63523695,\n",
       "       -0.622658  , -0.61007905, -0.5975001 , -0.58492115, -0.57234221,\n",
       "       -0.55976326, -0.54718431, -0.53460536, -0.52202641, -0.50944746,\n",
       "       -0.49686851, -0.48428956, -0.47171061, -0.45913166, -0.44655271,\n",
       "       -0.43397376, -0.42139481, -0.40881586, -0.39623691, -0.38365796,\n",
       "       -0.37107901, -0.35850006, -0.34592111, -0.33334216, -0.32076321,\n",
       "       -0.30818426, -0.29560531, -0.28302637, -0.27044742, -0.25786847,\n",
       "       -0.24528952, -0.23271057, -0.22013162, -0.20755267, -0.19497372,\n",
       "       -0.18239477, -0.16981582, -0.15723687, -0.14465792, -0.13207897,\n",
       "       -0.11950002, -0.10692107, -0.09434212, -0.08176317, -0.06918422,\n",
       "       -0.05660527, -0.04402632, -0.03144737, -0.01886842, -0.00628947,\n",
       "        0.00628947,  0.01886842,  0.03144737,  0.04402632,  0.05660527,\n",
       "        0.06918422,  0.08176317,  0.09434212,  0.10692107,  0.11950002,\n",
       "        0.13207897,  0.14465792,  0.15723687,  0.16981582,  0.18239477,\n",
       "        0.19497372,  0.20755267,  0.22013162,  0.23271057,  0.24528952,\n",
       "        0.25786847,  0.27044742,  0.28302637,  0.29560531,  0.30818426,\n",
       "        0.32076321,  0.33334216,  0.34592111,  0.35850006,  0.37107901,\n",
       "        0.38365796,  0.39623691,  0.40881586,  0.42139481,  0.43397376,\n",
       "        0.44655271,  0.45913166,  0.47171061,  0.48428956,  0.49686851,\n",
       "        0.50944746,  0.52202641,  0.53460536,  0.54718431,  0.55976326,\n",
       "        0.57234221,  0.58492115,  0.5975001 ,  0.61007905,  0.622658  ,\n",
       "        0.63523695,  0.6478159 ,  0.66039485,  0.6729738 ,  0.68555275,\n",
       "        0.6981317 ,  0.71071065,  0.7232896 ,  0.73586855,  0.7484475 ,\n",
       "        0.76102645,  0.7736054 ,  0.78618435,  0.7987633 ,  0.81134225,\n",
       "        0.8239212 ,  0.83650015,  0.8490791 ,  0.86165805,  0.87423699,\n",
       "        0.88681594,  0.89939489,  0.91197384,  0.92455279,  0.93713174,\n",
       "        0.94971069,  0.96228964,  0.97486859,  0.98744754,  1.00002649,\n",
       "        1.01260544,  1.02518439,  1.03776334,  1.05034229,  1.06292124,\n",
       "        1.07550019,  1.08807914,  1.10065809,  1.11323704,  1.12581599,\n",
       "        1.13839494,  1.15097389,  1.16355283,  1.17613178,  1.18871073,\n",
       "        1.20128968,  1.21386863,  1.22644758,  1.23902653,  1.25160548,\n",
       "        1.26418443,  1.27676338,  1.28934233,  1.30192128,  1.31450023,\n",
       "        1.32707918,  1.33965813,  1.35223708,  1.36481603,  1.37739498,\n",
       "        1.38997393,  1.40255288,  1.41513183,  1.42771078,  1.44028973,\n",
       "        1.45286867,  1.46544762,  1.47802657,  1.49060552,  1.50318447,\n",
       "        1.51576342,  1.52834237,  1.54092132,  1.55350027,  1.56607922,\n",
       "        1.57865817,  1.59123712,  1.60381607,  1.61639502,  1.62897397,\n",
       "        1.64155292,  1.65413187,  1.66671082,  1.67928977,  1.69186872,\n",
       "        1.70444767,  1.71702662,  1.72960557,  1.74218451,  1.75476346,\n",
       "        1.76734241,  1.77992136,  1.79250031,  1.80507926,  1.81765821,\n",
       "        1.83023716,  1.84281611,  1.85539506,  1.86797401,  1.88055296,\n",
       "        1.89313191,  1.90571086,  1.91828981,  1.93086876,  1.94344771,\n",
       "        1.95602666,  1.96860561,  1.98118456,  1.99376351,  2.00634246,\n",
       "        2.01892141,  2.03150035,  2.0440793 ,  2.05665825,  2.0692372 ,\n",
       "        2.08181615,  2.0943951 ,  2.10697405,  2.119553  ,  2.13213195,\n",
       "        2.1447109 ,  2.15728985,  2.1698688 ,  2.18244775,  2.1950267 ,\n",
       "        2.20760565,  2.2201846 ,  2.23276355,  2.2453425 ,  2.25792145,\n",
       "        2.2705004 ,  2.28307935,  2.2956583 ,  2.30823724,  2.32081619,\n",
       "        2.33339514,  2.34597409,  2.35855304,  2.37113199,  2.38371094,\n",
       "        2.39628989,  2.40886884,  2.42144779,  2.43402674,  2.44660569,\n",
       "        2.45918464,  2.47176359,  2.48434254,  2.49692149,  2.50950044,\n",
       "        2.52207939,  2.53465834,  2.54723729,  2.55981624,  2.57239519,\n",
       "        2.58497414,  2.59755308,  2.61013203,  2.62271098,  2.63528993,\n",
       "        2.64786888,  2.66044783,  2.67302678,  2.68560573,  2.69818468,\n",
       "        2.71076363,  2.72334258,  2.73592153,  2.74850048,  2.76107943,\n",
       "        2.77365838,  2.78623733,  2.79881628,  2.81139523,  2.82397418,\n",
       "        2.83655313,  2.84913208,  2.86171103,  2.87428998,  2.88686892,\n",
       "        2.89944787,  2.91202682,  2.92460577,  2.93718472,  2.94976367,\n",
       "        2.96234262,  2.97492157,  2.98750052,  3.00007947,  3.01265842,\n",
       "        3.02523737,  3.03781632,  3.05039527,  3.06297422,  3.07555317,\n",
       "        3.08813212,  3.10071107,  3.11329002,  3.12586897,  3.13844792,\n",
       "        3.15102687,  3.16360582,  3.17618476,  3.18876371,  3.20134266,\n",
       "        3.21392161,  3.22650056,  3.23907951,  3.25165846,  3.26423741,\n",
       "        3.27681636,  3.28939531,  3.30197426,  3.31455321,  3.32713216,\n",
       "        3.33971111,  3.35229006,  3.36486901,  3.37744796,  3.39002691,\n",
       "        3.40260586,  3.41518481,  3.42776376,  3.44034271,  3.45292166,\n",
       "        3.4655006 ,  3.47807955,  3.4906585 ,  3.50323745,  3.5158164 ,\n",
       "        3.52839535,  3.5409743 ,  3.55355325,  3.5661322 ,  3.57871115,\n",
       "        3.5912901 ,  3.60386905,  3.616448  ,  3.62902695,  3.6416059 ,\n",
       "        3.65418485,  3.6667638 ,  3.67934275,  3.6919217 ,  3.70450065,\n",
       "        3.7170796 ,  3.72965855,  3.7422375 ,  3.75481644,  3.76739539,\n",
       "        3.77997434,  3.79255329,  3.80513224,  3.81771119,  3.83029014,\n",
       "        3.84286909,  3.85544804,  3.86802699,  3.88060594,  3.89318489,\n",
       "        3.90576384,  3.91834279,  3.93092174,  3.94350069,  3.95607964,\n",
       "        3.96865859,  3.98123754,  3.99381649,  4.00639544,  4.01897439,\n",
       "        4.03155334,  4.04413228,  4.05671123,  4.06929018,  4.08186913,\n",
       "        4.09444808,  4.10702703,  4.11960598,  4.13218493,  4.14476388,\n",
       "        4.15734283,  4.16992178,  4.18250073,  4.19507968,  4.20765863,\n",
       "        4.22023758,  4.23281653,  4.24539548,  4.25797443,  4.27055338,\n",
       "        4.28313233,  4.29571128,  4.30829023,  4.32086918,  4.33344812,\n",
       "        4.34602707,  4.35860602,  4.37118497,  4.38376392,  4.39634287,\n",
       "        4.40892182,  4.42150077,  4.43407972,  4.44665867,  4.45923762,\n",
       "        4.47181657,  4.48439552,  4.49697447,  4.50955342,  4.52213237,\n",
       "        4.53471132,  4.54729027,  4.55986922,  4.57244817,  4.58502712,\n",
       "        4.59760607,  4.61018502,  4.62276396,  4.63534291,  4.64792186,\n",
       "        4.66050081,  4.67307976,  4.68565871,  4.69823766,  4.71081661,\n",
       "        4.72339556,  4.73597451,  4.74855346,  4.76113241,  4.77371136,\n",
       "        4.78629031,  4.79886926,  4.81144821,  4.82402716,  4.83660611,\n",
       "        4.84918506,  4.86176401,  4.87434296,  4.88692191,  4.89950086,\n",
       "        4.9120798 ,  4.92465875,  4.9372377 ,  4.94981665,  4.9623956 ,\n",
       "        4.97497455,  4.9875535 ,  5.00013245,  5.0127114 ,  5.02529035,\n",
       "        5.0378693 ,  5.05044825,  5.0630272 ,  5.07560615,  5.0881851 ,\n",
       "        5.10076405,  5.113343  ,  5.12592195,  5.1385009 ,  5.15107985,\n",
       "        5.1636588 ,  5.17623775,  5.1888167 ,  5.20139564,  5.21397459,\n",
       "        5.22655354,  5.23913249,  5.25171144,  5.26429039,  5.27686934,\n",
       "        5.28944829,  5.30202724,  5.31460619,  5.32718514,  5.33976409,\n",
       "        5.35234304,  5.36492199,  5.37750094,  5.39007989,  5.40265884,\n",
       "        5.41523779,  5.42781674,  5.44039569,  5.45297464,  5.46555359,\n",
       "        5.47813254,  5.49071148,  5.50329043,  5.51586938,  5.52844833,\n",
       "        5.54102728,  5.55360623,  5.56618518,  5.57876413,  5.59134308,\n",
       "        5.60392203,  5.61650098,  5.62907993,  5.64165888,  5.65423783,\n",
       "        5.66681678,  5.67939573,  5.69197468,  5.70455363,  5.71713258,\n",
       "        5.72971153,  5.74229048,  5.75486943,  5.76744838,  5.78002732,\n",
       "        5.79260627,  5.80518522,  5.81776417,  5.83034312,  5.84292207,\n",
       "        5.85550102,  5.86807997,  5.88065892,  5.89323787,  5.90581682,\n",
       "        5.91839577,  5.93097472,  5.94355367,  5.95613262,  5.96871157,\n",
       "        5.98129052,  5.99386947,  6.00644842,  6.01902737,  6.03160632,\n",
       "        6.04418527,  6.05676422,  6.06934316,  6.08192211,  6.09450106,\n",
       "        6.10708001,  6.11965896,  6.13223791,  6.14481686,  6.15739581,\n",
       "        6.16997476,  6.18255371,  6.19513266,  6.20771161,  6.22029056,\n",
       "        6.23286951,  6.24544846,  6.25802741,  6.27060636,  6.28318531])"
      ]
     },
     "execution_count": 70,
     "metadata": {},
     "output_type": "execute_result"
    }
   ],
   "source": [
    "x"
   ]
  },
  {
   "cell_type": "code",
   "execution_count": 71,
   "metadata": {},
   "outputs": [],
   "source": [
    "y=np.sin(x)"
   ]
  },
  {
   "cell_type": "code",
   "execution_count": 72,
   "metadata": {},
   "outputs": [
    {
     "data": {
      "text/plain": [
       "True"
      ]
     },
     "execution_count": 72,
     "metadata": {},
     "output_type": "execute_result"
    }
   ],
   "source": [
    "len(x)==len(y)"
   ]
  },
  {
   "cell_type": "code",
   "execution_count": 73,
   "metadata": {},
   "outputs": [
    {
     "data": {
      "text/plain": [
       "[<matplotlib.lines.Line2D at 0x25b9e977ef0>]"
      ]
     },
     "execution_count": 73,
     "metadata": {},
     "output_type": "execute_result"
    },
    {
     "data": {
      "image/png": "[encoded data removed]",
      "text/plain": [
       "<Figure size 432x288 with 1 Axes>"
      ]
     },
     "metadata": {
      "needs_background": "light"
     },
     "output_type": "display_data"
    }
   ],
   "source": [
    "plt.plot(x,y)"
   ]
  },
  {
   "cell_type": "code",
   "execution_count": 78,
   "metadata": {},
   "outputs": [
    {
     "data": {
      "text/plain": [
       "[<matplotlib.lines.Line2D at 0x25b9eec4a58>]"
      ]
     },
     "execution_count": 78,
     "metadata": {},
     "output_type": "execute_result"
    },
    {
     "data": {
      "image/png": "[encoded data removed]",
      "text/plain": [
       "<Figure size 432x288 with 1 Axes>"
      ]
     },
     "metadata": {
      "needs_background": "light"
     },
     "output_type": "display_data"
    }
   ],
   "source": [
    "plt.scatter(x[y>0],y[y>0],c='#FF235A')\n",
    "plt.plot(x,y)"
   ]
  },
  {
   "cell_type": "markdown",
   "metadata": {},
   "source": [
    "## 模擬數據集"
   ]
  },
  {
   "cell_type": "code",
   "execution_count": 79,
   "metadata": {},
   "outputs": [],
   "source": [
    "x=np.linspace(0,1.3,50)\n",
    "y=np.sin(x)"
   ]
  },
  {
   "cell_type": "code",
   "execution_count": 80,
   "metadata": {},
   "outputs": [
    {
     "data": {
      "text/plain": [
       "<matplotlib.collections.PathCollection at 0x25b9ef49cc0>"
      ]
     },
     "execution_count": 80,
     "metadata": {},
     "output_type": "execute_result"
    },
    {
     "data": {
      "image/png": "[encoded data removed]",
      "text/plain": [
       "<Figure size 432x288 with 1 Axes>"
      ]
     },
     "metadata": {
      "needs_background": "light"
     },
     "output_type": "display_data"
    }
   ],
   "source": [
    "plt.scatter(x,y)"
   ]
  },
  {
   "cell_type": "code",
   "execution_count": 81,
   "metadata": {},
   "outputs": [],
   "source": [
    "noise=0.1*np.random.randn(50)"
   ]
  },
  {
   "cell_type": "code",
   "execution_count": 82,
   "metadata": {},
   "outputs": [
    {
     "data": {
      "text/plain": [
       "<matplotlib.collections.PathCollection at 0x25b9efab748>"
      ]
     },
     "execution_count": 82,
     "metadata": {},
     "output_type": "execute_result"
    },
    {
     "data": {
      "image/png": "[encoded data removed]",
      "text/plain": [
       "<Figure size 432x288 with 1 Axes>"
      ]
     },
     "metadata": {
      "needs_background": "light"
     },
     "output_type": "display_data"
    }
   ],
   "source": [
    "plt.scatter(x,y+noise)"
   ]
  },
  {
   "cell_type": "markdown",
   "metadata": {},
   "source": [
    "### 分類模擬"
   ]
  },
  {
   "cell_type": "code",
   "execution_count": 84,
   "metadata": {},
   "outputs": [],
   "source": [
    "P=np.random.randn(50,2)"
   ]
  },
  {
   "cell_type": "code",
   "execution_count": 85,
   "metadata": {},
   "outputs": [
    {
     "data": {
      "text/plain": [
       "<matplotlib.collections.PathCollection at 0x25b9f0137f0>"
      ]
     },
     "execution_count": 85,
     "metadata": {},
     "output_type": "execute_result"
    },
    {
     "data": {
      "image/png": "[encoded data removed]",
      "text/plain": [
       "<Figure size 432x288 with 1 Axes>"
      ]
     },
     "metadata": {
      "needs_background": "light"
     },
     "output_type": "display_data"
    }
   ],
   "source": [
    "plt.scatter(P[:,0],P[:,1])"
   ]
  },
  {
   "cell_type": "code",
   "execution_count": 88,
   "metadata": {},
   "outputs": [],
   "source": [
    "cl = np.random.randint(1,5,50)"
   ]
  },
  {
   "cell_type": "code",
   "execution_count": 89,
   "metadata": {},
   "outputs": [
    {
     "data": {
      "text/plain": [
       "array([4, 3, 3, 2, 3, 4, 4, 4, 2, 3, 1, 4, 3, 3, 4, 2, 2, 2, 3, 4, 3, 1,\n",
       "       3, 3, 2, 2, 2, 2, 1, 2, 3, 1, 3, 2, 1, 3, 3, 4, 2, 2, 2, 3, 3, 4,\n",
       "       2, 2, 4, 3, 2, 3])"
      ]
     },
     "execution_count": 89,
     "metadata": {},
     "output_type": "execute_result"
    }
   ],
   "source": [
    "cl"
   ]
  },
  {
   "cell_type": "code",
   "execution_count": 91,
   "metadata": {},
   "outputs": [
    {
     "data": {
      "text/plain": [
       "<matplotlib.collections.PathCollection at 0x25ba00a3710>"
      ]
     },
     "execution_count": 91,
     "metadata": {},
     "output_type": "execute_result"
    },
    {
     "data": {
      "image/png": "[encoded data removed]",
      "text/plain": [
       "<Figure size 432x288 with 1 Axes>"
      ]
     },
     "metadata": {
      "needs_background": "light"
     },
     "output_type": "display_data"
    }
   ],
   "source": [
    "plt.scatter(P[:,0],P[:,1],c=cl,s=50,alpha=0.6,cmap='Set3')"
   ]
  },
  {
   "cell_type": "markdown",
   "metadata": {},
   "source": [
    "## SymPy "
   ]
  },
  {
   "cell_type": "code",
   "execution_count": 92,
   "metadata": {},
   "outputs": [
    {
     "data": {
      "text/plain": [
       "0.8333333333333333"
      ]
     },
     "execution_count": 92,
     "metadata": {},
     "output_type": "execute_result"
    }
   ],
   "source": [
    "1/2+1/3"
   ]
  },
  {
   "cell_type": "code",
   "execution_count": 93,
   "metadata": {},
   "outputs": [],
   "source": [
    "import sympy as sp"
   ]
  },
  {
   "cell_type": "code",
   "execution_count": 94,
   "metadata": {},
   "outputs": [
    {
     "data": {
      "text/plain": [
       "0.8333333333333333"
      ]
     },
     "execution_count": 94,
     "metadata": {},
     "output_type": "execute_result"
    }
   ],
   "source": [
    "1/2 + 1/3"
   ]
  },
  {
   "cell_type": "code",
   "execution_count": 95,
   "metadata": {},
   "outputs": [
    {
     "data": {
      "text/latex": [
       "$\\displaystyle \\frac{5}{6}$"
      ],
      "text/plain": [
       "5/6"
      ]
     },
     "execution_count": 95,
     "metadata": {},
     "output_type": "execute_result"
    }
   ],
   "source": [
    "sp.Rational(1,2)+sp.Rational(1,3)"
   ]
  },
  {
   "cell_type": "code",
   "execution_count": 96,
   "metadata": {},
   "outputs": [],
   "source": [
    "sp.init_printing()"
   ]
  },
  {
   "cell_type": "code",
   "execution_count": 97,
   "metadata": {},
   "outputs": [
    {
     "data": {
      "image/png": "[encoded data removed]",
      "text/latex": [
       "$\\displaystyle \\frac{5}{6}$"
      ],
      "text/plain": [
       "5/6"
      ]
     },
     "execution_count": 97,
     "metadata": {},
     "output_type": "execute_result"
    }
   ],
   "source": [
    "sp.Rational(1,2)+sp.Rational(1,3)"
   ]
  },
  {
   "cell_type": "code",
   "execution_count": 98,
   "metadata": {},
   "outputs": [
    {
     "data": {
      "image/png": "[encoded data removed]",
      "text/latex": [
       "$\\displaystyle \\frac{1}{2}$"
      ],
      "text/plain": [
       "1/2"
      ]
     },
     "execution_count": 98,
     "metadata": {},
     "output_type": "execute_result"
    }
   ],
   "source": [
    "sp.sympify(1)/2"
   ]
  },
  {
   "cell_type": "code",
   "execution_count": 99,
   "metadata": {},
   "outputs": [
    {
     "data": {
      "image/png": "[encoded data removed]",
      "text/latex": [
       "$\\displaystyle 0.5$"
      ],
      "text/plain": [
       "0.5"
      ]
     },
     "execution_count": 99,
     "metadata": {},
     "output_type": "execute_result"
    }
   ],
   "source": [
    "1/2"
   ]
  },
  {
   "cell_type": "code",
   "execution_count": 100,
   "metadata": {},
   "outputs": [
    {
     "data": {
      "image/png": "[encoded data removed]",
      "text/latex": [
       "$\\displaystyle \\frac{5}{6}$"
      ],
      "text/plain": [
       "5/6"
      ]
     },
     "execution_count": 100,
     "metadata": {},
     "output_type": "execute_result"
    }
   ],
   "source": [
    "sp.sympify(1)/2+sp.sympify(1)/3"
   ]
  },
  {
   "cell_type": "code",
   "execution_count": 101,
   "metadata": {},
   "outputs": [
    {
     "data": {
      "image/png": "[encoded data removed]",
      "text/latex": [
       "$\\displaystyle \\frac{5}{6}$"
      ],
      "text/plain": [
       "5/6"
      ]
     },
     "execution_count": 101,
     "metadata": {},
     "output_type": "execute_result"
    }
   ],
   "source": [
    "sp.S(1)/2+sp.S(1)/3"
   ]
  },
  {
   "cell_type": "code",
   "execution_count": 102,
   "metadata": {},
   "outputs": [],
   "source": [
    "from sympy import S"
   ]
  },
  {
   "cell_type": "code",
   "execution_count": 103,
   "metadata": {},
   "outputs": [
    {
     "data": {
      "image/png": "[encoded data removed]",
      "text/latex": [
       "$\\displaystyle \\frac{5}{6}$"
      ],
      "text/plain": [
       "5/6"
      ]
     },
     "execution_count": 103,
     "metadata": {},
     "output_type": "execute_result"
    }
   ],
   "source": [
    "S(1)/2+S(1)/3"
   ]
  },
  {
   "cell_type": "code",
   "execution_count": 104,
   "metadata": {},
   "outputs": [
    {
     "data": {
      "image/png": "[encoded data removed]",
      "text/latex": [
       "$\\displaystyle \\sqrt{3}$"
      ],
      "text/plain": [
       "√3"
      ]
     },
     "execution_count": 104,
     "metadata": {},
     "output_type": "execute_result"
    }
   ],
   "source": [
    "sp.sqrt(3)"
   ]
  },
  {
   "cell_type": "code",
   "execution_count": 105,
   "metadata": {},
   "outputs": [
    {
     "data": {
      "image/png": "[encoded data removed]",
      "text/latex": [
       "$\\displaystyle \\pi$"
      ],
      "text/plain": [
       "π"
      ]
     },
     "execution_count": 105,
     "metadata": {},
     "output_type": "execute_result"
    }
   ],
   "source": [
    "sp.pi"
   ]
  },
  {
   "cell_type": "markdown",
   "metadata": {},
   "source": [
    "### 指定變數法"
   ]
  },
  {
   "cell_type": "code",
   "execution_count": 107,
   "metadata": {},
   "outputs": [],
   "source": [
    "x = sp.symbols('x')"
   ]
  },
  {
   "cell_type": "code",
   "execution_count": 108,
   "metadata": {},
   "outputs": [
    {
     "data": {
      "image/png": "[encoded data removed]",
      "text/latex": [
       "$\\displaystyle x$"
      ],
      "text/plain": [
       "x"
      ]
     },
     "execution_count": 108,
     "metadata": {},
     "output_type": "execute_result"
    }
   ],
   "source": [
    "x"
   ]
  },
  {
   "cell_type": "code",
   "execution_count": 109,
   "metadata": {},
   "outputs": [
    {
     "data": {
      "image/png": "[encoded data removed]",
      "text/latex": [
       "$\\displaystyle x^{2}$"
      ],
      "text/plain": [
       " 2\n",
       "x "
      ]
     },
     "execution_count": 109,
     "metadata": {},
     "output_type": "execute_result"
    }
   ],
   "source": [
    "x**2"
   ]
  },
  {
   "cell_type": "code",
   "execution_count": 110,
   "metadata": {},
   "outputs": [],
   "source": [
    "x = sp.symbols(r'\\xi')"
   ]
  },
  {
   "cell_type": "code",
   "execution_count": 111,
   "metadata": {},
   "outputs": [
    {
     "data": {
      "image/png": "[encoded data removed]",
      "text/latex": [
       "$\\displaystyle \\xi$"
      ],
      "text/plain": [
       "\\xi"
      ]
     },
     "execution_count": 111,
     "metadata": {},
     "output_type": "execute_result"
    }
   ],
   "source": [
    "x"
   ]
  },
  {
   "cell_type": "code",
   "execution_count": 113,
   "metadata": {},
   "outputs": [],
   "source": [
    "from sympy.abc  import x"
   ]
  },
  {
   "cell_type": "code",
   "execution_count": 114,
   "metadata": {},
   "outputs": [
    {
     "data": {
      "image/png": "[encoded data removed]",
      "text/latex": [
       "$\\displaystyle x$"
      ],
      "text/plain": [
       "x"
      ]
     },
     "execution_count": 114,
     "metadata": {},
     "output_type": "execute_result"
    }
   ],
   "source": [
    "x"
   ]
  },
  {
   "cell_type": "code",
   "execution_count": 117,
   "metadata": {},
   "outputs": [],
   "source": [
    "f = x**2-3*x+5"
   ]
  },
  {
   "cell_type": "code",
   "execution_count": 118,
   "metadata": {},
   "outputs": [
    {
     "data": {
      "image/png": "[encoded data removed]",
      "text/latex": [
       "$\\displaystyle x^{2} - 3 x + 5$"
      ],
      "text/plain": [
       " 2          \n",
       "x  - 3⋅x + 5"
      ]
     },
     "execution_count": 118,
     "metadata": {},
     "output_type": "execute_result"
    }
   ],
   "source": [
    "f"
   ]
  },
  {
   "cell_type": "code",
   "execution_count": 121,
   "metadata": {},
   "outputs": [
    {
     "data": {
      "image/png": "[encoded data removed]",
      "text/latex": [
       "$\\displaystyle 2 x - 3$"
      ],
      "text/plain": [
       "2⋅x - 3"
      ]
     },
     "execution_count": 121,
     "metadata": {},
     "output_type": "execute_result"
    }
   ],
   "source": [
    "sp.diff(f)"
   ]
  },
  {
   "cell_type": "code",
   "execution_count": 122,
   "metadata": {},
   "outputs": [
    {
     "data": {
      "image/png": "[encoded data removed]",
      "text/latex": [
       "$\\displaystyle \\frac{x^{3}}{3} - \\frac{3 x^{2}}{2} + 5 x$"
      ],
      "text/plain": [
       " 3      2      \n",
       "x    3⋅x       \n",
       "── - ──── + 5⋅x\n",
       "3     2        "
      ]
     },
     "execution_count": 122,
     "metadata": {},
     "output_type": "execute_result"
    }
   ],
   "source": [
    "sp.integrate(f)"
   ]
  },
  {
   "cell_type": "code",
   "execution_count": 123,
   "metadata": {},
   "outputs": [
    {
     "data": {
      "image/png": "[encoded data removed]",
      "text/latex": [
       "$\\displaystyle 3$"
      ],
      "text/plain": [
       "3"
      ]
     },
     "execution_count": 123,
     "metadata": {},
     "output_type": "execute_result"
    }
   ],
   "source": [
    "f.subs(x,2)"
   ]
  },
  {
   "cell_type": "code",
   "execution_count": 124,
   "metadata": {},
   "outputs": [],
   "source": [
    "from sympy.abc import y"
   ]
  },
  {
   "cell_type": "code",
   "execution_count": 125,
   "metadata": {},
   "outputs": [],
   "source": [
    "g = 3*x*y + 2*x -5*y**2"
   ]
  },
  {
   "cell_type": "code",
   "execution_count": 126,
   "metadata": {},
   "outputs": [
    {
     "data": {
      "image/png": "[encoded data removed]",
      "text/latex": [
       "$\\displaystyle 3 x y + 2 x - 5 y^{2}$"
      ],
      "text/plain": [
       "                 2\n",
       "3⋅x⋅y + 2⋅x - 5⋅y "
      ]
     },
     "execution_count": 126,
     "metadata": {},
     "output_type": "execute_result"
    }
   ],
   "source": [
    "g"
   ]
  },
  {
   "cell_type": "code",
   "execution_count": 127,
   "metadata": {},
   "outputs": [
    {
     "data": {
      "image/png": "[encoded data removed]",
      "text/latex": [
       "$\\displaystyle 3 y + 2$"
      ],
      "text/plain": [
       "3⋅y + 2"
      ]
     },
     "execution_count": 127,
     "metadata": {},
     "output_type": "execute_result"
    }
   ],
   "source": [
    "sp.diff(g,x)"
   ]
  },
  {
   "cell_type": "code",
   "execution_count": 128,
   "metadata": {},
   "outputs": [
    {
     "data": {
      "image/png": "[encoded data removed]",
      "text/latex": [
       "$\\displaystyle x^{2} \\left(\\frac{3 y}{2} + 1\\right) - 5 x y^{2}$"
      ],
      "text/plain": [
       " 2 ⎛3⋅y    ⎞        2\n",
       "x ⋅⎜─── + 1⎟ - 5⋅x⋅y \n",
       "   ⎝ 2     ⎠         "
      ]
     },
     "execution_count": 128,
     "metadata": {},
     "output_type": "execute_result"
    }
   ],
   "source": [
    "sp.integrate(g,x)"
   ]
  },
  {
   "cell_type": "markdown",
   "metadata": {},
   "source": [
    "### 微分"
   ]
  },
  {
   "cell_type": "code",
   "execution_count": 129,
   "metadata": {},
   "outputs": [
    {
     "data": {
      "image/png": "[encoded data removed]",
      "text/latex": [
       "$\\displaystyle \\frac{1}{x}$"
      ],
      "text/plain": [
       "1\n",
       "─\n",
       "x"
      ]
     },
     "execution_count": 129,
     "metadata": {},
     "output_type": "execute_result"
    }
   ],
   "source": [
    "sp.diff(sp.log(x),x)"
   ]
  },
  {
   "cell_type": "code",
   "execution_count": 130,
   "metadata": {},
   "outputs": [
    {
     "data": {
      "image/png": "[encoded data removed]",
      "text/latex": [
       "$\\displaystyle \\cos{\\left(x \\right)}$"
      ],
      "text/plain": [
       "cos(x)"
      ]
     },
     "execution_count": 130,
     "metadata": {},
     "output_type": "execute_result"
    }
   ],
   "source": [
    "sp.diff(sp.sin(x))"
   ]
  },
  {
   "cell_type": "code",
   "execution_count": 131,
   "metadata": {},
   "outputs": [
    {
     "data": {
      "image/png": "[encoded data removed]",
      "text/latex": [
       "$\\displaystyle - \\sin{\\left(x \\right)}$"
      ],
      "text/plain": [
       "-sin(x)"
      ]
     },
     "execution_count": 131,
     "metadata": {},
     "output_type": "execute_result"
    }
   ],
   "source": [
    "sp.diff(sp.cos(x))"
   ]
  },
  {
   "cell_type": "markdown",
   "metadata": {},
   "source": [
    "### 積分"
   ]
  },
  {
   "cell_type": "code",
   "execution_count": 132,
   "metadata": {},
   "outputs": [
    {
     "data": {
      "image/png": "[encoded data removed]",
      "text/latex": [
       "$\\displaystyle x \\log{\\left(x \\right)} - x$"
      ],
      "text/plain": [
       "x⋅log(x) - x"
      ]
     },
     "execution_count": 132,
     "metadata": {},
     "output_type": "execute_result"
    }
   ],
   "source": [
    "sp.integrate(sp.log(x))"
   ]
  },
  {
   "cell_type": "code",
   "execution_count": 133,
   "metadata": {},
   "outputs": [
    {
     "data": {
      "image/png": "[encoded data removed]",
      "text/latex": [
       "$\\displaystyle -4 + 5 \\log{\\left(5 \\right)}$"
      ],
      "text/plain": [
       "-4 + 5⋅log(5)"
      ]
     },
     "execution_count": 133,
     "metadata": {},
     "output_type": "execute_result"
    }
   ],
   "source": [
    "sp.integrate(sp.log(x),(x,1,5))"
   ]
  },
  {
   "cell_type": "markdown",
   "metadata": {},
   "source": [
    "### 極限"
   ]
  },
  {
   "cell_type": "code",
   "execution_count": 135,
   "metadata": {},
   "outputs": [
    {
     "data": {
      "image/png": "[encoded data removed]",
      "text/latex": [
       "$\\displaystyle 1$"
      ],
      "text/plain": [
       "1"
      ]
     },
     "execution_count": 135,
     "metadata": {},
     "output_type": "execute_result"
    }
   ],
   "source": [
    "sp.limit(sp.sin(x)/x,x, 0)"
   ]
  },
  {
   "cell_type": "markdown",
   "metadata": {},
   "source": [
    "### 矩陣"
   ]
  },
  {
   "cell_type": "code",
   "execution_count": 141,
   "metadata": {},
   "outputs": [],
   "source": [
    "A = sp.Matrix([[1,2,3],[4,5,7],[7,8,9]])"
   ]
  },
  {
   "cell_type": "code",
   "execution_count": 142,
   "metadata": {},
   "outputs": [
    {
     "data": {
      "text/latex": [
       "$\\displaystyle \\left[\\begin{matrix}1 & 2 & 3\\\\4 & 5 & 7\\\\7 & 8 & 9\\end{matrix}\\right]$"
      ],
      "text/plain": [
       "⎡1  2  3⎤\n",
       "⎢       ⎥\n",
       "⎢4  5  7⎥\n",
       "⎢       ⎥\n",
       "⎣7  8  9⎦"
      ]
     },
     "execution_count": 142,
     "metadata": {},
     "output_type": "execute_result"
    }
   ],
   "source": [
    "A"
   ]
  },
  {
   "cell_type": "code",
   "execution_count": 143,
   "metadata": {},
   "outputs": [
    {
     "data": {
      "text/latex": [
       "$\\displaystyle \\left( \\left[\\begin{matrix}1 & 0 & 0\\\\0 & 1 & 0\\\\0 & 0 & 1\\end{matrix}\\right], \\  \\left( 0, \\  1, \\  2\\right)\\right)$"
      ],
      "text/plain": [
       "⎛⎡1  0  0⎤           ⎞\n",
       "⎜⎢       ⎥           ⎟\n",
       "⎜⎢0  1  0⎥, (0, 1, 2)⎟\n",
       "⎜⎢       ⎥           ⎟\n",
       "⎝⎣0  0  1⎦           ⎠"
      ]
     },
     "execution_count": 143,
     "metadata": {},
     "output_type": "execute_result"
    }
   ],
   "source": [
    "A.rref()"
   ]
  },
  {
   "cell_type": "code",
   "execution_count": 144,
   "metadata": {},
   "outputs": [
    {
     "data": {
      "image/png": "[encoded data removed]",
      "text/latex": [
       "$\\displaystyle 6$"
      ],
      "text/plain": [
       "6"
      ]
     },
     "execution_count": 144,
     "metadata": {},
     "output_type": "execute_result"
    }
   ],
   "source": [
    "A.det()"
   ]
  },
  {
   "cell_type": "code",
   "execution_count": 145,
   "metadata": {},
   "outputs": [
    {
     "data": {
      "text/latex": [
       "$\\displaystyle \\left[\\begin{matrix}- \\frac{11}{6} & 1 & - \\frac{1}{6}\\\\\\frac{13}{6} & -2 & \\frac{5}{6}\\\\- \\frac{1}{2} & 1 & - \\frac{1}{2}\\end{matrix}\\right]$"
      ],
      "text/plain": [
       "⎡-11/6  1   -1/6⎤\n",
       "⎢               ⎥\n",
       "⎢13/6   -2  5/6 ⎥\n",
       "⎢               ⎥\n",
       "⎣-1/2   1   -1/2⎦"
      ]
     },
     "execution_count": 145,
     "metadata": {},
     "output_type": "execute_result"
    }
   ],
   "source": [
    "A.inv()"
   ]
  },
  {
   "cell_type": "code",
   "execution_count": 146,
   "metadata": {},
   "outputs": [
    {
     "data": {
      "image/png": "[encoded data removed]",
      "text/latex": [
       "$\\displaystyle x^{2} - 3 x + 5$"
      ],
      "text/plain": [
       " 2          \n",
       "x  - 3⋅x + 5"
      ]
     },
     "execution_count": 146,
     "metadata": {},
     "output_type": "execute_result"
    }
   ],
   "source": [
    "f"
   ]
  },
  {
   "cell_type": "code",
   "execution_count": 147,
   "metadata": {},
   "outputs": [
    {
     "data": {
      "image/png": "[encoded data removed]",
      "text/plain": [
       "<Figure size 432x288 with 1 Axes>"
      ]
     },
     "metadata": {
      "needs_background": "light"
     },
     "output_type": "display_data"
    },
    {
     "data": {
      "text/plain": [
       "<sympy.plotting.plot.Plot at 0x25bafbb5400>"
      ]
     },
     "execution_count": 147,
     "metadata": {},
     "output_type": "execute_result"
    }
   ],
   "source": [
    "sp.plot(f)"
   ]
  },
  {
   "cell_type": "code",
   "execution_count": 148,
   "metadata": {},
   "outputs": [],
   "source": [
    "g=-x**2"
   ]
  },
  {
   "cell_type": "code",
   "execution_count": 149,
   "metadata": {},
   "outputs": [
    {
     "data": {
      "image/png": "[encoded data removed]",
      "text/plain": [
       "<Figure size 432x288 with 1 Axes>"
      ]
     },
     "metadata": {
      "needs_background": "light"
     },
     "output_type": "display_data"
    },
    {
     "data": {
      "text/plain": [
       "<sympy.plotting.plot.Plot at 0x25bb09efb00>"
      ]
     },
     "execution_count": 149,
     "metadata": {},
     "output_type": "execute_result"
    }
   ],
   "source": [
    "sp.plot(f,g)"
   ]
  },
  {
   "cell_type": "code",
   "execution_count": 151,
   "metadata": {},
   "outputs": [],
   "source": [
    "a=7"
   ]
  },
  {
   "cell_type": "code",
   "execution_count": 153,
   "metadata": {},
   "outputs": [],
   "source": [
    "sp.isprime(a)"
   ]
  },
  {
   "cell_type": "code",
   "execution_count": 155,
   "metadata": {},
   "outputs": [
    {
     "data": {
      "text/plain": [
       "False"
      ]
     },
     "execution_count": 155,
     "metadata": {},
     "output_type": "execute_result"
    }
   ],
   "source": [
    "sp.isprime(9487)"
   ]
  },
  {
   "cell_type": "code",
   "execution_count": 156,
   "metadata": {},
   "outputs": [
    {
     "data": {
      "image/png": "[encoded data removed]",
      "text/latex": [
       "$\\displaystyle 2$"
      ],
      "text/plain": [
       "2"
      ]
     },
     "execution_count": 156,
     "metadata": {},
     "output_type": "execute_result"
    }
   ],
   "source": [
    "sp.prime(1)"
   ]
  },
  {
   "cell_type": "code",
   "execution_count": 157,
   "metadata": {},
   "outputs": [
    {
     "data": {
      "image/png": "[encoded data removed]",
      "text/latex": [
       "$\\displaystyle 3$"
      ],
      "text/plain": [
       "3"
      ]
     },
     "execution_count": 157,
     "metadata": {},
     "output_type": "execute_result"
    }
   ],
   "source": [
    "sp.prime(2)"
   ]
  },
  {
   "cell_type": "code",
   "execution_count": 158,
   "metadata": {},
   "outputs": [
    {
     "data": {
      "image/png": "[encoded data removed]",
      "text/latex": [
       "$\\displaystyle 98849$"
      ],
      "text/plain": [
       "98849"
      ]
     },
     "execution_count": 158,
     "metadata": {},
     "output_type": "execute_result"
    }
   ],
   "source": [
    "sp.prime(9487)"
   ]
  },
  {
   "cell_type": "code",
   "execution_count": 160,
   "metadata": {},
   "outputs": [
    {
     "data": {
      "text/plain": [
       "True"
      ]
     },
     "execution_count": 160,
     "metadata": {},
     "output_type": "execute_result"
    }
   ],
   "source": [
    "sp.isprime(98849)"
   ]
  },
  {
   "cell_type": "code",
   "execution_count": 166,
   "metadata": {},
   "outputs": [
    {
     "ename": "KeyboardInterrupt",
     "evalue": "",
     "output_type": "error",
     "traceback": [
      "\u001b[1;31m---------------------------------------------------------------------------\u001b[0m",
      "\u001b[1;31mKeyboardInterrupt\u001b[0m                         Traceback (most recent call last)",
      "\u001b[1;32m<ipython-input-166-e4103801b476>\u001b[0m in \u001b[0;36m<module>\u001b[1;34m\u001b[0m\n\u001b[0;32m      2\u001b[0m     \u001b[0mi\u001b[0m\u001b[1;33m=\u001b[0m\u001b[0mi\u001b[0m\u001b[1;33m+\u001b[0m\u001b[1;36m999999999\u001b[0m\u001b[1;33m\u001b[0m\u001b[1;33m\u001b[0m\u001b[0m\n\u001b[0;32m      3\u001b[0m     \u001b[0ma\u001b[0m\u001b[1;33m=\u001b[0m\u001b[0msp\u001b[0m\u001b[1;33m.\u001b[0m\u001b[0mprime\u001b[0m\u001b[1;33m(\u001b[0m\u001b[0mi\u001b[0m\u001b[1;33m)\u001b[0m\u001b[1;33m\u001b[0m\u001b[1;33m\u001b[0m\u001b[0m\n\u001b[1;32m----> 4\u001b[1;33m     \u001b[0mb\u001b[0m\u001b[1;33m=\u001b[0m\u001b[0msp\u001b[0m\u001b[1;33m.\u001b[0m\u001b[0mprime\u001b[0m\u001b[1;33m(\u001b[0m\u001b[0mi\u001b[0m\u001b[1;33m+\u001b[0m\u001b[1;36m1\u001b[0m\u001b[1;33m)\u001b[0m\u001b[1;33m\u001b[0m\u001b[1;33m\u001b[0m\u001b[0m\n\u001b[0m\u001b[0;32m      5\u001b[0m \u001b[1;32mif\u001b[0m \u001b[0mb\u001b[0m\u001b[1;33m-\u001b[0m\u001b[0ma\u001b[0m\u001b[1;33m==\u001b[0m\u001b[1;36m2\u001b[0m\u001b[1;33m:\u001b[0m\u001b[1;33m\u001b[0m\u001b[1;33m\u001b[0m\u001b[0m\n\u001b[0;32m      6\u001b[0m         \u001b[0mprint\u001b[0m\u001b[1;33m(\u001b[0m\u001b[1;33m(\u001b[0m\u001b[0ma\u001b[0m\u001b[1;33m,\u001b[0m\u001b[0mb\u001b[0m\u001b[1;33m)\u001b[0m\u001b[1;33m,\u001b[0m\u001b[1;34m'是孿生質數'\u001b[0m\u001b[1;33m)\u001b[0m\u001b[1;33m\u001b[0m\u001b[1;33m\u001b[0m\u001b[0m\n",
      "\u001b[1;32m~\\Anaconda3\\lib\\site-packages\\sympy\\ntheory\\generate.py\u001b[0m in \u001b[0;36mprime\u001b[1;34m(nth)\u001b[0m\n\u001b[0;32m    384\u001b[0m         \u001b[1;32melse\u001b[0m\u001b[1;33m:\u001b[0m\u001b[1;33m\u001b[0m\u001b[1;33m\u001b[0m\u001b[0m\n\u001b[0;32m    385\u001b[0m             \u001b[0ma\u001b[0m \u001b[1;33m=\u001b[0m \u001b[0mmid\u001b[0m \u001b[1;33m+\u001b[0m \u001b[1;36m1\u001b[0m\u001b[1;33m\u001b[0m\u001b[1;33m\u001b[0m\u001b[0m\n\u001b[1;32m--> 386\u001b[1;33m     \u001b[0mn_primes\u001b[0m \u001b[1;33m=\u001b[0m \u001b[0mprimepi\u001b[0m\u001b[1;33m(\u001b[0m\u001b[0ma\u001b[0m \u001b[1;33m-\u001b[0m \u001b[1;36m1\u001b[0m\u001b[1;33m)\u001b[0m\u001b[1;33m\u001b[0m\u001b[1;33m\u001b[0m\u001b[0m\n\u001b[0m\u001b[0;32m    387\u001b[0m     \u001b[1;32mwhile\u001b[0m \u001b[0mn_primes\u001b[0m \u001b[1;33m<\u001b[0m \u001b[0mn\u001b[0m\u001b[1;33m:\u001b[0m\u001b[1;33m\u001b[0m\u001b[1;33m\u001b[0m\u001b[0m\n\u001b[0;32m    388\u001b[0m         \u001b[1;32mif\u001b[0m \u001b[0misprime\u001b[0m\u001b[1;33m(\u001b[0m\u001b[0ma\u001b[0m\u001b[1;33m)\u001b[0m\u001b[1;33m:\u001b[0m\u001b[1;33m\u001b[0m\u001b[1;33m\u001b[0m\u001b[0m\n",
      "\u001b[1;32m~\\Anaconda3\\lib\\site-packages\\sympy\\core\\function.py\u001b[0m in \u001b[0;36m__new__\u001b[1;34m(cls, *args, **options)\u001b[0m\n\u001b[0;32m    456\u001b[0m \u001b[1;33m\u001b[0m\u001b[0m\n\u001b[0;32m    457\u001b[0m         \u001b[0mevaluate\u001b[0m \u001b[1;33m=\u001b[0m \u001b[0moptions\u001b[0m\u001b[1;33m.\u001b[0m\u001b[0mget\u001b[0m\u001b[1;33m(\u001b[0m\u001b[1;34m'evaluate'\u001b[0m\u001b[1;33m,\u001b[0m \u001b[0mglobal_evaluate\u001b[0m\u001b[1;33m[\u001b[0m\u001b[1;36m0\u001b[0m\u001b[1;33m]\u001b[0m\u001b[1;33m)\u001b[0m\u001b[1;33m\u001b[0m\u001b[1;33m\u001b[0m\u001b[0m\n\u001b[1;32m--> 458\u001b[1;33m         \u001b[0mresult\u001b[0m \u001b[1;33m=\u001b[0m \u001b[0msuper\u001b[0m\u001b[1;33m(\u001b[0m\u001b[0mFunction\u001b[0m\u001b[1;33m,\u001b[0m \u001b[0mcls\u001b[0m\u001b[1;33m)\u001b[0m\u001b[1;33m.\u001b[0m\u001b[0m__new__\u001b[0m\u001b[1;33m(\u001b[0m\u001b[0mcls\u001b[0m\u001b[1;33m,\u001b[0m \u001b[1;33m*\u001b[0m\u001b[0margs\u001b[0m\u001b[1;33m,\u001b[0m \u001b[1;33m**\u001b[0m\u001b[0moptions\u001b[0m\u001b[1;33m)\u001b[0m\u001b[1;33m\u001b[0m\u001b[1;33m\u001b[0m\u001b[0m\n\u001b[0m\u001b[0;32m    459\u001b[0m         \u001b[1;32mif\u001b[0m \u001b[0mevaluate\u001b[0m \u001b[1;32mand\u001b[0m \u001b[0misinstance\u001b[0m\u001b[1;33m(\u001b[0m\u001b[0mresult\u001b[0m\u001b[1;33m,\u001b[0m \u001b[0mcls\u001b[0m\u001b[1;33m)\u001b[0m \u001b[1;32mand\u001b[0m \u001b[0mresult\u001b[0m\u001b[1;33m.\u001b[0m\u001b[0margs\u001b[0m\u001b[1;33m:\u001b[0m\u001b[1;33m\u001b[0m\u001b[1;33m\u001b[0m\u001b[0m\n\u001b[0;32m    460\u001b[0m             \u001b[0mpr2\u001b[0m \u001b[1;33m=\u001b[0m \u001b[0mmin\u001b[0m\u001b[1;33m(\u001b[0m\u001b[0mcls\u001b[0m\u001b[1;33m.\u001b[0m\u001b[0m_should_evalf\u001b[0m\u001b[1;33m(\u001b[0m\u001b[0ma\u001b[0m\u001b[1;33m)\u001b[0m \u001b[1;32mfor\u001b[0m \u001b[0ma\u001b[0m \u001b[1;32min\u001b[0m \u001b[0mresult\u001b[0m\u001b[1;33m.\u001b[0m\u001b[0margs\u001b[0m\u001b[1;33m)\u001b[0m\u001b[1;33m\u001b[0m\u001b[1;33m\u001b[0m\u001b[0m\n",
      "\u001b[1;32m~\\Anaconda3\\lib\\site-packages\\sympy\\core\\function.py\u001b[0m in \u001b[0;36m__new__\u001b[1;34m(cls, *args, **options)\u001b[0m\n\u001b[0;32m    275\u001b[0m \u001b[1;33m\u001b[0m\u001b[0m\n\u001b[0;32m    276\u001b[0m         \u001b[1;32mif\u001b[0m \u001b[0mevaluate\u001b[0m\u001b[1;33m:\u001b[0m\u001b[1;33m\u001b[0m\u001b[1;33m\u001b[0m\u001b[0m\n\u001b[1;32m--> 277\u001b[1;33m             \u001b[0mevaluated\u001b[0m \u001b[1;33m=\u001b[0m \u001b[0mcls\u001b[0m\u001b[1;33m.\u001b[0m\u001b[0meval\u001b[0m\u001b[1;33m(\u001b[0m\u001b[1;33m*\u001b[0m\u001b[0margs\u001b[0m\u001b[1;33m)\u001b[0m\u001b[1;33m\u001b[0m\u001b[1;33m\u001b[0m\u001b[0m\n\u001b[0m\u001b[0;32m    278\u001b[0m             \u001b[1;32mif\u001b[0m \u001b[0mevaluated\u001b[0m \u001b[1;32mis\u001b[0m \u001b[1;32mnot\u001b[0m \u001b[1;32mNone\u001b[0m\u001b[1;33m:\u001b[0m\u001b[1;33m\u001b[0m\u001b[1;33m\u001b[0m\u001b[0m\n\u001b[0;32m    279\u001b[0m                 \u001b[1;32mreturn\u001b[0m \u001b[0mevaluated\u001b[0m\u001b[1;33m\u001b[0m\u001b[1;33m\u001b[0m\u001b[0m\n",
      "\u001b[1;32m~\\Anaconda3\\lib\\site-packages\\sympy\\ntheory\\generate.py\u001b[0m in \u001b[0;36meval\u001b[1;34m(cls, n)\u001b[0m\n\u001b[0;32m    499\u001b[0m                     \u001b[0marr2\u001b[0m\u001b[1;33m[\u001b[0m\u001b[0mj\u001b[0m\u001b[1;33m]\u001b[0m \u001b[1;33m-=\u001b[0m \u001b[0marr2\u001b[0m\u001b[1;33m[\u001b[0m\u001b[0mst\u001b[0m\u001b[1;33m]\u001b[0m \u001b[1;33m-\u001b[0m \u001b[0mp\u001b[0m\u001b[1;33m\u001b[0m\u001b[1;33m\u001b[0m\u001b[0m\n\u001b[0;32m    500\u001b[0m                 \u001b[1;32melse\u001b[0m\u001b[1;33m:\u001b[0m\u001b[1;33m\u001b[0m\u001b[1;33m\u001b[0m\u001b[0m\n\u001b[1;32m--> 501\u001b[1;33m                     \u001b[0marr2\u001b[0m\u001b[1;33m[\u001b[0m\u001b[0mj\u001b[0m\u001b[1;33m]\u001b[0m \u001b[1;33m-=\u001b[0m \u001b[0marr1\u001b[0m\u001b[1;33m[\u001b[0m\u001b[0mn\u001b[0m \u001b[1;33m//\u001b[0m \u001b[0mst\u001b[0m\u001b[1;33m]\u001b[0m \u001b[1;33m-\u001b[0m \u001b[0mp\u001b[0m\u001b[1;33m\u001b[0m\u001b[1;33m\u001b[0m\u001b[0m\n\u001b[0m\u001b[0;32m    502\u001b[0m             \u001b[0mlim2\u001b[0m \u001b[1;33m=\u001b[0m \u001b[0mmin\u001b[0m\u001b[1;33m(\u001b[0m\u001b[0mlim\u001b[0m\u001b[1;33m,\u001b[0m \u001b[0mi\u001b[0m \u001b[1;33m*\u001b[0m \u001b[0mi\u001b[0m \u001b[1;33m-\u001b[0m \u001b[1;36m1\u001b[0m\u001b[1;33m)\u001b[0m\u001b[1;33m\u001b[0m\u001b[1;33m\u001b[0m\u001b[0m\n\u001b[0;32m    503\u001b[0m             \u001b[1;32mfor\u001b[0m \u001b[0mj\u001b[0m \u001b[1;32min\u001b[0m \u001b[0mrange\u001b[0m\u001b[1;33m(\u001b[0m\u001b[0mlim\u001b[0m\u001b[1;33m,\u001b[0m \u001b[0mlim2\u001b[0m\u001b[1;33m,\u001b[0m \u001b[1;33m-\u001b[0m\u001b[1;36m1\u001b[0m\u001b[1;33m)\u001b[0m\u001b[1;33m:\u001b[0m\u001b[1;33m\u001b[0m\u001b[1;33m\u001b[0m\u001b[0m\n",
      "\u001b[1;31mKeyboardInterrupt\u001b[0m: "
     ]
    }
   ],
   "source": [
    "for i in range(9999999999):\n",
    "    i=i+999999999\n",
    "    a=sp.prime(i)\n",
    "    b=sp.prime(i+1)\n",
    "if b-a==2:\n",
    "        print((a,b),'是孿生質數')"
   ]
  },
  {
   "cell_type": "code",
   "execution_count": 167,
   "metadata": {},
   "outputs": [
    {
     "data": {
      "image/png": "[encoded data removed]",
      "text/latex": [
       "$\\displaystyle \\pi$"
      ],
      "text/plain": [
       "π"
      ]
     },
     "execution_count": 167,
     "metadata": {},
     "output_type": "execute_result"
    }
   ],
   "source": [
    "sp.pi"
   ]
  },
  {
   "cell_type": "code",
   "execution_count": 168,
   "metadata": {},
   "outputs": [
    {
     "data": {
      "image/png": "[encoded data removed]",
      "text/latex": [
       "$\\displaystyle 3.141592653589793238462643383279502884197169399375105820974944592307816406286208998628034825342117068$"
      ],
      "text/plain": [
       "3.1415926535897932384626433832795028841971693993751058209749445923078164062862\n",
       "08998628034825342117068"
      ]
     },
     "execution_count": 168,
     "metadata": {},
     "output_type": "execute_result"
    }
   ],
   "source": [
    "(sp.pi).n(100)"
   ]
  },
  {
   "cell_type": "code",
   "execution_count": 169,
   "metadata": {},
   "outputs": [],
   "source": [
    "𝜋=sp.pi"
   ]
  },
  {
   "cell_type": "code",
   "execution_count": 170,
   "metadata": {},
   "outputs": [
    {
     "data": {
      "image/png": "[encoded data removed]",
      "text/latex": [
       "$\\displaystyle 3.141592653589793238462643383279502884197169399375105820974944592307816406286208998628034825342117068$"
      ],
      "text/plain": [
       "3.1415926535897932384626433832795028841971693993751058209749445923078164062862\n",
       "08998628034825342117068"
      ]
     },
     "execution_count": 170,
     "metadata": {},
     "output_type": "execute_result"
    }
   ],
   "source": [
    "𝜋.n(100)"
   ]
  },
  {
   "cell_type": "code",
   "execution_count": 178,
   "metadata": {},
   "outputs": [],
   "source": [
    "magic = str(𝜋.n(10000))"
   ]
  },
  {
   "cell_type": "code",
   "execution_count": 179,
   "metadata": {},
   "outputs": [
    {
     "data": {
      "text/plain": [
       "True"
      ]
     },
     "execution_count": 179,
     "metadata": {},
     "output_type": "execute_result"
    }
   ],
   "source": [
    "'0118'in magic"
   ]
  },
  {
   "cell_type": "code",
   "execution_count": null,
   "metadata": {},
   "outputs": [],
   "source": []
  }
 ],
 "metadata": {
  "kernelspec": {
   "display_name": "Python 3",
   "language": "python",
   "name": "python3"
  },
  "language_info": {
   "codemirror_mode": {
    "name": "ipython",
    "version": 3
   },
   "file_extension": ".py",
   "mimetype": "text/x-python",
   "name": "python",
   "nbconvert_exporter": "python",
   "pygments_lexer": "ipython3",
   "version": "3.7.3"
  }
 },
 "nbformat": 4,
 "nbformat_minor": 2
}
