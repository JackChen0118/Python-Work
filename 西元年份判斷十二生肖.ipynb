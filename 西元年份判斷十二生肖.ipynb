{
 "cells": [
  {
   "cell_type": "code",
   "execution_count": 1,
   "metadata": {},
   "outputs": [],
   "source": [
    "%matplotlib inline\n",
    "import numpy as np\n",
    "import matplotlib.pyplot as plt\n",
    "import pandas as pd"
   ]
  },
  {
   "cell_type": "code",
   "execution_count": 17,
   "metadata": {},
   "outputs": [
    {
     "name": "stdout",
     "output_type": "stream",
     "text": [
      "這是一個輸入西元年份判斷自己十二生肖的小工具~\n",
      "註:本工具訂每年陽曆2月為農曆新年\n",
      "請輸入您的出生西元年份 >> 2001\n",
      "請輸入您的陽曆出生月份 >> 1\n",
      "您的生肖為龍\n"
     ]
    }
   ],
   "source": [
    "print('這是一個輸入西元年份判斷自己十二生肖的小工具~')\n",
    "print('註:本工具訂每年陽曆2月為農曆新年')\n",
    "c=int(input('請輸入您的出生西元年份 >> '))\n",
    "m=int(input('請輸入您的陽曆出生月份 >> '))\n",
    "b=(c-1912)%12\n",
    "if(b==0 and m<2):\n",
    "    print('您的生肖為豬')\n",
    "elif(b==0 and m>2):\n",
    "    print('您的生肖為鼠')\n",
    "elif(b==1 and m<2):\n",
    "    print('您的生肖為鼠')\n",
    "elif(b==1 and m>2):\n",
    "    print('您的生肖為牛')\n",
    "elif(b==2 and m<2):\n",
    "    print('您的生肖為牛')\n",
    "elif(b==2 and m>2):\n",
    "    print('您的生肖為虎')\n",
    "elif(b==3 and m<2):\n",
    "    print('您的生肖為虎')\n",
    "elif(b==3 and m>2):\n",
    "    print('您的生肖為兔')\n",
    "elif(b==4 and m<2):\n",
    "    print('您的生肖為兔')\n",
    "elif(b==4 and m>2):\n",
    "    print('您的生肖為龍')\n",
    "elif(b==5 and m<2):\n",
    "    print('您的生肖為龍')\n",
    "elif(b==5 and m>2):\n",
    "    print('您的生肖為蛇')\n",
    "elif(b==6 and m<2):\n",
    "    print('您的生肖為蛇')\n",
    "elif(b==6 and m>2):\n",
    "    print('您的生肖為馬')\n",
    "elif(b==7 and m<2):\n",
    "    print('您的生肖為馬')\n",
    "elif(b==7 and m>2):\n",
    "    print('您的生肖為羊')    \n",
    "elif(b==8 and m<2):\n",
    "    print('您的生肖為羊')    \n",
    "elif(b==8 and m>2):\n",
    "    print('您的生肖為猴')    \n",
    "elif(b==9 and m<2):\n",
    "    print('您的生肖為猴')    \n",
    "elif(b==9 and m>2):\n",
    "    print('您的生肖為雞')    \n",
    "elif(b==10 and m<2):\n",
    "    print('您的生肖為雞')\n",
    "elif(b==10 and m>2):\n",
    "    print('您的生肖為狗')    \n",
    "elif(b==11 and m<2):\n",
    "    print('您的生肖為狗')        \n",
    "elif(b==11 and m>2):\n",
    "    print('您的生肖為豬')        "
   ]
  },
  {
   "cell_type": "code",
   "execution_count": 13,
   "metadata": {},
   "outputs": [],
   "source": []
  },
  {
   "cell_type": "code",
   "execution_count": null,
   "metadata": {},
   "outputs": [],
   "source": []
  },
  {
   "cell_type": "code",
   "execution_count": null,
   "metadata": {},
   "outputs": [],
   "source": []
  }
 ],
 "metadata": {
  "kernelspec": {
   "display_name": "Python 3",
   "language": "python",
   "name": "python3"
  },
  "language_info": {
   "codemirror_mode": {
    "name": "ipython",
    "version": 3
   },
   "file_extension": ".py",
   "mimetype": "text/x-python",
   "name": "python",
   "nbconvert_exporter": "python",
   "pygments_lexer": "ipython3",
   "version": "3.7.3"
  }
 },
 "nbformat": 4,
 "nbformat_minor": 2
}
