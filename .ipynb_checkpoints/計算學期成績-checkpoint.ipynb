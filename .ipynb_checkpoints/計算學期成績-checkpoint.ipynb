{
 "cells": [
  {
   "cell_type": "code",
   "execution_count": 2,
   "metadata": {},
   "outputs": [],
   "source": [
    "%matplotlib inline\n",
    "import numpy as np\n",
    "import matplotlib.pyplot as plt\n",
    "import pandas as pd"
   ]
  },
  {
   "cell_type": "code",
   "execution_count": 3,
   "metadata": {},
   "outputs": [],
   "source": [
    "from ipywidgets import interact\n",
    "from ipywidgets import interact_manual"
   ]
  },
  {
   "cell_type": "code",
   "execution_count": 15,
   "metadata": {},
   "outputs": [
    {
     "name": "stdout",
     "output_type": "stream",
     "text": [
      "請輸入期中考成績>> 87\n",
      "請輸入期中末成績>> 87\n",
      "請輸入平時成績>> 87\n",
      "請輸入其他成績>> 0\n",
      "請輸入期中考占比>> 40\n",
      "請輸入期末考占比>> 40\n",
      "請輸入平時成績占比>> 20\n",
      "請輸入其他成績占比>> 0\n",
      "87.0\n",
      "恭喜你拿到學分囉d(`･∀･)b \n"
     ]
    }
   ],
   "source": [
    "mid=input('請輸入期中考成績>> ')\n",
    "fin=input('請輸入期中末成績>> ')\n",
    "nor=input('請輸入平時成績>> ')\n",
    "oth=input('請輸入其他成績>> ')\n",
    "mid1=input('請輸入期中考占比>> ')\n",
    "fin1=input('請輸入期末考占比>> ')\n",
    "nor1=input('請輸入平時成績占比>> ')\n",
    "oth1=input('請輸入其他成績占比>> ')\n",
    "mid=int(float(mid))\n",
    "fin=int(float(fin))\n",
    "nor=int(float(nor))\n",
    "oth=int(float(oth))\n",
    "mid1=int(float(mid1))\n",
    "fin1=int(float(fin1))\n",
    "nor1=int(float(nor1))\n",
    "oth1=int(float(oth1))\n",
    "mid2=mid*mid1/100\n",
    "fin2=fin*fin1/100\n",
    "nor2=nor*nor1/100\n",
    "oth2=oth*oth1/100\n",
    "x=mid2+fin2+nor2+oth2\n",
    "print(x)\n",
    "if x<60:\n",
    "    print('可惜再加把勁囉(〒︿〒) ')\n",
    "else:\n",
    "    print('恭喜你拿到學分囉d(`･∀･)b ')    "
   ]
  },
  {
   "cell_type": "code",
   "execution_count": null,
   "metadata": {},
   "outputs": [],
   "source": [
    "\n"
   ]
  },
  {
   "cell_type": "code",
   "execution_count": null,
   "metadata": {},
   "outputs": [],
   "source": []
  }
 ],
 "metadata": {
  "kernelspec": {
   "display_name": "Python 3",
   "language": "python",
   "name": "python3"
  },
  "language_info": {
   "codemirror_mode": {
    "name": "ipython",
    "version": 3
   },
   "file_extension": ".py",
   "mimetype": "text/x-python",
   "name": "python",
   "nbconvert_exporter": "python",
   "pygments_lexer": "ipython3",
   "version": "3.7.3"
  }
 },
 "nbformat": 4,
 "nbformat_minor": 2
}
