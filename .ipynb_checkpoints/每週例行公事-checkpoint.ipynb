{
 "cells": [
  {
   "cell_type": "code",
   "execution_count": 1,
   "metadata": {},
   "outputs": [],
   "source": [
    "%matplotlib inline\n",
    "import numpy as np\n",
    "import matplotlib.pyplot as plt\n",
    "import pandas as pd"
   ]
  },
  {
   "cell_type": "code",
   "execution_count": 12,
   "metadata": {},
   "outputs": [
    {
     "name": "stdout",
     "output_type": "stream",
     "text": [
      "Hello~ 這裡是每週例行公事查詢系統\n",
      "星期一為 mon 依序為 tue wed thu fri sat sun\n",
      "請輸入您要查詢的日子: sun\n",
      "放假好好休息吧~\n"
     ]
    }
   ],
   "source": [
    "print('Hello~ 這裡是每週例行公事查詢系統')\n",
    "print('星期一為 mon 依序為 tue wed thu fri sat sun')\n",
    "a=input('請輸入您要查詢的日子: ')\n",
    "if a=='mon':\n",
    "    print('早上排球 晚上劍道')\n",
    "elif a=='tue':\n",
    "    print('中午要去研討二打掃')\n",
    "elif a=='wed':\n",
    "    print('晚上有微積分TA')\n",
    "elif a=='thu':\n",
    "    print('課排滿的一天,做好心理準備吧ㄎㄎ')\n",
    "elif a=='fri':\n",
    "    print('晚上劍道')\n",
    "else :\n",
    "    print('放假好好休息吧~')"
   ]
  },
  {
   "cell_type": "code",
   "execution_count": null,
   "metadata": {},
   "outputs": [],
   "source": []
  },
  {
   "cell_type": "code",
   "execution_count": null,
   "metadata": {},
   "outputs": [],
   "source": []
  }
 ],
 "metadata": {
  "kernelspec": {
   "display_name": "Python 3",
   "language": "python",
   "name": "python3"
  },
  "language_info": {
   "codemirror_mode": {
    "name": "ipython",
    "version": 3
   },
   "file_extension": ".py",
   "mimetype": "text/x-python",
   "name": "python",
   "nbconvert_exporter": "python",
   "pygments_lexer": "ipython3",
   "version": "3.7.3"
  }
 },
 "nbformat": 4,
 "nbformat_minor": 2
}
